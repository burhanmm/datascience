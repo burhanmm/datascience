{
 "cells": [
  {
   "cell_type": "markdown",
   "id": "0eb13b7c-e15f-4014-b66a-ba81751f13ef",
   "metadata": {},
   "source": [
    "## Q1. Create a python program to sort the given list of tuples based on integer value using a lambda function.\n",
    "\n",
    "list1 = [('Sachin Tendulkar', 34357), ('Ricky Ponting', 27483), ('Jack Kallis', 25534), ('Virat Kohli', 24936)]\n"
   ]
  },
  {
   "cell_type": "code",
   "execution_count": 36,
   "id": "b54b96fe-f726-4c80-8c9c-3d0fd7cc8060",
   "metadata": {},
   "outputs": [
    {
     "data": {
      "text/plain": [
       "[('Virat Kohli', 24936),\n",
       " ('Jack Kallis', 25534),\n",
       " ('Ricky Ponting', 27483),\n",
       " ('Sachin Tendulkar', 34357)]"
      ]
     },
     "execution_count": 36,
     "metadata": {},
     "output_type": "execute_result"
    }
   ],
   "source": [
    "list1 = [('Sachin Tendulkar', 34357), ('Ricky Ponting', 27483), ('Jack Kallis', 25534), ('Virat Kohli', 24936)]\n",
    "\n",
    "list(sorted(list1, key=lambda x: x[1]))"
   ]
  },
  {
   "cell_type": "markdown",
   "id": "c08b90f0-3f77-4ad2-bd32-5f0f9fde93a0",
   "metadata": {},
   "source": [
    "## Q2. Write a Python Program to find the squares of all the numbers in the given list of integers using lambda and map functions.\n",
    "[1, 2, 3, 4, 5, 6, 7, 8, 9, 10]"
   ]
  },
  {
   "cell_type": "code",
   "execution_count": null,
   "id": "a7bff7b0-ea8a-4427-acbc-5b641c53b927",
   "metadata": {},
   "outputs": [],
   "source": [
    "l1 = [1, 2, 3, 4, 5, 6, 7, 8, 9, 10]\n",
    "\n",
    "list(map(lambda x : x**2, l1))"
   ]
  },
  {
   "cell_type": "markdown",
   "id": "88aae769-fe96-4966-9639-facb4b9d1474",
   "metadata": {},
   "source": [
    "\n",
    "Q3. Write a python program to convert the given list of integers into a tuple of strings. Use map and lambda functions\n",
    "Given String: [1, 2, 3, 4, 5, 6, 7, 8, 9, 10]\n",
    "Expected output: ('1', '2', '3', '4', '5', '6', '7', '8', '9', '10')\n"
   ]
  },
  {
   "cell_type": "code",
   "execution_count": null,
   "id": "0dbdec3d-86a2-4dab-b59f-0e76d861d105",
   "metadata": {},
   "outputs": [],
   "source": [
    "given = [1, 2, 3, 4, 5, 6, 7, 8, 9, 10]\n",
    "\n",
    "output = tuple(map(lambda x: str(x), given))\n",
    "\n",
    "print(output)"
   ]
  },
  {
   "cell_type": "markdown",
   "id": "f312f61b-b897-46a3-ad26-8593c0f10790",
   "metadata": {},
   "source": [
    "## Q4. Write a python program using reduce function to compute the product of a list containing numbers from 1 to 25.\n"
   ]
  },
  {
   "cell_type": "code",
   "execution_count": null,
   "id": "40f97757-0202-4104-bdae-1c4312fb2dca",
   "metadata": {},
   "outputs": [],
   "source": [
    "from functools import reduce\n",
    "reduce(lambda x,y : x*y, range(1,26))"
   ]
  },
  {
   "cell_type": "markdown",
   "id": "29d4d761-6969-4d13-93aa-12fa57eef775",
   "metadata": {},
   "source": [
    "## Q5. Write a python program to filter the numbers in a given list that are divisible by 2 and 3 using the filter function.\n",
    "[2, 3, 6, 9, 27, 60, 90, 120, 55, 46]\n"
   ]
  },
  {
   "cell_type": "code",
   "execution_count": null,
   "id": "b451a855-c3bb-4bae-9c74-da7b59dbbe6e",
   "metadata": {},
   "outputs": [],
   "source": [
    "lll = [2, 3, 6, 9, 27, 60, 90, 120, 55, 46]\n",
    "\n",
    "list(filter(lambda x : x%2 == 0 and x%3 == 0,lll))"
   ]
  },
  {
   "cell_type": "markdown",
   "id": "75b28971-f263-49ff-9a00-a1eadeacaaf5",
   "metadata": {},
   "source": [
    "## Q6. Write a python program to find palindromes in the given list of strings using lambda and filter function.\n",
    "['python', 'php', 'aba', 'radar', 'level']"
   ]
  },
  {
   "cell_type": "code",
   "execution_count": 34,
   "id": "d7418995-cd04-4127-80cd-7c06bb6683d2",
   "metadata": {},
   "outputs": [
    {
     "data": {
      "text/plain": [
       "['php', 'aba', 'radar', 'level']"
      ]
     },
     "execution_count": 34,
     "metadata": {},
     "output_type": "execute_result"
    }
   ],
   "source": [
    "l6 = ['python', 'php', 'aba', 'radar', 'level']\n",
    "\n",
    "list(filter(lambda x : x == x[-1:-(len(x)+1):-1],l6))"
   ]
  }
 ],
 "metadata": {
  "kernelspec": {
   "display_name": "Python 3 (ipykernel)",
   "language": "python",
   "name": "python3"
  },
  "language_info": {
   "codemirror_mode": {
    "name": "ipython",
    "version": 3
   },
   "file_extension": ".py",
   "mimetype": "text/x-python",
   "name": "python",
   "nbconvert_exporter": "python",
   "pygments_lexer": "ipython3",
   "version": "3.10.8"
  }
 },
 "nbformat": 4,
 "nbformat_minor": 5
}
