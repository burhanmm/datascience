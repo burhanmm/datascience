{
 "cells": [
  {
   "cell_type": "markdown",
   "id": "34ff698c-6c2b-4ce0-a9fc-4908e8646758",
   "metadata": {},
   "source": [
    "## Q1. Explain Class and Object with respect to Object-Oriented Programming. Give a suitable example."
   ]
  },
  {
   "cell_type": "markdown",
   "id": "724d13e3-b1b6-4951-9f77-d42612e0c870",
   "metadata": {},
   "source": [
    "A class is a blueprint or a template for creating objects. It defines the attributes and behaviors that an object of that class will have. A class acts as a blueprint for creating objects, and objects are instances of a class. For example, you might have a class \"Student_Record\" that describes the properties and behaviors of people in general, such as name, age, address, and the courses they are enrolled.\n",
    "\n",
    "An object, on the other hand, is a specific instance of a class. It is an individual entity that has its own attributes and behaviors defined by the class. For example, \"Burhan\" and \"Raza\" are two objects of the \"Person\" class, each with its own set of attributes (name, age, address, etc.) and behaviors.\n",
    "\n",
    "So that in OOP, you first define a class and then create objects from that class. The objects have the same basic structure and behavior as defined in the class, but each object can have its own unique attribute values."
   ]
  },
  {
   "cell_type": "code",
   "execution_count": null,
   "id": "e8ab2543-7f84-4c38-91fd-4f8b2513c354",
   "metadata": {},
   "outputs": [],
   "source": [
    "class Student_Record:\n",
    "    def __init__(self, name, age, address,course):\n",
    "        self.name = name\n",
    "        self.age = age\n",
    "        self.address = address\n",
    "        self.course = course\n",
    "\n",
    "    def data(self):\n",
    "        print(f\"{self.name} is enrolled in {self.course}.\")\n",
    "\n",
    "person1 = Student_Record(\"Burhan\", 30, \"123 Pune\",\"Data Science\")\n",
    "person2 = Student_Record(\"Raza\", 25, \"456 Amravati\",\"Data Analyst\")\n",
    "\n",
    "person1.data()\n",
    "person2.data()"
   ]
  },
  {
   "cell_type": "markdown",
   "id": "a8da6d14-b81f-46a0-ad12-7585e68f3407",
   "metadata": {},
   "source": [
    "## Q2. Name the four pillars of OOPs."
   ]
  },
  {
   "cell_type": "markdown",
   "id": "d154be68-1309-443c-a996-5bc1c87acd48",
   "metadata": {},
   "source": [
    "The four pillars of OOPs are,\n",
    "\n",
    "Abstraction: This refers to the ability of an object to hide its internal complexity and provide a simple and intuitive interface to the outside world. It allows the programmer to focus on the object's behavior and ignore the details of its implementation.\n",
    "\n",
    "Encapsulation: This is the mechanism of wrapping data and functions within an object to protect its internal state and prevent unauthorized access. Encapsulation promotes data hiding and improves the security of an object's internal data.\n",
    "\n",
    "Inheritance: This is a mechanism by which a new class can inherit the attributes and behaviors of an existing class. It allows for the creation of new classes that are based on existing classes, promoting code reuse and reducing the amount of redundant code.\n",
    "\n",
    "Polymorphism: This refers to the ability of an object to take on many forms. It allows objects of different classes to be used interchangeably, providing a uniform interface to the outside world and promoting code flexibility and maintainability."
   ]
  },
  {
   "cell_type": "markdown",
   "id": "125814fc-7f2a-44af-8ae5-28ef9dd081cd",
   "metadata": {},
   "source": [
    "## Q3. Explain why the __init__() function is used. Give a suitable example."
   ]
  },
  {
   "cell_type": "markdown",
   "id": "fa70d3b9-b025-49a2-9ef9-a2ed4de6a369",
   "metadata": {},
   "source": [
    "The __init__ method is a special method in Python that is automatically called when an object of a class is created. It is also known as the constructor and is used to initialize the attributes of an object.\n",
    "\n",
    "The purpose of the __init__ method is to set up the initial state of an object when it is first created. For example, you might use the __init__ method to set the values of instance variables or to allocate memory for any data structures that the object needs.\n",
    "\n",
    "In this example, the Stuent_Record class has four attributes name, age, address and course which are initialized in the __init__ method. When two objects person1 and person2 are created from the Student_Record class, the __init__ method is automatically called and sets the values of the name, age, address and course attributes. The values of the name, age, address and course attributes are then printed for each object.\n",
    "\n",
    "As you can see, the __init__ method provides a convenient way to initialize an object's attributes when it is created, making it easier to manage the state of an object throughout its lifetime."
   ]
  },
  {
   "cell_type": "code",
   "execution_count": null,
   "id": "0bc50654-0153-40d1-9d4b-0b2167382e7c",
   "metadata": {},
   "outputs": [],
   "source": [
    "print(person1.name, person1.age)\n",
    "print(person2.name, person2.age)"
   ]
  },
  {
   "cell_type": "markdown",
   "id": "51e9ee5c-c8be-4fb0-8d36-acf680723e6e",
   "metadata": {},
   "source": [
    "## Q4. Why self is used in OOPs?"
   ]
  },
  {
   "cell_type": "markdown",
   "id": "afe875c0-7c2a-4cc3-8aa6-c8bfedd33822",
   "metadata": {},
   "source": [
    "In OOPs, the self keyword is used to refer to the instance of the object that is calling the method. In other words, it refers to the object on which the method is being invoked.\n",
    "\n",
    "Every method in a Python class takes self as its first argument, which refers to the instance of the object on which the method is being called. By using self you can access the attributes and behaviors of the object within the method. This is particularly useful when you want to modify the state of an object or perform some action based on its current state."
   ]
  },
  {
   "cell_type": "markdown",
   "id": "fbb64541-295c-46ab-bda9-66ae950f661c",
   "metadata": {},
   "source": [
    "## Q5. What is inheritance? Give an example for each type of inheritance"
   ]
  },
  {
   "cell_type": "markdown",
   "id": "d039c1d0-e0f5-4255-8fc0-14381cce8861",
   "metadata": {},
   "source": [
    "Inheritance is a mechanism in OOPs that allows you to create new classes that are based on existing classes. The new class, known as the subclass or derived class, inherits the attributes and behaviors of the existing class, known as the superclass or base class. This allows you to reuse code and create more specialized classes that have additional or modified behavior.\n",
    "\n",
    "There four types of inheritance in OOP,\n",
    "\n"
   ]
  },
  {
   "cell_type": "markdown",
   "id": "83efebdd-c1ff-4bb5-baa4-f21764fe8687",
   "metadata": {},
   "source": [
    "1. Single inheritance: Single inheritance occurs when a subclass inherits from a single base class. This is the simplest form of inheritance and allows  you to create a new class that is based on an existing class.\n"
   ]
  },
  {
   "cell_type": "code",
   "execution_count": null,
   "id": "011ddfa8-2c18-4b04-a531-c3093ca7969d",
   "metadata": {},
   "outputs": [],
   "source": [
    "class Animal:\n",
    "    def __init__(self, species):\n",
    "        self.species = species\n",
    "\n",
    "    def make_sound(self):\n",
    "        print(\"Animal sound\")\n",
    "\n",
    "class Dog(Animal):\n",
    "    def make_sound(self):\n",
    "        print(\"Bark\")\n",
    "\n",
    "dog = Dog(\"bulldog\")\n",
    "dog.make_sound()"
   ]
  },
  {
   "cell_type": "markdown",
   "id": "69c54615-972d-4faf-bec5-becce5adf719",
   "metadata": {},
   "source": [
    "2. Multi-level inheritance: Multi-level inheritance occurs when a subclass inherits from a class that itself inherits from another class. This allows you to create a class hierarchy where each class inherits from a higher-level class and adds additional or specialized behavior."
   ]
  },
  {
   "cell_type": "code",
   "execution_count": 3,
   "id": "661d755d-77f2-42a9-ab82-dfc39a1ab08d",
   "metadata": {},
   "outputs": [
    {
     "name": "stdout",
     "output_type": "stream",
     "text": [
      "this my vehicle collection\n",
      "this is my car collection\n"
     ]
    }
   ],
   "source": [
    "class vehicle :\n",
    "    def vehicle_collection(self) :\n",
    "        print(\"this my vehicle collection\")\n",
    "\n",
    "class car(vehicle) :\n",
    "    def car_collection(self) :\n",
    "        print(\"this is my car collection\")\n",
    "        \n",
    "class mahindra(car) :\n",
    "    def mahindra(self) :\n",
    "        print(\"this is my mahindra thar\")\n",
    "\n",
    "obj = mahindra()\n",
    "\n",
    "obj.vehicle_collection()\n",
    "obj.car_collection()"
   ]
  },
  {
   "cell_type": "markdown",
   "id": "b6d1d82d-4f58-4285-8ba9-71ae575a9ae9",
   "metadata": {},
   "source": [
    "3. Multiple inheritance: Multiple inheritance occurs when a subclass inherits from multiple base classes. This allows you to create a new class that inherits the behavior of multiple existing classes.\n",
    "ruby\n"
   ]
  },
  {
   "cell_type": "code",
   "execution_count": 6,
   "id": "662e719f-e005-482c-ae5d-b2264a7cd363",
   "metadata": {},
   "outputs": [
    {
     "name": "stdout",
     "output_type": "stream",
     "text": [
      "maths marks\n",
      "chemistry marks\n"
     ]
    }
   ],
   "source": [
    "class math:\n",
    "    def math_marks(self) :\n",
    "        print(\"maths marks\")\n",
    "\n",
    "class chemistry:\n",
    "    def chemistry_marks(self) :\n",
    "        print(\"chemistry marks\")\n",
    "    \n",
    "class student(math,chemistry):\n",
    "    pass\n",
    "\n",
    "obj1 = student()\n",
    "\n",
    "obj1.math_marks()\n",
    "obj1.chemistry_marks()"
   ]
  },
  {
   "cell_type": "markdown",
   "id": "7340371a-9fb4-4cb5-bc4f-0d4569ef8afa",
   "metadata": {},
   "source": [
    "4. Hierarchical inheritance: Hierarchical inheritance occurs when multiple subclasses inherit from a single base class. This allows you to create multiple subclasses that are based on"
   ]
  },
  {
   "cell_type": "code",
   "execution_count": 4,
   "id": "f0cfec0a-a30c-448c-a39c-5e7bec0c8c5a",
   "metadata": {},
   "outputs": [
    {
     "name": "stdout",
     "output_type": "stream",
     "text": [
      "abc\n",
      "son of abc\n",
      "abc\n",
      "daughter of abc\n"
     ]
    }
   ],
   "source": [
    "class father:\n",
    "    def father_name(self):\n",
    "        print(\"abc\")\n",
    "\n",
    "class boy(father):\n",
    "    def son_name(self):\n",
    "        print(\"son of abc\")\n",
    "        \n",
    "class girl(father):\n",
    "    def daughter_name(self):\n",
    "        print(\"daughter of abc\")\n",
    "\n",
    "        \n",
    "twin = boy()\n",
    "twin2 = girl()\n",
    "\n",
    "twin.father_name()\n",
    "twin.son_name()\n",
    "\n",
    "twin2.father_name()\n",
    "twin2.daughter_name()\n",
    "\n",
    "# we cannot access son class object from daughter class vice versa\n",
    "\n",
    "        "
   ]
  },
  {
   "cell_type": "code",
   "execution_count": null,
   "id": "d19349eb-0972-48f1-868a-5693bbd107d4",
   "metadata": {},
   "outputs": [],
   "source": []
  }
 ],
 "metadata": {
  "kernelspec": {
   "display_name": "Python 3 (ipykernel)",
   "language": "python",
   "name": "python3"
  },
  "language_info": {
   "codemirror_mode": {
    "name": "ipython",
    "version": 3
   },
   "file_extension": ".py",
   "mimetype": "text/x-python",
   "name": "python",
   "nbconvert_exporter": "python",
   "pygments_lexer": "ipython3",
   "version": "3.10.8"
  }
 },
 "nbformat": 4,
 "nbformat_minor": 5
}
