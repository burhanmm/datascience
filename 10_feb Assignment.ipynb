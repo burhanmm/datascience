{
 "cells": [
  {
   "cell_type": "markdown",
   "id": "70f91a82-beb3-4779-a5d7-80c3af2a1c49",
   "metadata": {},
   "source": [
    "# Q1. Which function is used to open a file? What are the different modes of opening a file? Explain each mode of file opening."
   ]
  },
  {
   "cell_type": "markdown",
   "id": "fbedffff-8b3a-4e02-a39f-79d985d0e28e",
   "metadata": {},
   "source": [
    "In Python, the open() function is used to open a file. It takes two arguments: the file name (including the path, if necessary) and the mode in which to open the file. The different modes in which a file can be opened are:\n",
    "\n",
    "'r': Read mode. This mode is used for reading the contents of a file. If the file does not exist or cannot be opened for reading, an error is raised.\n",
    "\n",
    "'w': Write mode. This mode is used for writing data to a file. If the file does not exist, a new file is created. If the file exists, its contents are truncated.\n",
    "\n",
    "'a': Append mode. This mode is used for appending data to the end of a file. If the file does not exist, a new file is created.\n",
    "\n",
    "'x': Exclusive creation mode. This mode is used for creating a new file, but only if it does not already exist. If the file already exists, an error is raised.\n",
    "\n",
    "'b': Binary mode. This mode is used to open a file in binary mode, which is necessary for working with non-text files like images or audio files.\n",
    "\n",
    "'t': Text mode. This mode is used to open a file in text mode, which is the default mode. In text mode, the contents of the file are treated as text.\n",
    "\n",
    "'+': Update mode. This mode is used for reading and writing to a file.\n",
    "\n",
    "Modes can be combined by using a + character, for example: 'r+' for reading and writing, 'w+' for reading and writing, and 'a+' for reading and appending.\n",
    "\n",
    "It's important to note that when opening a file, it should be closed when you are done with it. This is done using the close() method of the file object. Alternatively, you can use a with block, which automatically closes the file when you are done with it, like this:"
   ]
  },
  {
   "cell_type": "markdown",
   "id": "083a107f-48a0-49f7-b21e-9cb3307c1501",
   "metadata": {},
   "source": [
    "# Q2. Why close() function is used? Why is it important to close a file?"
   ]
  },
  {
   "cell_type": "markdown",
   "id": "d16e86f6-b653-44c1-b54f-bf956ca27dab",
   "metadata": {},
   "source": [
    "In Python, it's crucial to close a file using the close() method or a with block after using it to release system resources and save any buffered data to the file. Failing to do so can cause memory leaks, file corruption, and data loss."
   ]
  },
  {
   "cell_type": "markdown",
   "id": "5161eb94-fbc2-4661-8aa8-271a948d6823",
   "metadata": {},
   "source": [
    "# Q3. Write a python program to create a text file. Write ‘I want to become a Data Scientist’ in that file. Then close the file. Open this file and read the content of the file."
   ]
  },
  {
   "cell_type": "code",
   "execution_count": 8,
   "id": "e08d3e13-045d-48d4-bf15-6ad9b09ad2d0",
   "metadata": {},
   "outputs": [
    {
     "data": {
      "text/plain": [
       "'I want to become a Data Scientist'"
      ]
     },
     "execution_count": 8,
     "metadata": {},
     "output_type": "execute_result"
    }
   ],
   "source": [
    "f1 = open(\"created_file.txt\",\"w\")\n",
    "f1.write(\"I want to become a Data Scientist\")\n",
    "f1.close()\n",
    "\n",
    "f2 = open(\"created_file.txt\",\"r\")\n",
    "f2.read()"
   ]
  },
  {
   "cell_type": "markdown",
   "id": "8aedf939-6bfc-4088-a279-5992aa98e64f",
   "metadata": {},
   "source": [
    "# Q4. Explain the following with python code: read(), readline() and readlines()."
   ]
  },
  {
   "cell_type": "markdown",
   "id": "318f1194-eebc-4756-9008-9efcb2039804",
   "metadata": {},
   "source": [
    "In Python, these are methods that can be used to read data from a file. Here's an explanation and example code for each of these methods:"
   ]
  },
  {
   "cell_type": "code",
   "execution_count": 10,
   "id": "3ac972f2-62c2-40f3-bb06-b0b3ccd7b4c9",
   "metadata": {},
   "outputs": [
    {
     "name": "stdout",
     "output_type": "stream",
     "text": [
      "I want to become a Data Scientist\n"
     ]
    }
   ],
   "source": [
    "# The read() method reads the entire content of the file and returns it as a string.\n",
    "\n",
    "# Open a file in read mode\n",
    "file = open(\"created_file.txt\", \"r\")\n",
    "\n",
    "# Read the entire content of the file\n",
    "content = file.read()\n",
    "\n",
    "# Print the content\n",
    "print(content)\n",
    "\n",
    "# Close the file\n",
    "file.close()"
   ]
  },
  {
   "cell_type": "code",
   "execution_count": 11,
   "id": "a09b0411-1a22-4b39-af47-f2a9c862f233",
   "metadata": {},
   "outputs": [
    {
     "name": "stdout",
     "output_type": "stream",
     "text": [
      "I want to become a Data Scientist\n"
     ]
    }
   ],
   "source": [
    "# The readline() method reads a single line from the file and returns it as a string.\n",
    "\n",
    "# Open a file in read mode\n",
    "file = open(\"created_file.txt\", \"r\")\n",
    "\n",
    "# Read the entire content of the file\n",
    "content = file.read()\n",
    "\n",
    "# Print the content\n",
    "print(content)\n",
    "\n",
    "# Close the file\n",
    "file.close()\n"
   ]
  },
  {
   "cell_type": "code",
   "execution_count": 12,
   "id": "20ac31f3-7ef6-4cb4-a2af-01e3707e2010",
   "metadata": {},
   "outputs": [
    {
     "name": "stdout",
     "output_type": "stream",
     "text": [
      "I want to become a Data Scientist\n"
     ]
    }
   ],
   "source": [
    "# The readlines() method reads all the lines of the file and returns them as a list of strings.\n",
    "\n",
    "# Open a file in read mode\n",
    "file = open(\"created_file.txt\", \"r\")\n",
    "\n",
    "# Read all the lines of the file\n",
    "lines = file.readlines()\n",
    "\n",
    "# Print each line\n",
    "for line in lines:\n",
    "    print(line)\n",
    "\n",
    "# Close the file\n",
    "file.close()\n"
   ]
  },
  {
   "cell_type": "markdown",
   "id": "a583984a-527d-419d-bb85-ee241801256b",
   "metadata": {},
   "source": [
    "# Q5. Explain why with statement is used with open(). What is the advantage of using with statement and open() together?"
   ]
  },
  {
   "cell_type": "markdown",
   "id": "21424875-e14f-47e7-ad4b-42650509eeba",
   "metadata": {},
   "source": [
    "In Python, the with statement is used in conjunction with the open() function to ensure that a file is properly closed after it has been used. The advantage of using with statement and open() together is that it automatically closes the file once it is no longer needed, even if an exception is raised.\n",
    "\n",
    "The with statement creates a context in which the file is open and accessible. Once the block of code within the with statement is executed, the file is automatically closed. This ensures that the file is properly closed even if an error occurs in the code. This is important because if a file is not closed properly, it can lead to resource leaks and other issues"
   ]
  },
  {
   "cell_type": "code",
   "execution_count": 13,
   "id": "9027c279-68e3-4e69-8113-ddff7ba44e0a",
   "metadata": {},
   "outputs": [
    {
     "name": "stdout",
     "output_type": "stream",
     "text": [
      "I want to become a Data Scientist\n"
     ]
    }
   ],
   "source": [
    "with open(\"created_file.txt\", 'r') as f:\n",
    "    content = f.read()\n",
    "    print(content)\n"
   ]
  },
  {
   "cell_type": "markdown",
   "id": "ed2ef98e-8f71-4310-a941-5fd2aee2097d",
   "metadata": {},
   "source": [
    "In this example, the with statement is used to open the file 'created_file' in read mode. The file object is assigned to the variable f. The block of code within the with statement reads the contents of the file using the read() method and prints it. Once the block of code within the with statement is executed, the file is automatically closed.\n",
    "\n",
    "The advantage of using with statement and open() together is that it ensures that the file is properly closed, even if an error occurs. This can help prevent resource leaks and other issues. Additionally, using with statement and open() together is more concise than manually opening and closing the file using try...finally blocks."
   ]
  },
  {
   "cell_type": "markdown",
   "id": "b4d0be06-8dd4-4004-8d14-d7795eba1d6e",
   "metadata": {},
   "source": [
    "# Q6. Explain the write() and writelines() functions. Give a suitable example."
   ]
  },
  {
   "cell_type": "markdown",
   "id": "1925ccc5-cc87-4429-8014-0de4f946aaac",
   "metadata": {},
   "source": [
    "In Python, the write() and writelines() functions are used to write data to a file. Here's an explanation and example code for each of these functions:"
   ]
  },
  {
   "cell_type": "code",
   "execution_count": 14,
   "id": "2d11cb84-8b4d-41ec-a664-2633a8f6a49a",
   "metadata": {},
   "outputs": [],
   "source": [
    "# The write() function is used to write a string to a file.\n",
    "\n",
    "# Open a file in write mode\n",
    "file = open(\"created_file.txt\", \"w\")\n",
    "\n",
    "# Write a string to the file\n",
    "file.write(\"Hello, world!\")\n",
    "\n",
    "# Close the file\n",
    "file.close()\n",
    "\n",
    "# Note that if the file already exists, the write() function will overwrite its contents. If the file doesn't exist, it will be created."
   ]
  },
  {
   "cell_type": "code",
   "execution_count": 15,
   "id": "dfa41852-f462-4127-a0e7-f7268ee577af",
   "metadata": {},
   "outputs": [],
   "source": [
    "# The writelines() function is used to write a list of strings to a file.\n",
    "\n",
    "# Open a file in write mode\n",
    "file = open(\"created_file.txt\", \"w\")\n",
    "\n",
    "# Write a list of strings to the file\n",
    "lines = [\"line 1\\n\", \"line 2\\n\", \"line 3\\n\"]\n",
    "file.writelines(lines)\n",
    "\n",
    "# Close the file\n",
    "file.close()\n",
    "\n",
    "# Note that if the file already exists, the writelines() function will overwrite its contents. If the file doesn't exist, it will be created."
   ]
  }
 ],
 "metadata": {
  "kernelspec": {
   "display_name": "Python 3 (ipykernel)",
   "language": "python",
   "name": "python3"
  },
  "language_info": {
   "codemirror_mode": {
    "name": "ipython",
    "version": 3
   },
   "file_extension": ".py",
   "mimetype": "text/x-python",
   "name": "python",
   "nbconvert_exporter": "python",
   "pygments_lexer": "ipython3",
   "version": "3.10.8"
  }
 },
 "nbformat": 4,
 "nbformat_minor": 5
}
