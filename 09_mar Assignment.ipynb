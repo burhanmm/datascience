{
 "cells": [
  {
   "cell_type": "markdown",
   "id": "06a06804-ff1a-4297-9fcd-20d00aabdb3a",
   "metadata": {
    "tags": []
   },
   "source": [
    "# Q1: What are the Probability Mass Function (PMF) and Probability Density Function (PDF)? Explain with an example.\n",
    "\n",
    "The Probability Mass Function (PMF) is a function that gives the probability of each possible value that a discrete random variable can take. The PMF is defined as follows:\n",
    "\n",
    "P(X = x) = f(x)\n",
    "\n",
    "where X is a discrete random variable and f(x) is the probability of X taking the value x.\n",
    "\n",
    "An example of a PMF could be the number of heads that occur when flipping a coin three times. The PMF would be:\n",
    "\n",
    "f(0) = 1/8\n",
    "f(1) = 3/8\n",
    "f(2) = 3/8\n",
    "f(3) = 1/8\n",
    "\n",
    "The Probability Density Function (PDF) is a function that gives the probability density at each possible value of a continuous random variable. The PDF is defined as follows:\n",
    "\n",
    "f(x) = dF(x)/dx\n",
    "\n",
    "where F(x) is the Cumulative Distribution Function (CDF) of the random variable X.\n",
    "\n",
    "An example of a PDF could be the height of people in a population. The PDF would describe the probability density at each possible height value."
   ]
  },
  {
   "cell_type": "markdown",
   "id": "004ef7a2-33a4-45d9-be76-edfdaceac912",
   "metadata": {},
   "source": [
    "# Q2: What is Cumulative Density Function (CDF)? Explain with an example. Why CDF is used?\n",
    "\n",
    "\n",
    "The Cumulative Density Function (CDF) is a function that gives the probability that a random variable X takes a value less than or equal to a given value x. The CDF is defined as follows:\n",
    "\n",
    "F(x) = P(X ≤ x)\n",
    "\n",
    "An example of a CDF could be the time it takes for a runner to finish a race. The CDF would describe the probability that the runner finishes the race in a time less than or equal to a given time x.\n",
    "\n",
    "The CDF is useful because it allows us to determine the probability of a random variable taking on a range of values, rather than just a single value."
   ]
  },
  {
   "cell_type": "markdown",
   "id": "152befab-0e10-4003-a94f-873f511bfe21",
   "metadata": {},
   "source": [
    "# Q3: What are some examples of situations where the normal distribution might be used as a model? Explain how the parameters of the normal distribution relate to the shape of the distribution.\n",
    "\n",
    "\n",
    "The normal distribution is a continuous probability distribution that is commonly used to model a variety of natural phenomena. It is also known as the Gaussian distribution or the bell curve. The normal distribution is defined by two parameters: the mean (μ) and the standard deviation (σ).\n",
    "\n",
    "Examples of situations where the normal distribution might be used as a model include:\n",
    "\n",
    "Heights or weights of people in a population\n",
    "\n",
    "Test scores in a large group of students\n",
    "\n",
    "Errors in measurements of physical quantities\n",
    "\n",
    "The mean parameter of the normal distribution determines the location of the peak of the distribution, while the standard deviation parameter determines the width of the distribution. A larger standard deviation will result in a wider distribution with more spread-out values."
   ]
  },
  {
   "cell_type": "markdown",
   "id": "006bc2af-db2c-4813-8cf7-18e264332009",
   "metadata": {},
   "source": [
    "# Q4: Explain the importance of Normal Distribution. Give a few real-life examples of Normal Distribution.\n",
    "\n",
    "The normal distribution is important because it is a very versatile model that can be used to describe a wide range of natural phenomena. It is also widely used in statistical analysis and hypothesis testing because of its mathematical properties, such as the Central Limit Theorem.\n",
    "\n",
    "Some real-life examples of normal distribution include:\n",
    "\n",
    "Heights of people in a population\n",
    "\n",
    "Weights of fruits in a basket\n",
    "\n",
    "Test scores in a large group of students\n",
    "\n",
    "Errors in measurements of physical quantities"
   ]
  },
  {
   "cell_type": "markdown",
   "id": "c25705fa-4db9-4502-af3f-a8ff6b85b56f",
   "metadata": {},
   "source": [
    "# Q5: What is Bernaulli Distribution? Give an Example. What is the difference between Bernoulli Distribution and Binomial Distribution?\n",
    "\n",
    "The Bernoulli distribution is a discrete probability distribution that describes the outcomes of a single binary event that can have one of two possible outcomes (usually denoted as success or failure). The Bernoulli distribution is defined by a single parameter p, which is the probability of success.\n",
    "\n",
    "An example of a Bernoulli distribution could be the outcome of flipping a coin, where success is defined as getting heads and failure is defined as getting tails.\n",
    "\n",
    "The main difference between Bernoulli distribution and Binomial distribution is that the Bernoulli distribution describes the outcomes of a single binary event, while the Binomial distribution describes the number of successes in a fixed number of independent binary events"
   ]
  },
  {
   "cell_type": "markdown",
   "id": "a1474f83-bd23-48bb-a044-90545a3dc1b0",
   "metadata": {},
   "source": [
    "# Q6. Consider a dataset with a mean of 50 and a standard deviation of 10. If we assume that the dataset  is normally distributed, what is the probability that a randomly selected observation will be greater than 60? Use the appropriate formula and show your calculations.\n",
    "\n",
    "To find the probability that a randomly selected observation will be greater than 60, we need to use the standard normal distribution formula. We first need to standardize the data, by converting it to z-scores.\n",
    "\n",
    "z = (x - mu) / sigma\n",
    "\n",
    "where\n",
    "x = 60 (the value we want to find the probability for)\n",
    "mu = 50 (mean of the dataset)\n",
    "sigma = 10 (standard deviation of the dataset)\n",
    "\n",
    "Plugging in the values, we get:\n",
    "\n",
    "z = (60 - 50) / 10 = 1\n",
    "\n",
    "Now, we need to find the area to the right of the z-score 1, using a standard normal distribution table or calculator. The table gives the cumulative probability up to a certain z-score, so we need to subtract the cumulative probability up to z = 1 from 1 to get the probability to the right of z = 1.\n",
    "\n",
    "Using the standard normal distribution table, the cumulative probability up to z = 1 is 0.8413. Therefore, the probability to the right of z = 1 is:\n",
    "\n",
    "P(Z > 1) = 1 - P(Z <= 1) = 1 - 0.8413 = 0.1587\n",
    "\n",
    "So, the probability that a randomly selected observation will be greater than 60 is approximately 0.1587 or 15.87%.\n"
   ]
  },
  {
   "cell_type": "markdown",
   "id": "1af11b25-3a4f-491a-8901-8d7c96284cbe",
   "metadata": {},
   "source": [
    "# Q7: Explain uniform Distribution with an example.\n",
    "\n",
    "Uniform distribution is a probability distribution in which all possible outcomes have an equal probability of occurring. In other words, the probability of any event or value occurring in a uniform distribution is the same. The uniform distribution is often used in probability theory and statistics, especially in situations where all possible outcomes are equally likely.\n",
    "\n",
    "An example of a uniform distribution is rolling a fair six-sided die. When we roll a die, we have six possible outcomes, each with an equal probability of 1/6. The probability of rolling a 1 is the same as the probability of rolling a 2, 3, 4, 5 or 6. Thus, we can say that the distribution of outcomes from rolling a fair six-sided die follows a uniform distribution.\n",
    "\n",
    "Another example of uniform distribution is selecting a random number from a range of values. For instance, suppose we have a jar with 100 balls numbered from 1 to 100, and we randomly select a ball from the jar without looking. In this case, each ball has an equal chance of being selected, and thus the probability of selecting any particular ball is 1/100. This also follows a uniform distribution as each number has an equal probability of being selected.\n",
    "\n",
    "Uniform distribution is essential in various fields such as engineering, physics, computer science, and economics. It provides a useful framework for analyzing situations in which there is an equal likelihood of a range of outcomes."
   ]
  },
  {
   "cell_type": "markdown",
   "id": "d25a4e21-6ddc-4b44-b990-49bfeeacc2c3",
   "metadata": {},
   "source": [
    "# Q8: What is the z score? State the importance of the z score.\n",
    "\n",
    "The z-score, also known as the standard score, is a statistical measure that indicates how many standard deviations a data point is from the mean of the distribution. It is calculated by subtracting the mean from the individual data point and then dividing the difference by the standard deviation. The formula for calculating the z-score is:\n",
    "\n",
    "z = (x - μ) / σ\n",
    "\n",
    "where\n",
    "x is the individual data point\n",
    "μ is the mean of the distribution\n",
    "σ is the standard deviation of the distribution\n",
    "\n",
    "The z-score helps us to standardize data and compare different data points that are measured on different scales. It also enables us to compare data from different populations with different means and standard deviations.\n",
    "\n",
    "The importance of the z-score includes the following:\n",
    "\n",
    "Identifying outliers: Z-scores help us to identify outliers in a data set by showing us how far a data point is from the mean. If a data point has a z-score that is greater than 3 or less than -3, it is considered an outlier.\n",
    "\n",
    "Hypothesis testing: Z-scores are used to test hypotheses about population means. When we know the mean and standard deviation of a population, we can use z-scores to calculate the probability of obtaining a sample mean that is different from the population mean.\n",
    "\n",
    "Standardization: Z-scores allow us to standardize data so that we can compare different data sets that have different scales and units of measurement.\n",
    "\n",
    "Normal distribution: Z-scores are used to determine the probabilities associated with a normal distribution. If we know the mean and standard deviation of a normal distribution, we can use z-scores to calculate the probability of obtaining a specific value or range of values.\n",
    "\n",
    "In summary, the z-score is an important statistical measure that helps us to standardize data, identify outliers, test hypotheses, and determine probabilities associated with a normal distribution.\n"
   ]
  },
  {
   "cell_type": "markdown",
   "id": "e3652dfd-4bbe-4ec2-bf9f-6c4cf3225f2c",
   "metadata": {},
   "source": [
    "# Q9: What is Central Limit Theorem? State the significance of the Central Limit Theorem.\n",
    "\n",
    "The Central Limit Theorem (CLT) is a fundamental theorem in probability theory and statistics. It states that when independent random variables are added together, the sum tends to follow a normal distribution as the sample size increases, regardless of the distribution of the original random variables. This means that if we take repeated random samples of size n from any population, the sampling distribution of the sample means will be approximately normally distributed, with a mean equal to the population mean and a standard deviation equal to the population standard deviation divided by the square root of n.\n",
    "\n",
    "In other words, the Central Limit Theorem tells us that if we take enough random samples of a population and compute the mean of each sample, the distribution of these means will be normally distributed, even if the original population is not normally distributed. The CLT is a critical concept in statistics because it allows us to make inferences about a population based on a sample. It also provides a framework for hypothesis testing and confidence interval estimation.\n",
    "\n",
    "The significance of the Central Limit Theorem includes the following:\n",
    "\n",
    "1. Sampling variability: The CLT explains the behavior of sampling variability, which is a key concept in statistical inference. It tells us that as the sample size increases, the sample mean will become more stable and will better represent the population mean.\n",
    "\n",
    "2. Hypothesis testing: The CLT is used to test hypotheses about population means. When the sample size is sufficiently large, the CLT allows us to use the normal distribution to calculate the probability of obtaining a sample mean that is different from the population mean.\n",
    "\n",
    "3. Confidence intervals: The CLT is used to construct confidence intervals for population means. A confidence interval is a range of values that is likely to contain the population mean with a certain level of confidence.\n",
    "\n",
    "4. Non-normally distributed data: The CLT is particularly useful in situations where the original population is not normally distributed. It allows us to use the normal distribution as an approximation, which simplifies statistical analysis."
   ]
  },
  {
   "cell_type": "markdown",
   "id": "fb641aa3-7561-41b2-b0ef-d83a685b37a4",
   "metadata": {},
   "source": [
    "# Q10: State the assumptions of the Central Limit Theorem.\n",
    "\n",
    "The z-score, also known as the standard score, is a statistical measure that indicates how many standard deviations a data point is from the mean of the distribution. It is calculated by subtracting the mean from the individual data point and then dividing the difference by the standard deviation. The formula for calculating the z-score is:\n",
    "\n",
    "z = (x - μ) / σ\n",
    "\n",
    "where\n",
    "x is the individual data point\n",
    "μ is the mean of the distribution\n",
    "σ is the standard deviation of the distribution\n",
    "\n",
    "The z-score helps us to standardize data and compare different data points that are measured on different scales. It also enables us to compare data from different populations with different means and standard deviations.\n",
    "\n",
    "The importance of the z-score includes the following:\n",
    "\n",
    "1. Identifying outliers: Z-scores help us to identify outliers in a data set by showing us how far a data point is from the mean. If a data point has a z-score that is greater than 3 or less than -3, it is considered an outlier.\n",
    "\n",
    "2. Hypothesis testing: Z-scores are used to test hypotheses about population means. When we know the mean and standard deviation of a population, we can use z-scores to calculate the probability of obtaining a sample mean that is different from the population mean.\n",
    "\n",
    "3. Standardization: Z-scores allow us to standardize data so that we can compare different data sets that have different scales and units of measurement.\n",
    "\n",
    "4. Normal distribution: Z-scores are used to determine the probabilities associated with a normal distribution. If we know the mean and standard deviation of a normal distribution, we can use z-scores to calculate the probability of obtaining a specific value or range of values.\n"
   ]
  },
  {
   "cell_type": "code",
   "execution_count": null,
   "id": "33603eab-657b-412e-9c03-528d32a72bd4",
   "metadata": {},
   "outputs": [],
   "source": []
  }
 ],
 "metadata": {
  "kernelspec": {
   "display_name": "Python 3 (ipykernel)",
   "language": "python",
   "name": "python3"
  },
  "language_info": {
   "codemirror_mode": {
    "name": "ipython",
    "version": 3
   },
   "file_extension": ".py",
   "mimetype": "text/x-python",
   "name": "python",
   "nbconvert_exporter": "python",
   "pygments_lexer": "ipython3",
   "version": "3.10.8"
  }
 },
 "nbformat": 4,
 "nbformat_minor": 5
}
