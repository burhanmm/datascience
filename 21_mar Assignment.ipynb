{
 "cells": [
  {
   "cell_type": "markdown",
   "id": "fdb4a6df-d56f-4ba3-b10e-362e0cdabea2",
   "metadata": {},
   "source": [
    "# Q1. What is the difference between Ordinal Encoding and Label Encoding? Provide an example of when you might choose one over the other.\n",
    "\n",
    ". Ordinal encoding is a type of encoding in which each unique value in a categorical feature is assigned an integer value based on its rank or order. For example, if we have a feature \"Size\" with values \"Small\", \"Medium\", and \"Large\", we can encode them as 0, 1, and 2 respectively based on their order. On the other hand, label encoding is a type of encoding in which each unique value in a categorical feature is assigned a unique integer value. For example, if we have a feature \"Color\" with values \"Red\", \"Green\", and \"Blue\", we can encode them as 0, 1, and 2 respectively without any consideration of their order.\n",
    "\n",
    "The choice between ordinal and label encoding depends on the nature of the categorical feature and its relationship with the target variable. If the order or ranking of the values in the feature is important and has a relationship with the target variable, then ordinal encoding can be used. For example, if we have a feature \"Education Level\" with values \"High School\", \"Bachelor's\", \"Master's\", and \"PhD\", we can use ordinal encoding to capture the relationship between education level and the target variable. On the other hand, if the categorical feature values are not related to each other or do not have any inherent order, label encoding can be used. For example, if we have a feature \"Country\" with values \"USA\", \"India\", and \"China\", we can use label encoding without any consideration of their order."
   ]
  },
  {
   "cell_type": "markdown",
   "id": "58fafffe-9973-4d25-9cbd-620c5c5436cf",
   "metadata": {},
   "source": [
    "# Q2. Explain how Target Guided Ordinal Encoding works and provide an example of when you might use it in a machine learning project.\n",
    "\n",
    " Target Guided Ordinal Encoding is a type of encoding in which each unique value in a categorical feature is assigned an integer value based on the mean of the target variable for that value. For example, if we have a feature \"City\" with values \"New York\", \"Chicago\", and \"Los Angeles\", we can calculate the mean of the target variable for each value and assign them an integer value based on their mean. This can help capture the relationship between the categorical feature and the target variable more accurately.\n",
    "\n",
    "Target Guided Ordinal Encoding can be useful when there is a relationship between the categorical feature and the target variable and ordinal encoding based on their inherent order is not enough to capture the relationship accurately."
   ]
  },
  {
   "cell_type": "markdown",
   "id": "5825cc96-3d46-4427-8194-5bb897623dc2",
   "metadata": {},
   "source": [
    "# Q3. Define covariance and explain why it is important in statistical analysis. How is covariance calculated?\n",
    "\n",
    "Covariance is a measure of how two variables are related to each other. It is the measure of the joint variability of two random variables. Covariance is important in statistical analysis because it helps to understand the relationship between two variables and can be used to identify patterns and trends in the data.\n",
    "\n",
    "The covariance between two variables X and Y is calculated as follows:\n",
    "cov(X,Y) = E[(X - E[X]) * (Y - E[Y])]\n",
    "\n",
    "where E[X] and E[Y] are the expected values of X and Y respectively.\n",
    "\n",
    "If cov(X,Y) is positive, it indicates that the two variables are positively related, i.e., when X increases, Y also increases. If cov(X,Y) is negative, it indicates that the two variables are negatively related, i.e., when X increases, Y decreases. If cov(X,Y) is zero, it indicates that the two variables are independent of each other."
   ]
  },
  {
   "cell_type": "markdown",
   "id": "d236baf6-667a-4070-a77d-f79a6defd5fb",
   "metadata": {},
   "source": [
    "# Q4. For a dataset with the following categorical variables: Color (red, green, blue), Size (small, medium, large), and Material (wood, metal, plastic), perform label encoding using Python's scikit-learn library. Show your code and explain the output."
   ]
  },
  {
   "cell_type": "code",
   "execution_count": 9,
   "id": "08dcb6a5-b7ba-4e3c-8abc-f906a3a70aa0",
   "metadata": {},
   "outputs": [
    {
     "data": {
      "text/html": [
       "<div>\n",
       "<style scoped>\n",
       "    .dataframe tbody tr th:only-of-type {\n",
       "        vertical-align: middle;\n",
       "    }\n",
       "\n",
       "    .dataframe tbody tr th {\n",
       "        vertical-align: top;\n",
       "    }\n",
       "\n",
       "    .dataframe thead th {\n",
       "        text-align: right;\n",
       "    }\n",
       "</style>\n",
       "<table border=\"1\" class=\"dataframe\">\n",
       "  <thead>\n",
       "    <tr style=\"text-align: right;\">\n",
       "      <th></th>\n",
       "      <th>Color</th>\n",
       "      <th>Size</th>\n",
       "      <th>Material</th>\n",
       "    </tr>\n",
       "  </thead>\n",
       "  <tbody>\n",
       "    <tr>\n",
       "      <th>0</th>\n",
       "      <td>2</td>\n",
       "      <td>&lt;bound method LabelEncoder.fit of LabelEncoder()&gt;</td>\n",
       "      <td>wood</td>\n",
       "    </tr>\n",
       "    <tr>\n",
       "      <th>1</th>\n",
       "      <td>1</td>\n",
       "      <td>&lt;bound method LabelEncoder.fit of LabelEncoder()&gt;</td>\n",
       "      <td>metal</td>\n",
       "    </tr>\n",
       "    <tr>\n",
       "      <th>2</th>\n",
       "      <td>0</td>\n",
       "      <td>&lt;bound method LabelEncoder.fit of LabelEncoder()&gt;</td>\n",
       "      <td>plastic</td>\n",
       "    </tr>\n",
       "    <tr>\n",
       "      <th>3</th>\n",
       "      <td>1</td>\n",
       "      <td>&lt;bound method LabelEncoder.fit of LabelEncoder()&gt;</td>\n",
       "      <td>wood</td>\n",
       "    </tr>\n",
       "    <tr>\n",
       "      <th>4</th>\n",
       "      <td>2</td>\n",
       "      <td>&lt;bound method LabelEncoder.fit of LabelEncoder()&gt;</td>\n",
       "      <td>plastic</td>\n",
       "    </tr>\n",
       "  </tbody>\n",
       "</table>\n",
       "</div>"
      ],
      "text/plain": [
       "   Color                                               Size Material\n",
       "0      2  <bound method LabelEncoder.fit of LabelEncoder()>     wood\n",
       "1      1  <bound method LabelEncoder.fit of LabelEncoder()>    metal\n",
       "2      0  <bound method LabelEncoder.fit of LabelEncoder()>  plastic\n",
       "3      1  <bound method LabelEncoder.fit of LabelEncoder()>     wood\n",
       "4      2  <bound method LabelEncoder.fit of LabelEncoder()>  plastic"
      ]
     },
     "execution_count": 9,
     "metadata": {},
     "output_type": "execute_result"
    }
   ],
   "source": [
    "import pandas as pd\n",
    "from sklearn.preprocessing import LabelEncoder\n",
    "\n",
    "data = {'Color': ['red', 'green', 'blue', 'green', 'red'],\n",
    "        'Size': ['small', 'medium', 'large', 'medium', 'small'],\n",
    "        'Material': ['wood', 'metal', 'plastic', 'wood', 'plastic']}\n",
    "\n",
    "df = pd.DataFrame(data)\n",
    "\n",
    "le = LabelEncoder()\n",
    "\n",
    "df['Color'] = le.fit_transform(df['Color'])\n",
    "df['Size'] = le.fit\n",
    "\n",
    "df"
   ]
  },
  {
   "cell_type": "markdown",
   "id": "96c2d202-f171-4554-9dfa-039be25b67d9",
   "metadata": {},
   "source": [
    "# Q5. Calculate the covariance matrix for the following variables in a dataset: Age, Income, and Education level. Interpret the results.\n"
   ]
  },
  {
   "cell_type": "code",
   "execution_count": 10,
   "id": "7646f221-fc76-439b-87d3-3e3dd94e64f6",
   "metadata": {},
   "outputs": [
    {
     "name": "stdout",
     "output_type": "stream",
     "text": [
      "                      Age        Income  Education level\n",
      "Age                  62.5  2.500000e+05             25.0\n",
      "Income           250000.0  1.000000e+09         100000.0\n",
      "Education level      25.0  1.000000e+05             10.0\n"
     ]
    }
   ],
   "source": [
    "import pandas as pd\n",
    "\n",
    "# Create a sample dataset\n",
    "data = {'Age': [25, 30, 35, 40, 45],\n",
    "        'Income': [50000, 70000, 90000, 110000, 130000],\n",
    "        'Education level': [12, 14, 16, 18, 20]}\n",
    "df = pd.DataFrame(data)\n",
    "\n",
    "# Calculate the covariance matrix\n",
    "cov_matrix = df.cov()\n",
    "print(cov_matrix)\n"
   ]
  },
  {
   "cell_type": "markdown",
   "id": "241c0a7e-3d01-4d24-a825-43b2cd339b6d",
   "metadata": {},
   "source": [
    "# Q6. You are working on a machine learning project with a dataset containing several categorical variables, including \"Gender\" (Male/Female), \"Education Level\" (High School/Bachelor's/Master's/PhD), and \"Employment Status\" (Unemployed/Part-Time/Full-Time). Which encoding method would you use for each variable, and why?\n",
    "\n",
    "For Gender, we would use binary encoding as there are only two categories. For Education Level, we can use ordinal encoding as there is an inherent order to the categories (i.e., higher levels of education imply more education than lower levels). For Employment Status, we can use one-hot encoding as there is no order or hierarchy to the categories."
   ]
  },
  {
   "cell_type": "markdown",
   "id": "425f53b4-421a-4cdb-8071-180a4a4259cc",
   "metadata": {},
   "source": [
    "# Q7. You are analyzing a dataset with two continuous variables, \"Temperature\" and \"Humidity\", and two categorical variables, \"Weather Condition\" (Sunny/Cloudy/Rainy) and \"Wind Direction\" (North/South/ East/West). Calculate the covariance between each pair of variables and interpret the results."
   ]
  },
  {
   "cell_type": "code",
   "execution_count": 11,
   "id": "cf0e6d01-595a-4f77-b5af-c7650e41ea9b",
   "metadata": {},
   "outputs": [
    {
     "name": "stdout",
     "output_type": "stream",
     "text": [
      "             Temperature  Humidity\n",
      "Temperature         15.8     -57.5\n",
      "Humidity           -57.5     250.0\n",
      "                          Weather Condition_Cloudy  Weather Condition_Rainy  \\\n",
      "Weather Condition_Cloudy                      0.20                    -0.10   \n",
      "Weather Condition_Rainy                      -0.10                     0.30   \n",
      "Weather Condition_Sunny                      -0.10                    -0.20   \n",
      "Wind Direction_East                          -0.05                     0.15   \n",
      "Wind Direction_North                         -0.10                     0.05   \n",
      "Wind Direction_South                          0.20                    -0.10   \n",
      "Wind Direction_West                          -0.05                    -0.10   \n",
      "\n",
      "                          Weather Condition_Sunny  Wind Direction_East  \\\n",
      "Weather Condition_Cloudy                    -0.10                -0.05   \n",
      "Weather Condition_Rainy                     -0.20                 0.15   \n",
      "Weather Condition_Sunny                      0.30                -0.10   \n",
      "Wind Direction_East                         -0.10                 0.20   \n",
      "Wind Direction_North                         0.05                -0.10   \n",
      "Wind Direction_South                        -0.10                -0.05   \n",
      "Wind Direction_West                          0.15                -0.05   \n",
      "\n",
      "                          Wind Direction_North  Wind Direction_South  \\\n",
      "Weather Condition_Cloudy                 -0.10                  0.20   \n",
      "Weather Condition_Rainy                   0.05                 -0.10   \n",
      "Weather Condition_Sunny                   0.05                 -0.10   \n",
      "Wind Direction_East                      -0.10                 -0.05   \n",
      "Wind Direction_North                      0.30                 -0.10   \n",
      "Wind Direction_South                     -0.10                  0.20   \n",
      "Wind Direction_West                      -0.10                 -0.05   \n",
      "\n",
      "                          Wind Direction_West  \n",
      "Weather Condition_Cloudy                -0.05  \n",
      "Weather Condition_Rainy                 -0.10  \n",
      "Weather Condition_Sunny                  0.15  \n",
      "Wind Direction_East                     -0.05  \n",
      "Wind Direction_North                    -0.10  \n",
      "Wind Direction_South                    -0.05  \n",
      "Wind Direction_West                      0.20  \n"
     ]
    }
   ],
   "source": [
    "import pandas as pd\n",
    "\n",
    "# Create a sample dataset\n",
    "data = {'Temperature': [20, 25, 22, 28, 18],\n",
    "        'Humidity': [60, 50, 70, 40, 80],\n",
    "        'Weather Condition': ['Sunny', 'Cloudy', 'Rainy', 'Sunny', 'Rainy'],\n",
    "        'Wind Direction': ['North', 'South', 'East', 'West', 'North']}\n",
    "df = pd.DataFrame(data)\n",
    "\n",
    "# Calculate the covariance matrix for Temperature and Humidity\n",
    "cov_matrix = df[['Temperature', 'Humidity']].cov()\n",
    "print(cov_matrix)\n",
    "\n",
    "# Calculate the covariance matrix for Weather Condition and Wind Direction\n",
    "cov_matrix = pd.get_dummies(df[['Weather Condition', 'Wind Direction']]).cov()\n",
    "print(cov_matrix)\n"
   ]
  },
  {
   "cell_type": "code",
   "execution_count": null,
   "id": "362200cb-7c59-489b-a1b8-abf379f14ddd",
   "metadata": {},
   "outputs": [],
   "source": []
  }
 ],
 "metadata": {
  "kernelspec": {
   "display_name": "Python 3 (ipykernel)",
   "language": "python",
   "name": "python3"
  },
  "language_info": {
   "codemirror_mode": {
    "name": "ipython",
    "version": 3
   },
   "file_extension": ".py",
   "mimetype": "text/x-python",
   "name": "python",
   "nbconvert_exporter": "python",
   "pygments_lexer": "ipython3",
   "version": "3.10.8"
  }
 },
 "nbformat": 4,
 "nbformat_minor": 5
}
