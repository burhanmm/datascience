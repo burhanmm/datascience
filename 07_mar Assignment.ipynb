{
 "cells": [
  {
   "cell_type": "markdown",
   "id": "3d12010d-016f-4db9-b93e-f1c124a73794",
   "metadata": {},
   "source": [
    "# Q1. What are the three measures of central tendency?\n",
    "\n",
    "The three measures of central tendency are:\n",
    "\n",
    "1. Mean: The mean, also known as the average, is the sum of all the values in a dataset divided by the total number of values. It is the most commonly used measure of central tendency and is sensitive to extreme values or outliers in the dataset.\n",
    "\n",
    "2. Median: The median is the middle value of a dataset when it is arranged in order from smallest to largest. It is not affected by extreme values or outliers in the dataset and is therefore useful when dealing with skewed data.\n",
    "\n",
    "3. Mode: The mode is the value that appears most frequently in a dataset. It is useful for describing the most common value in a dataset and is particularly useful for categorical or nominal data. If there are two values that appear equally frequently, the dataset is bimodal."
   ]
  },
  {
   "cell_type": "markdown",
   "id": "c12846b7-02dd-4bfb-b764-9e0aa61a4ccc",
   "metadata": {},
   "source": [
    "# Q2. What is the difference between the mean, median, and mode? How are they used to measure the central tendency of a dataset?\n",
    "\n",
    "Mean, median, and mode are measures of central tendency used in statistics to describe the typical or central value of a dataset.\n",
    "\n",
    "The mean, also known as the average, is calculated by adding up all the values in the dataset and then dividing the sum by the number of values. The mean is sensitive to extreme values, so if there are any outliers in the dataset, they can greatly affect the mean.\n",
    "\n",
    "The median is the middle value in a dataset when the values are arranged in order from lowest to highest. If there is an even number of values, then the median is the average of the two middle values. The median is less sensitive to extreme values than the mean.\n",
    "\n",
    "The mode is the value that occurs most frequently in a dataset. A dataset may have multiple modes, or no mode at all if all the values are equally common. The mode is useful for identifying the most common value or values in a dataset.\n",
    "\n",
    "All three measures of central tendency are used to describe the typical or central value of a dataset. The mean is commonly used when the data is normally distributed and has no outliers. The median is used when the data has outliers or when the distribution is not normal. The mode is useful when identifying the most common value or values in a dataset. The choice of which measure to use depends on the characteristics of the dataset and the research question being addressed."
   ]
  },
  {
   "cell_type": "markdown",
   "id": "30586e5f-aa26-4caa-8d63-a386185dd0f6",
   "metadata": {},
   "source": [
    "# Q3. Measure the three measures of central tendency for the given height data:\n",
    "[178,177,176,177,178.2,178,175,179,180,175,178.9,176.2,177,172.5,178,176.5]\n",
    "\n"
   ]
  },
  {
   "cell_type": "code",
   "execution_count": 14,
   "id": "04f7e799-d611-41d1-875b-2c0bb019cc2e",
   "metadata": {},
   "outputs": [
    {
     "name": "stdout",
     "output_type": "stream",
     "text": [
      "The Central Tendency for Given heights are: \n",
      " Mean : 177.01875\n",
      " Median : 177.0\n",
      " Mode : ModeResult(mode=array([177.]), count=array([3]))\n"
     ]
    },
    {
     "name": "stderr",
     "output_type": "stream",
     "text": [
      "/tmp/ipykernel_70/1163629301.py:5: FutureWarning: Unlike other reduction functions (e.g. `skew`, `kurtosis`), the default behavior of `mode` typically preserves the axis it acts along. In SciPy 1.11.0, this behavior will change: the default value of `keepdims` will become False, the `axis` over which the statistic is taken will be eliminated, and the value None will no longer be accepted. Set `keepdims` to True or False to avoid this warning.\n",
      "  print(f\"The Central Tendency for Given heights are: \\n Mean : {np.mean(ls)}\\n Median : {np.median(ls)}\\n Mode : {scipy.stats.mode(ls)}\")\n"
     ]
    }
   ],
   "source": [
    "import numpy as np\n",
    "import scipy\n",
    "ls = [178,177,176,177,178.2,178,175,179,180,175,178.9,176.2,177,172.5,178,176.5]\n",
    "\n",
    "print(f\"The Central Tendency for Given heights are: \\n Mean : {np.mean(ls)}\\n Median : {np.median(ls)}\\n Mode : {scipy.stats.mode(ls)}\")"
   ]
  },
  {
   "cell_type": "markdown",
   "id": "fab4fae3-42e3-4beb-9701-3fefaa644f8e",
   "metadata": {},
   "source": [
    "# Q4. Find the standard deviation for the given data:\n",
    "[178,177,176,177,178.2,178,175,179,180,175,178.9,176.2,177,172.5,178,176.5]\n"
   ]
  },
  {
   "cell_type": "code",
   "execution_count": 15,
   "id": "03e1d864-01b1-41d7-9ed0-f1bc095512a4",
   "metadata": {},
   "outputs": [
    {
     "name": "stdout",
     "output_type": "stream",
     "text": [
      "Standard Deviation : 1.7885814036548633\n"
     ]
    }
   ],
   "source": [
    "ls2 = [178,177,176,177,178.2,178,175,179,180,175,178.9,176.2,177,172.5,178,176.5]\n",
    "\n",
    "import numpy as np\n",
    "\n",
    "print(f\"Standard Deviation : {np.std(ls2)}\")"
   ]
  },
  {
   "cell_type": "markdown",
   "id": "f9e934a8-31f5-413c-88e6-7fc2efbffdc1",
   "metadata": {},
   "source": [
    "# Q5. How are measures of dispersion such as range, variance, and standard deviation used to describe the spread of a dataset? Provide an example.\n",
    "\n",
    "Measures of dispersion, such as range, variance, and standard deviation, are used to describe how spread out or dispersed a dataset is.\n",
    "\n",
    "The range is the difference between the largest and smallest values in a dataset. While it is a simple measure of dispersion, it can be affected by outliers in the dataset.\n",
    "\n",
    "The variance is a measure of how much the individual data points vary from the mean of the dataset. It is calculated by taking the sum of the squared differences between each data point and the mean, and then dividing by the number of data points minus one. A larger variance indicates greater variability in the data.\n",
    "\n",
    "The standard deviation is the square root of the variance, and it measures the average distance of the data points from the mean. It is a more commonly used measure of dispersion because it is expressed in the same units as the original data and is more interpretable. A larger standard deviation indicates greater variability in the data.\n",
    "\n",
    "For example, consider a dataset of the weights (in pounds) of 10 students: 120, 125, 130, 135, 140, 145, 150, 155, 160, 165.\n",
    "\n",
    "The range of the dataset is 165 - 120 = 45.\n",
    "To calculate the variance, first calculate the mean: (120 + 125 + 130 + 135 + 140 + 145 + 150 + 155 + 160 + 165) / 10 = 142.5. Then, calculate the squared difference between each data point and the mean, sum them up, and divide by 9 (the number of data points minus one): ((120-142.5)^2 + (125-142.5)^2 + ... + (165-142.5)^2) / 9 = 462.5. The variance is 462.5.\n",
    "The standard deviation is the square root of the variance: sqrt(462.5) = 21.49.\n",
    "In this example, the standard deviation is 21.49, which indicates that the weights of the students are somewhat spread out around the mean weight of 142.5 pounds."
   ]
  },
  {
   "cell_type": "markdown",
   "id": "9313838f-a966-4d52-b84c-9c2f2381beed",
   "metadata": {},
   "source": [
    "# Q6. What is a Venn diagram?\n",
    "\n",
    "A Venn diagram is a graphical representation of the relationships between different sets of objects or groups. It consists of overlapping circles or other shapes, where each circle or shape represents a set, and the overlapping regions represent the elements that are common to both sets.\n",
    "\n",
    "Venn diagrams are often used to visually illustrate the similarities and differences between different groups or sets of data. For example, a Venn diagram could be used to show the overlap between different types of animals, or to compare the features of different products. They can also be used to analyze data and identify patterns or trends, such as the common characteristics of a particular group of people.\n",
    "\n",
    "Overall, Venn diagrams provide an intuitive and effective way to visualize the relationships between different sets of data and can be a useful tool for organizing and analyzing information."
   ]
  },
  {
   "cell_type": "markdown",
   "id": "2b2a872d-f8ca-40b4-912c-ef8dc13eea88",
   "metadata": {},
   "source": [
    "# Q7. For the two given sets A = (2,3,4,5,6,7) & B = (0,2,6,8,10). Find:\n",
    "\n",
    "\n",
    "(i) A ∩ B represents the intersection of sets A and B, i.e., the elements that are common to both sets. In this case, the common elements between sets A and B are 2, 6. Therefore, A ∩ B = {2,6}.\n",
    "\n",
    "(ii) A ⋃ B represents the union of sets A and B, i.e., all the elements that are in either set A or set B, or both. In this case, the union of sets A and B is {0,2,3,4,5,6,7,8,10}. Therefore, A ⋃ B = {0,2,3,4,5,6,7,8,10}."
   ]
  },
  {
   "cell_type": "markdown",
   "id": "4d1aa09d-f48e-4db8-9ab3-bd7da53adeaa",
   "metadata": {},
   "source": [
    "# Q8. What do you understand about skewness in data?\n",
    "\n",
    "Skewness is a measure of the asymmetry of a distribution of data. A distribution is said to be skewed if it is not symmetrical, that is, one tail is longer or fatter than the other. Skewness can be positive, negative, or zero.\n",
    "\n",
    "1. Positive skewness: A distribution is positively skewed if the tail on the right-hand side of the distribution is longer or fatter than the left-hand side. This indicates that there are more extreme values on the right-hand side of the distribution than on the left-hand side.\n",
    "\n",
    "2. Negative skewness: A distribution is negatively skewed if the tail on the left-hand side of the distribution is longer or fatter than the right-hand side. This indicates that there are more extreme values on the left-hand side of the distribution than on the right-hand side.\n",
    "\n",
    "3. Zero skewness: A distribution is symmetrical or has zero skewness if the left and right-hand sides of the distribution are mirror images of each other. This means that there are equal numbers of extreme values on both sides of the distribution."
   ]
  },
  {
   "cell_type": "markdown",
   "id": "de0266be-3876-4dd9-9e47-7c136fcef926",
   "metadata": {},
   "source": [
    "# Q9. If a data is right skewed then what will be the position of median with respect to mean?\n",
    "\n",
    "If a dataset is right-skewed, which means that the tail of the distribution is longer on the right side than the left side, then the position of the median will be to the right of the mean. In other words, the median will be greater than the mean. This is because the mean is affected by the skewness and is pulled towards the higher values, while the median is not as affected by the extreme values on one side of the distribution and is more representative of the central tendency of the data."
   ]
  },
  {
   "cell_type": "markdown",
   "id": "b7b4153a-64bf-4967-b6c3-314a2704a29f",
   "metadata": {},
   "source": [
    "# Q10. Explain the difference between covariance and correlation. How are these measures used in statistical analysis?\n",
    "\n",
    "\n",
    "Covariance and correlation are both measures of the relationship between two variables in a dataset, but they differ in terms of their scale and interpretation.\n",
    "Covariance measures the degree to which two variables vary together. Specifically, it measures the average deviation of one variable from its mean, multiplied by the average deviation of the other variable from its mean. If the covariance is positive, it means that the two variables tend to vary together in the same direction, while a negative covariance means that they tend to vary in opposite directions. However, the magnitude of the covariance depends on the scales of the two variables, so it is difficult to compare covariances across different datasets.\n",
    "\n",
    "Correlation, on the other hand, is a standardized version of covariance, which makes it easier to compare the relationship between two variables across different datasets. Correlation measures the strength and direction of the linear relationship between two variables, and it ranges from -1 to 1. A correlation of 1 means that the two variables are perfectly positively correlated (i.e., they vary together in the same direction), while a correlation of -1 means that they are perfectly negatively correlated (i.e., they vary in opposite directions). A correlation of 0 means that there is no linear relationship between the two variables.\n",
    "\n",
    "Both covariance and correlation are used in statistical analysis to examine the relationship between two variables in a dataset. However, correlation is generally preferred because it provides a more standardized measure of the relationship, which is easier to interpret and compare across different datasets. Covariance is still useful in certain situations, such as when the units of measurement are meaningful or when comparing datasets with the same units."
   ]
  },
  {
   "cell_type": "markdown",
   "id": "50fc513a-b5dc-42d0-8ae9-48d89de2fdc1",
   "metadata": {},
   "source": [
    "# Q11. What is the formula for calculating the sample mean? Provide an example calculation for a dataset.\n",
    "\n",
    "The formula for calculating the sample mean is:\n",
    "\n",
    "sample mean = (sum of all data points) / (number of data points)\n",
    "\n",
    "In other words, you add up all the data points in the sample and divide by the total number of data points.\n",
    "\n",
    "Here is an example calculation:\n",
    "\n",
    "Suppose we have the following dataset representing the number of hours per week that five students study for a particular class:\n",
    "\n",
    "4, 5, 6, 7, 8\n",
    "\n",
    "To calculate the sample mean, we first add up all the data points:\n",
    "\n",
    "4 + 5 + 6 + 7 + 8 = 30\n",
    "\n",
    "Then we divide by the total number of data points (5):\n",
    "\n",
    "30 / 5 = 6\n",
    "\n",
    "Therefore, the sample mean is 6.\n",
    "\n",
    "This means that on average, the five students in the sample study 6 hours per week for the class."
   ]
  },
  {
   "cell_type": "markdown",
   "id": "6c5e0a48-396b-4e5b-b35a-f2cd746fe48f",
   "metadata": {},
   "source": [
    "# Q12. For a normal distribution data what is the relationship between its measure of central tendency?\n",
    "\n",
    "For a normal distribution data, the three measures of central tendency (i.e., mean, median, and mode) are all equal to each other.\n",
    "This is because a normal distribution is a symmetric distribution with a bell-shaped curve, where the mean is located at the center of the curve, and the median and mode are also located at the same point."
   ]
  },
  {
   "cell_type": "markdown",
   "id": "985f7f78-50c7-4a5c-8bc9-7512c4757f06",
   "metadata": {},
   "source": [
    "# Q13. How is covariance different from correlation?\n",
    "\n",
    "Covariance and correlation are both measures of the relationship between two variables. However, they differ in some important ways:\n",
    "Definition: Covariance measures how two variables vary together. It measures the strength of the linear association between two variables. Correlation measures the strength and direction of the linear relationship between two variables.\n",
    "\n",
    "Scale: Covariance can take on any value, positive or negative, whereas correlation ranges from -1 to 1.\n",
    "\n",
    "Units: Covariance is measured in the units of the two variables, while correlation is a unitless measure.\n",
    "\n",
    "Interpretation: Covariance can be difficult to interpret because its value is dependent on the scale of the variables being measured. Correlation is easier to interpret because it is standardized and ranges from -1 to 1, where values close to -1 indicate a strong negative relationship, values close to 1 indicate a strong positive relationship, and values close to 0 indicate no relationship.\n",
    "\n",
    "Direction: Covariance can be positive or negative, indicating the direction of the relationship between the variables. Correlation is always positive or negative, indicating the strength and direction of the relationship."
   ]
  },
  {
   "cell_type": "markdown",
   "id": "17838e95-af7e-4e1d-9c34-5238034dfba2",
   "metadata": {},
   "source": [
    "# Q14. How do outliers affect measures of central tendency and dispersion? Provide an example.\n",
    "\n",
    "Outliers are data points that lie far away from the bulk of the data. They can significantly affect measures of central tendency and dispersion.\n",
    "\n",
    "1. Measures of Central Tendency:\n",
    "Outliers can have a major impact on the mean (average) since it takes into account every value in the data set. If an outlier is much higher or lower than the other values, the mean will be shifted in the direction of the outlier. However, the median and mode are not affected by outliers since they are based on the order or frequency of the data rather than the actual values.\n",
    "Example: Consider a data set of salaries of employees in a company, with salaries ranging from 30,000 to 150,000. However, there is one employee with a salary of 1,000,000. In this case, the mean salary will be much higher than the typical salary of the employees. The median and mode, on the other hand, will not be affected by this outlier, since they are not influenced by extreme values.\n",
    "2. Measures of Dispersion:\n",
    "Outliers can also affect measures of dispersion, such as the range and standard deviation. The range (difference between the largest and smallest values) will be greatly influenced by the outlier. The standard deviation, which measures the spread of the data around the mean, will also be affected by outliers. Outliers can increase or decrease the standard deviation depending on the direction of the outlier.\n",
    "\n",
    "Example: In the same data set of salaries of employees, suppose there is another employee with a salary of 25,000, which is much lower than the other salaries. In this case, the range will be very large, and the standard deviation will be higher than it would be if the outlier was not present."
   ]
  }
 ],
 "metadata": {
  "kernelspec": {
   "display_name": "Python 3 (ipykernel)",
   "language": "python",
   "name": "python3"
  },
  "language_info": {
   "codemirror_mode": {
    "name": "ipython",
    "version": 3
   },
   "file_extension": ".py",
   "mimetype": "text/x-python",
   "name": "python",
   "nbconvert_exporter": "python",
   "pygments_lexer": "ipython3",
   "version": "3.10.8"
  }
 },
 "nbformat": 4,
 "nbformat_minor": 5
}
