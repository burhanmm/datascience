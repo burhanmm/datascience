{
 "cells": [
  {
   "cell_type": "markdown",
   "id": "a3e664f0-180c-4d58-88c7-32db8c3116c6",
   "metadata": {},
   "source": [
    "Q1. You are writing code for a company. The requirement of the company is that you create a python\n",
    "function that will check whether the password entered by the user is correct or not. The function should\n",
    "take the password as input and return the string “Valid Password” if the entered password follows the\n",
    "below-given password guidelines else it should return “Invalid Password”.\n",
    "\n",
    "Note: \n",
    "1. The Password should contain at least two uppercase letters and at least two lowercase letters.\n",
    "2. The Password should contain at least a number and three special characters.\n",
    "3. The length of the password should be 10 characters long."
   ]
  },
  {
   "cell_type": "code",
   "execution_count": 2,
   "id": "c9d829ae-c5e2-46dc-a1ea-ceea147e1173",
   "metadata": {},
   "outputs": [
    {
     "name": "stdin",
     "output_type": "stream",
     "text": [
      "Enter the Password 163883691\n"
     ]
    },
    {
     "name": "stdout",
     "output_type": "stream",
     "text": [
      "Invalid Password\n"
     ]
    },
    {
     "name": "stdin",
     "output_type": "stream",
     "text": [
      "Enter the Password 123@@@BBBbbb\n"
     ]
    },
    {
     "name": "stdout",
     "output_type": "stream",
     "text": [
      "Valid Password\n"
     ]
    }
   ],
   "source": [
    "def chk_pass():\n",
    "    l, u, p, d = 0, 0, 0, 0\n",
    "    flag = True\n",
    "    \n",
    "    while flag:\n",
    "        password = input(\"Enter the Password\")\n",
    "        if (len(password) >= 10):\n",
    "            for i in password:\n",
    "\n",
    "                # counting lowercase alphabets\n",
    "                if (i.islower()):\n",
    "                    l+=1           \n",
    "\n",
    "                # counting uppercase alphabets\n",
    "                if (i.isupper()):\n",
    "                    u+=1           \n",
    "\n",
    "                # counting digits\n",
    "                if (i.isdigit()):\n",
    "                    d+=1           \n",
    "\n",
    "                # counting the mentioned special characters\n",
    "                if(i=='@'or i=='$' or i=='_'):\n",
    "                    p+=1          \n",
    "        if (l>=2 and u>=2 and p>=1 and d>=3 and l+p+u+d==len(password)):\n",
    "            print(\"Valid Password\")\n",
    "            flag = False\n",
    "        else:\n",
    "            print(\"Invalid Password\")\n",
    "\n",
    "chk_pass()"
   ]
  },
  {
   "cell_type": "markdown",
   "id": "07a49d58-70e6-4497-8753-c2b438ed9770",
   "metadata": {},
   "source": [
    "# Q2. Solve the below-given questions using at least one of the following:\n",
    "1. Lambda function\n",
    "2. Filter function\n",
    "3. Zap function\n",
    "4. List Comprehension"
   ]
  },
  {
   "cell_type": "code",
   "execution_count": 3,
   "id": "75f78831-8830-4edf-84f6-ecb360971094",
   "metadata": {},
   "outputs": [
    {
     "name": "stdin",
     "output_type": "stream",
     "text": [
      "Type the letter Burhan\n"
     ]
    },
    {
     "data": {
      "text/plain": [
       "'Burhan'"
      ]
     },
     "execution_count": 3,
     "metadata": {},
     "output_type": "execute_result"
    }
   ],
   "source": [
    "# Check if the string starts with a particular letter. say 'B'\n",
    "x = str(input(\"Type the letter\"))\n",
    "let  = lambda x : x if x[0].upper() == \"B\" else print(\"Not with B\") \n",
    "let(x)"
   ]
  },
  {
   "cell_type": "code",
   "execution_count": 4,
   "id": "f7d79a8c-d6c7-4d71-87ea-7262911b1a5d",
   "metadata": {},
   "outputs": [
    {
     "name": "stdin",
     "output_type": "stream",
     "text": [
      "enter string asda\n"
     ]
    },
    {
     "name": "stdout",
     "output_type": "stream",
     "text": [
      "Not numeric\n"
     ]
    }
   ],
   "source": [
    "# Check if the string is numeric.\n",
    "num = input(\"enter string\")\n",
    "\n",
    "chk = lambda c : c if c.isdigit() else print(\"Not numeric\")\n",
    "\n",
    "chk(num)"
   ]
  },
  {
   "cell_type": "code",
   "execution_count": 1,
   "id": "15e67604-efa9-453d-af81-6b89fb2e2f78",
   "metadata": {},
   "outputs": [
    {
     "name": "stdout",
     "output_type": "stream",
     "text": [
      "[('grapes', 1000), ('mango', 99), ('orange', 80)]\n"
     ]
    }
   ],
   "source": [
    "# Sort a list of tuples having fruit names and their quantity. \n",
    "\n",
    "list1 = ((\"mango\",99),(\"orange\",80),(\"grapes\", 1000))\n",
    "sorted_list = sorted(list1, key=lambda x: x[1], reverse=True)\n",
    "print(sorted_list)"
   ]
  },
  {
   "cell_type": "code",
   "execution_count": 5,
   "id": "dff200a4-29fc-4018-82db-223fc2f7b8ad",
   "metadata": {},
   "outputs": [
    {
     "name": "stdin",
     "output_type": "stream",
     "text": [
      "enter the number 5\n"
     ]
    },
    {
     "data": {
      "text/plain": [
       "[1, 32, 243, 1024, 3125, 7776, 16807, 32768, 59049, 100000]"
      ]
     },
     "execution_count": 5,
     "metadata": {},
     "output_type": "execute_result"
    }
   ],
   "source": [
    "# Find the squares of numbers from 1 to 10\n",
    "# list(map(lambda x : x**2,range(1,11)))\n",
    "\n",
    "# Find the cube root of numbers from 1 to 10\n",
    "# list(map(lambda x : x**3,range(1,11)))\n",
    "\n",
    "# Universal\n",
    "to_power = int(input(\"enter the number\"))\n",
    "\n",
    "list(map(lambda x : x**to_power,range(1,11)))"
   ]
  },
  {
   "cell_type": "code",
   "execution_count": 4,
   "id": "9a70ffa3-c997-4979-8a35-a0037cba80fd",
   "metadata": {},
   "outputs": [
    {
     "name": "stdin",
     "output_type": "stream",
     "text": [
      "Enter the number  : 77\n"
     ]
    },
    {
     "data": {
      "text/plain": [
       "'Number is odd'"
      ]
     },
     "execution_count": 4,
     "metadata": {},
     "output_type": "execute_result"
    }
   ],
   "source": [
    "# Check if a given number is even\n",
    "num = int(input(\"Enter the Number  :\"))\n",
    "evens = lambda x: x if x % 2 == 0 else \"Number is odd\"\n",
    "evens(num)"
   ]
  },
  {
   "cell_type": "code",
   "execution_count": 6,
   "id": "f80deee7-5b3d-414c-9b5a-3381b142b724",
   "metadata": {},
   "outputs": [
    {
     "data": {
      "text/plain": [
       "[1, 3, 5, 7, 9]"
      ]
     },
     "execution_count": 6,
     "metadata": {},
     "output_type": "execute_result"
    }
   ],
   "source": [
    "# Filter odd numbers from the given list.\n",
    "odd_list = [1,2,3,4,5,6,7,8,9,10]\n",
    "\n",
    "list(filter(lambda x : x % 2 != 0 , odd_list))"
   ]
  },
  {
   "cell_type": "code",
   "execution_count": 7,
   "id": "6dab00f5-a164-466f-935b-c90955a2f9d5",
   "metadata": {},
   "outputs": [
    {
     "name": "stdout",
     "output_type": "stream",
     "text": [
      "Positive list  : [1, 2, 3, 4, 5, 6] \n",
      " Negative list : [-1, -2, -3, -4, -5]\n"
     ]
    }
   ],
   "source": [
    "# Sort a list of integers into positive and negative integers lists.\n",
    "int_list = [1,2,3,4,5,6,-1,-2,-3,-4,-5,0]\n",
    "\n",
    "Negative = [i for i in int_list if i<0 ]\n",
    "\n",
    "Positive = [j for j in int_list if j>0]\n",
    "\n",
    "print(\"Positive list  :\",Positive,\"\\n\",\"Negative list :\",Negative)"
   ]
  },
  {
   "cell_type": "code",
   "execution_count": null,
   "id": "3b11b96e-ccca-473b-aef2-65f0848c3b3d",
   "metadata": {},
   "outputs": [],
   "source": []
  }
 ],
 "metadata": {
  "kernelspec": {
   "display_name": "Python 3 (ipykernel)",
   "language": "python",
   "name": "python3"
  },
  "language_info": {
   "codemirror_mode": {
    "name": "ipython",
    "version": 3
   },
   "file_extension": ".py",
   "mimetype": "text/x-python",
   "name": "python",
   "nbconvert_exporter": "python",
   "pygments_lexer": "ipython3",
   "version": "3.10.8"
  }
 },
 "nbformat": 4,
 "nbformat_minor": 5
}
