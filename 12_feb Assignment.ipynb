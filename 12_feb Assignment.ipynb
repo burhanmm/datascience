{
 "cells": [
  {
   "cell_type": "markdown",
   "id": "518f7f8f-9843-435f-80fb-d82335a95fc9",
   "metadata": {},
   "source": [
    "# Q1. What is an Exception in python? Write the difference between Exceptions and syntax errors?"
   ]
  },
  {
   "cell_type": "markdown",
   "id": "473c7ad0-4286-45cf-abb8-af69c2265391",
   "metadata": {},
   "source": [
    "In Python, an exception is an error that occurs during the execution of a program that disrupts the normal flow of program execution. When an exception occurs, Python raises an error message to alert the programmer about the problem. Exceptions can occur for a variety of reasons, such as division by zero, attempting to access an undefined variable, or attempting to open a file that doesn't exist.\n",
    "\n",
    "On the other hand, syntax errors occur when the Python interpreter is unable to parse a program's code due to incorrect syntax. A syntax error is a mistake in the way the code is written that prevents it from being parsed correctly, and it is usually detected by the interpreter during the program's compilation phase.\n",
    "\n",
    "The key difference between exceptions and syntax errors is that exceptions occur during the execution of a program, while syntax errors are detected during the program's compilation phase. Another difference is that exceptions can be caught and handled by the program, while syntax errors must be fixed by the programmer before the program can be executed. In other words, syntax errors are a result of the programmer's mistakes, while exceptions can be caused by a wide range of factors, including user input or system errors."
   ]
  },
  {
   "cell_type": "markdown",
   "id": "844a41f8-b19c-4d10-9bd8-483c40af50fa",
   "metadata": {},
   "source": [
    "# Q2. What happens when an exception is not handled, Explain with an example?"
   ]
  },
  {
   "cell_type": "markdown",
   "id": "2f7d2459-f6a5-42f5-97fa-60720b44190c",
   "metadata": {},
   "source": [
    "In Python, try-except statements are used to catch and handle exceptions.\n",
    "\n",
    "The try block is used to enclose the code that may raise an exception, while the except block is used to handle the exception if one occurs. If an exception is raised within the try block, the program control is transferred to the except block.\n",
    "\n",
    "Here's an example of using try-except statements in Python:"
   ]
  },
  {
   "cell_type": "code",
   "execution_count": 33,
   "id": "a3692e8d-085d-4395-9306-d74f6955910b",
   "metadata": {},
   "outputs": [
    {
     "name": "stdin",
     "output_type": "stream",
     "text": [
      "Enter a number:  as\n"
     ]
    },
    {
     "name": "stdout",
     "output_type": "stream",
     "text": [
      "Invalid input! Please enter a valid integer.\n"
     ]
    }
   ],
   "source": [
    "try:\n",
    "    x = int(input(\"Enter a number: \"))\n",
    "    y = 10 / x\n",
    "    print(y)\n",
    "except ValueError:\n",
    "    print(\"Invalid input! Please enter a valid integer.\")\n",
    "except ZeroDivisionError:\n",
    "    print(\"Division by zero error! Cannot divide by zero.\")\n"
   ]
  },
  {
   "cell_type": "markdown",
   "id": "169aa30e-64f2-44a9-ae9f-2cf75a2fca58",
   "metadata": {},
   "source": [
    "# Q3. Which Python statements are used to catch and handle exceptions? Explain with Example "
   ]
  },
  {
   "cell_type": "markdown",
   "id": "42546322-e3fc-4580-b6ea-4bbf44003ff0",
   "metadata": {},
   "source": [
    "In Python, the try and except statements are used to catch and handle exceptions. The try block contains the code that may raise an exception, and the except block contains the code that handles the exception if it occurs.\n",
    "\n",
    "Here's an example of how to use try and except statements to catch and handle a ZeroDivisionError exception,"
   ]
  },
  {
   "cell_type": "code",
   "execution_count": 34,
   "id": "3d650b70-c849-4f6b-8f5d-5fc0d1228bd8",
   "metadata": {},
   "outputs": [
    {
     "name": "stdout",
     "output_type": "stream",
     "text": [
      "Cannot divide by zero\n"
     ]
    }
   ],
   "source": [
    "try:\n",
    "    result = 1 / 0\n",
    "except ZeroDivisionError:\n",
    "    print(\"Cannot divide by zero\")\n",
    "    \n",
    "# In this example, the code in the try block attempts to divide the number 1 by 0, which will raise a ZeroDivisionError exception. \n",
    "# However, instead of crashing the program, the exception is caught by the except block, \n",
    "# which prints the message \"Cannot divide by zero\" to the console."
   ]
  },
  {
   "cell_type": "markdown",
   "id": "7dee98e0-b018-4b6b-a590-507d2ad081f8",
   "metadata": {},
   "source": [
    "# Q4. Expalion with an example\n",
    "a) try and else\n",
    "b) finally\n",
    "c) raise"
   ]
  },
  {
   "cell_type": "markdown",
   "id": "1b33c850-8e74-4cbb-9bde-8ffc82f5a569",
   "metadata": {},
   "source": [
    "a) Try and else:\n",
    "The try-except-else block is used in Python for exception handling. The try block contains the code that might raise an exception. The except block contains the code that will be executed if an exception is raised in the try block. The else block is executed if no exceptions were raised in the try block."
   ]
  },
  {
   "cell_type": "code",
   "execution_count": 35,
   "id": "4b07e15a-d371-4eb6-8577-9748d559cc7d",
   "metadata": {},
   "outputs": [
    {
     "name": "stdin",
     "output_type": "stream",
     "text": [
      "Enter the numerator:  1\n",
      "Enter the denominator:  0\n"
     ]
    },
    {
     "name": "stdout",
     "output_type": "stream",
     "text": [
      "Error: Cannot divide by zero.\n"
     ]
    }
   ],
   "source": [
    "try:\n",
    "    numerator = int(input(\"Enter the numerator: \"))\n",
    "    denominator = int(input(\"Enter the denominator: \"))\n",
    "    result = numerator / denominator\n",
    "except ZeroDivisionError:\n",
    "    print(\"Error: Cannot divide by zero.\")\n",
    "else:\n",
    "    print(\"The result is:\", result)\n"
   ]
  },
  {
   "cell_type": "markdown",
   "id": "ee452de4-3af9-481e-bbe1-1fe95059f8cf",
   "metadata": {},
   "source": [
    "b) Finally:\n",
    "The finally block is used in Python to define a block of code that will be executed regardless of whether an exception is raised or not"
   ]
  },
  {
   "cell_type": "code",
   "execution_count": 39,
   "id": "f8a2751d-fe3f-4768-ad6d-65ab129ac65d",
   "metadata": {},
   "outputs": [
    {
     "name": "stdout",
     "output_type": "stream",
     "text": [
      "An error occurred while reading the file.\n",
      "file closed\n"
     ]
    }
   ],
   "source": [
    "try:\n",
    "    file = open(\"created_file3.txt\", \"r\")\n",
    "    # some code to read the file\n",
    "except:\n",
    "    print(\"An error occurred while reading the file.\")\n",
    "finally:\n",
    "    file.close()\n",
    "    print(\"file closed\")"
   ]
  },
  {
   "cell_type": "markdown",
   "id": "d5f2d404-a2da-423f-9ed4-77f5942d4ef6",
   "metadata": {},
   "source": [
    "c) Raise:\n",
    "The raise statement is used in Python to raise an exception. It can be used to raise a built-in exception or a custom exception."
   ]
  },
  {
   "cell_type": "code",
   "execution_count": 43,
   "id": "cd98df32-b8dc-41cd-92a6-d80b4cda49b6",
   "metadata": {},
   "outputs": [
    {
     "name": "stdout",
     "output_type": "stream",
     "text": [
      "Cannot divide by zero.\n"
     ]
    }
   ],
   "source": [
    "def divide(numerator, denominator):\n",
    "    if denominator == 0:\n",
    "        raise ZeroDivisionError(\"Cannot divide by zero.\")\n",
    "    return numerator / denominator\n",
    "\n",
    "try:\n",
    "    result = divide(10, 0)\n",
    "except ZeroDivisionError as e:\n",
    "    print(e)"
   ]
  },
  {
   "cell_type": "markdown",
   "id": "b4620a1f-97e9-46d0-be36-965a24e616d7",
   "metadata": {},
   "source": [
    "Q5. What are Custom Exceptions in python? Why do we need Custom Exceptions? Explain with an example"
   ]
  },
  {
   "cell_type": "markdown",
   "id": "e198f3db-9ed5-4eeb-8127-821e4cf611a4",
   "metadata": {},
   "source": [
    "In Python, Custom Exceptions are user-defined exceptions that are created to handle specific types of errors or exceptional situations that are not already covered by the built-in exceptions in the language. Custom Exceptions allow developers to create their own error messages and define how they should be handled in their code.\n",
    "\n",
    "Custom Exceptions are needed because sometimes the built-in exceptions in Python may not accurately describe the nature of the error, or they may not provide enough information about the error to help with debugging. Custom Exceptions can be used to provide more specific information about the error, making it easier to debug and resolve issues."
   ]
  },
  {
   "cell_type": "code",
   "execution_count": 44,
   "id": "b6051583-7b26-4a0d-8ed7-0d0c6e9f217c",
   "metadata": {},
   "outputs": [],
   "source": [
    "class InvalidAgeError(Exception):\n",
    "    def __init__(self, age):\n",
    "        self.age = age\n",
    "        super().__init__(f\"Invalid age: {age}. Age must be greater than zero.\")\n",
    "\n",
    "def calculate_discount(age):\n",
    "    if age <= 0:\n",
    "        raise InvalidAgeError(age)\n",
    "    elif age < 18:\n",
    "        return 0.1\n",
    "    elif age < 65:\n",
    "        return 0.2\n",
    "    else:\n",
    "        return 0.3       "
   ]
  },
  {
   "cell_type": "code",
   "execution_count": 45,
   "id": "8143302c-1b5a-40a1-9c3d-8cc929fad7d7",
   "metadata": {},
   "outputs": [
    {
     "name": "stdout",
     "output_type": "stream",
     "text": [
      "0.2\n"
     ]
    }
   ],
   "source": [
    "b = calculate_discount(29)\n",
    "print(b)"
   ]
  },
  {
   "cell_type": "markdown",
   "id": "8a60193a-7275-43d0-aabd-dbc2a9176b89",
   "metadata": {},
   "source": [
    "# Q6. Create custom exception class. Use this class to handle an exception?"
   ]
  },
  {
   "cell_type": "code",
   "execution_count": null,
   "id": "cec1c5a7-5e26-4683-9de5-64fe06b1ac4e",
   "metadata": {},
   "outputs": [],
   "source": [
    "class NegativeNumberError(Exception):\n",
    "    \"\"\"Custom exception for handling negative numbers\"\"\"\n",
    "    def __init__(self, number):\n",
    "        self.number = number\n",
    "        super().__init__(f\"Invalid number: {number}. Number must be positive.\")\n",
    "\n",
    "\n",
    "def square_root(num):\n",
    "    if num < 0:\n",
    "        raise NegativeNumberError(num)\n",
    "    else:\n",
    "        return num ** 0.5\n",
    "\n",
    "\n",
    "try:\n",
    "    print(square_root(9))   # Output: 3.0\n",
    "    print(square_root(-9))  # Raises NegativeNumberError\n",
    "except NegativeNumberError as e:\n",
    "    print(e)   # Output: Invalid number: -9. Number must be positive.\n"
   ]
  }
 ],
 "metadata": {
  "kernelspec": {
   "display_name": "Python 3 (ipykernel)",
   "language": "python",
   "name": "python3"
  },
  "language_info": {
   "codemirror_mode": {
    "name": "ipython",
    "version": 3
   },
   "file_extension": ".py",
   "mimetype": "text/x-python",
   "name": "python",
   "nbconvert_exporter": "python",
   "pygments_lexer": "ipython3",
   "version": "3.10.8"
  }
 },
 "nbformat": 4,
 "nbformat_minor": 5
}
