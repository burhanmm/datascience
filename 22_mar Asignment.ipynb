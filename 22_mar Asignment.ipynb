{
 "cells": [
  {
   "cell_type": "markdown",
   "id": "129dcfe3-6969-4d1e-81b5-668d8f0993d8",
   "metadata": {},
   "source": [
    "# Q1. Pearson correlation coefficient is a measure of the linear relationship between two variables. Suppose you have collected data on the amount of time students spend studying for an exam and their final exam scores. Calculate the Pearson correlation coefficient between these two variables and interpret the result.\n"
   ]
  },
  {
   "cell_type": "code",
   "execution_count": 2,
   "id": "55a22083-d7a9-43bc-90ef-847f8d412ec7",
   "metadata": {},
   "outputs": [
    {
     "name": "stdout",
     "output_type": "stream",
     "text": [
      "Pearson correlation coefficient: 0.971948390231306\n"
     ]
    }
   ],
   "source": [
    "import numpy as np\n",
    "\n",
    "# Create two arrays of data for studying time and exam scores\n",
    "studying_time = np.array([10, 8, 9, 7, 6, 10, 5, 7, 8, 6])\n",
    "exam_scores = np.array([90, 85, 89, 80, 78, 93, 70, 82, 87, 75])\n",
    "\n",
    "# Calculate the Pearson correlation coefficient\n",
    "r = np.corrcoef(studying_time, exam_scores)[0,1]\n",
    "\n",
    "# Print the result\n",
    "print(\"Pearson correlation coefficient:\", r)\n"
   ]
  },
  {
   "cell_type": "markdown",
   "id": "a2f33dad-7f6c-4975-aaeb-3a565f34365b",
   "metadata": {},
   "source": [
    "the Pearson correlation coefficient is close to +1, it indicates a strong positive linear relationship between studying time and exam scores. In this case, we could predict that as students spend more time studying, their exam scores are likely to increase."
   ]
  },
  {
   "cell_type": "markdown",
   "id": "12e7f4f2-9c7e-4b39-81c2-1544cbe4ba30",
   "metadata": {},
   "source": [
    "# Q2. Spearman's rank correlation is a measure of the monotonic relationship between two variables. Suppose you have collected data on the amount of sleep individuals get each night and their overall job satisfaction level on a scale of 1 to 10. Calculate the Spearman's rank correlation between these two variables and interpret the result.\n"
   ]
  },
  {
   "cell_type": "code",
   "execution_count": 5,
   "id": "cd92ab0c-3126-4af6-8124-e07ad7b32da6",
   "metadata": {},
   "outputs": [
    {
     "name": "stdout",
     "output_type": "stream",
     "text": [
      "Spearman's rank correlation coefficient: 0.8626594336638181\n"
     ]
    }
   ],
   "source": [
    "from scipy.stats import spearmanr\n",
    "\n",
    "# Create two lists of data for sleep and job satisfaction\n",
    "sleep = [7, 6, 8, 5, 7, 6, 8, 7, 6, 5]\n",
    "job_satisfaction = [8, 5, 9, 6, 7, 5, 8, 7, 6, 5]\n",
    "\n",
    "# Calculate the Spearman's rank correlation\n",
    "rho,pvalue = spearmanr(sleep, job_satisfaction)\n",
    "\n",
    "# Print the result\n",
    "print(\"Spearman's rank correlation coefficient:\", rho)\n",
    "\n"
   ]
  },
  {
   "cell_type": "markdown",
   "id": "c83947d9-ccaf-4951-962f-50b3b293c49e",
   "metadata": {},
   "source": [
    "The Spearman's rank correlation coefficient is close to +1, it indicates a strong monotonic relationship between the two variables, meaning that as the amount of sleep individuals get each night increases, so does their job satisfaction level."
   ]
  },
  {
   "cell_type": "markdown",
   "id": "8e4087f8-bd1f-4098-b652-0d2648cd2010",
   "metadata": {},
   "source": [
    "# Q3. Suppose you are conducting a study to examine the relationship between the number of hours of exercise per week and body mass index (BMI) in a sample of adults. You collected data on both variables for 50 participants. Calculate the Pearson correlation coefficient and the Spearman's rank correlation between these two variables and compare the results.\n"
   ]
  },
  {
   "cell_type": "code",
   "execution_count": 12,
   "id": "db43eed0-4b71-45f8-b002-67b3879ee466",
   "metadata": {},
   "outputs": [
    {
     "name": "stdout",
     "output_type": "stream",
     "text": [
      "Pearson correlation coefficient: -0.5506437049279406\n",
      "Spearman's rank correlation coefficient: -0.5620554532189472\n"
     ]
    }
   ],
   "source": [
    "import pandas as pd\n",
    "from scipy.stats import pearsonr, spearmanr\n",
    "\n",
    "# Create a dataframe with the data\n",
    "data = pd.DataFrame({'hours_exercise': [4, 5, 2, 6, 3, 4, 5, 3, 2, 4, \n",
    "                                        5, 3, 4, 6, 2, 3, 5, 4, 2, 3, \n",
    "                                        4, 5, 3, 6, 2, 4, 5, 3, 2, 4, \n",
    "                                        5, 3, 4, 6, 2, 3, 5, 4, 2, 3, \n",
    "                                        4, 5, 3, 6, 2, 4, 5, 3, 2, 4],\n",
    "                     'bmi': [23, 27, 32, 29, 28, 25, 24, 30, 33, 27,\n",
    "                             26, 28, 31, 28, 26, 29, 24, 27, 31, 30,\n",
    "                             28, 25, 30, 27, 29, 26, 24, 31, 28, 30,\n",
    "                             26, 29, 27, 25, 30, 31, 28, 24, 26, 29,\n",
    "                             30, 27, 28, 24, 31, 26, 29, 27, 30, 28]})\n",
    "\n",
    "# Calculate the Pearson correlation coefficient\n",
    "pearson_corr, pval_pearson = pearsonr(data['hours_exercise'], data['bmi'])\n",
    "\n",
    "# Calculate the Spearman's rank correlation coefficient\n",
    "spearman_corr, pval_spearman = spearmanr(data['hours_exercise'], data['bmi'])\n",
    "\n",
    "# Print the results\n",
    "\n",
    "print(\"Pearson correlation coefficient:\", pearson_corr)\n",
    "print(\"Spearman's rank correlation coefficient:\", spearman_corr)\n",
    "\n"
   ]
  },
  {
   "cell_type": "markdown",
   "id": "ebaa510a-7cda-4241-a60d-4c4637009a5a",
   "metadata": {},
   "source": [
    "The Pearson correlation coefficient measures the linear relationship between two variables, while the Spearman's rank correlation coefficient measures the monotonic relationship. If the relationship between the two variables is approximately linear, the Pearson correlation coefficient is likely to be more appropriate. If the relationship is non-linear, the Spearman's rank correlation coefficient may be more appropriate. It's also possible that the two coefficients will give similar results, in which case you can choose the one that makes more sense in the context of your study"
   ]
  },
  {
   "cell_type": "markdown",
   "id": "dbe6506a-204c-4776-a855-95d51fc4894f",
   "metadata": {},
   "source": [
    "# Q4. A researcher is interested in examining the relationship between the number of hours individuals spend watching television per day and their level of physical activity. The researcher collected data on both variables from a sample of 50 participants. Calculate the Pearson correlation coefficient between these two variables.\n"
   ]
  },
  {
   "cell_type": "code",
   "execution_count": 13,
   "id": "60ba36e5-fae7-4a80-854a-822c89de07e1",
   "metadata": {},
   "outputs": [
    {
     "name": "stdout",
     "output_type": "stream",
     "text": [
      "Pearson correlation coefficient: 0.5730525162741855\n"
     ]
    }
   ],
   "source": [
    "import pandas as pd\n",
    "from scipy.stats import pearsonr\n",
    "\n",
    "# Create a dataframe with the data\n",
    "data = pd.DataFrame({'hours_tv': [3, 4, 2, 6, 3, 4, 5, 3, 2, 4,\n",
    "                                   5, 3, 4, 6, 2, 3, 5, 4, 2, 3,\n",
    "                                   4, 5, 3, 6, 2, 4, 5, 3, 2, 4,\n",
    "                                   5, 3, 4, 6, 2, 3, 5, 4, 2, 3,\n",
    "                                   4, 5, 3, 6, 2, 4, 5, 3, 2, 4],\n",
    "                     'activity_level': [2, 4, 3, 6, 4, 3, 5, 4, 3, 4,\n",
    "                                        6, 5, 4, 5, 3, 4, 6, 4, 3, 4,\n",
    "                                        5, 4, 6, 4, 3, 5, 6, 4, 3, 4,\n",
    "                                        5, 4, 6, 4, 3, 5, 6, 4, 3, 4,\n",
    "                                        5, 4, 6, 4, 3, 5, 6, 4, 3, 4]})\n",
    "\n",
    "# Calculate the Pearson correlation coefficient\n",
    "pearson_corr, pval = pearsonr(data['hours_tv'], data['activity_level'])\n",
    "\n",
    "# Print the results\n",
    "print(\"Pearson correlation coefficient:\", pearson_corr)\n"
   ]
  },
  {
   "cell_type": "markdown",
   "id": "cac1c25b-96a2-4996-b1dd-cab8164e0526",
   "metadata": {},
   "source": [
    "A Pearson correlation coefficient of 0.573 indicates a moderate positive correlation between the number of hours individuals spend watching television per day and their level of physical activity. This means that as the number of hours spent watching TV increases, so does the level of physical activity to some extent."
   ]
  },
  {
   "cell_type": "markdown",
   "id": "f50c5391-7833-4981-b757-413a194079fc",
   "metadata": {},
   "source": [
    "# Q5. A survey was conducted to examine the relationship between age and preference for a particular brand of soft drink. The survey results are shown below:"
   ]
  },
  {
   "cell_type": "code",
   "execution_count": 16,
   "id": "349da2f7-eeb3-4d73-845a-08238e5c520d",
   "metadata": {},
   "outputs": [
    {
     "data": {
      "text/html": [
       "<div>\n",
       "<style scoped>\n",
       "    .dataframe tbody tr th:only-of-type {\n",
       "        vertical-align: middle;\n",
       "    }\n",
       "\n",
       "    .dataframe tbody tr th {\n",
       "        vertical-align: top;\n",
       "    }\n",
       "\n",
       "    .dataframe thead th {\n",
       "        text-align: right;\n",
       "    }\n",
       "</style>\n",
       "<table border=\"1\" class=\"dataframe\">\n",
       "  <thead>\n",
       "    <tr style=\"text-align: right;\">\n",
       "      <th></th>\n",
       "      <th>Age(years)</th>\n",
       "      <th>Soft Drink Preference</th>\n",
       "    </tr>\n",
       "  </thead>\n",
       "  <tbody>\n",
       "    <tr>\n",
       "      <th>0</th>\n",
       "      <td>25</td>\n",
       "      <td>Coke</td>\n",
       "    </tr>\n",
       "    <tr>\n",
       "      <th>1</th>\n",
       "      <td>42</td>\n",
       "      <td>Pepsi</td>\n",
       "    </tr>\n",
       "    <tr>\n",
       "      <th>2</th>\n",
       "      <td>37</td>\n",
       "      <td>Mountain Dew</td>\n",
       "    </tr>\n",
       "    <tr>\n",
       "      <th>3</th>\n",
       "      <td>19</td>\n",
       "      <td>Coke</td>\n",
       "    </tr>\n",
       "    <tr>\n",
       "      <th>4</th>\n",
       "      <td>31</td>\n",
       "      <td>Pepsi</td>\n",
       "    </tr>\n",
       "    <tr>\n",
       "      <th>5</th>\n",
       "      <td>28</td>\n",
       "      <td>Coke</td>\n",
       "    </tr>\n",
       "  </tbody>\n",
       "</table>\n",
       "</div>"
      ],
      "text/plain": [
       "   Age(years) Soft Drink Preference\n",
       "0          25                  Coke\n",
       "1          42                 Pepsi\n",
       "2          37          Mountain Dew\n",
       "3          19                  Coke\n",
       "4          31                 Pepsi\n",
       "5          28                  Coke"
      ]
     },
     "execution_count": 16,
     "metadata": {},
     "output_type": "execute_result"
    }
   ],
   "source": [
    "import pandas as pd\n",
    "df = pd.DataFrame({\"Age(years)\":[25,42,37,19,31,28],\"Soft Drink Preference\":[\"Coke\",\"Pepsi\",\"Mountain Dew\",\"Coke\",\"Pepsi\",\"Coke\"]})\n",
    "df"
   ]
  },
  {
   "cell_type": "code",
   "execution_count": 20,
   "id": "50452912-b977-4873-8802-f43780c90e76",
   "metadata": {},
   "outputs": [
    {
     "name": "stdout",
     "output_type": "stream",
     "text": [
      "Soft Drink Preference  Coke  Mountain Dew  Pepsi\n",
      "Age(years)                                      \n",
      "19                        1             0      0\n",
      "25                        1             0      0\n",
      "28                        1             0      0\n",
      "31                        0             0      1\n",
      "37                        0             1      0\n",
      "42                        0             0      1\n",
      "Chi-square test statistic: 12.000000000000002\n",
      "p-value: 0.28505650031663116\n",
      "Degrees of freedom: 10\n",
      "Expected frequencies:\n",
      " [[0.5        0.16666667 0.33333333]\n",
      " [0.5        0.16666667 0.33333333]\n",
      " [0.5        0.16666667 0.33333333]\n",
      " [0.5        0.16666667 0.33333333]\n",
      " [0.5        0.16666667 0.33333333]\n",
      " [0.5        0.16666667 0.33333333]]\n"
     ]
    }
   ],
   "source": [
    "import pandas as pd\n",
    "from scipy.stats import chi2_contingency\n",
    "\n",
    "# Create a dataframe with the data\n",
    "df = pd.DataFrame({\"Age(years)\":[25,42,37,19,31,28],\"Soft Drink Preference\":[\"Coke\",\"Pepsi\",\"Mountain Dew\",\"Coke\",\"Pepsi\",\"Coke\"]})\n",
    "\n",
    "# Create a contingency table\n",
    "contingency_table = pd.crosstab(df['Age(years)'], df['Soft Drink Preference'])\n",
    "\n",
    "# Print the contingency table\n",
    "print(contingency_table)\n",
    "\n",
    "# Perform the chi-square test of independence\n",
    "chi2_stat, pval, dof, expected = chi2_contingency(contingency_table)\n",
    "\n",
    "# Print the results\n",
    "print(\"Chi-square test statistic:\", chi2_stat)\n",
    "print(\"p-value:\", pval)\n",
    "print(\"Degrees of freedom:\", dof)\n",
    "print(\"Expected frequencies:\\n\", expected)\n",
    "\n"
   ]
  },
  {
   "cell_type": "markdown",
   "id": "692b7920-28e1-4053-9797-c0b1a08418bd",
   "metadata": {},
   "source": [
    "# Q6. A company is interested in examining the relationship between the number of sales calls made per day and the number of sales made per week. The company collected data on both variables from a sample of 30 sales representatives. Calculate the Pearson correlation coefficient between these two variables."
   ]
  },
  {
   "cell_type": "code",
   "execution_count": 21,
   "id": "a561cb9c-a6dc-4703-9b2d-4ebb6bc37bea",
   "metadata": {},
   "outputs": [
    {
     "name": "stdout",
     "output_type": "stream",
     "text": [
      "Pearson correlation coefficient: 0.9897938260254878\n"
     ]
    }
   ],
   "source": [
    "import pandas as pd\n",
    "from scipy.stats import pearsonr\n",
    "\n",
    "# Create a dataframe with the data\n",
    "data = pd.DataFrame({'sales_calls': [30, 50, 20, 60, 40, 30, 70, 80, 40, 50,\n",
    "                                     60, 30, 40, 50, 20, 30, 70, 50, 20, 30,\n",
    "                                     40, 60, 30, 70, 20, 50, 70, 30, 20, 40],\n",
    "                     'sales': [5, 8, 3, 10, 6, 4, 12, 13, 7, 8,\n",
    "                               10, 5, 6, 8, 3, 5, 11, 8, 2, 4,\n",
    "                               6, 9, 4, 12, 2, 8, 12, 5, 3, 7]})\n",
    "\n",
    "# Calculate the Pearson correlation coefficient\n",
    "pearson_corr, pval = pearsonr(data['sales_calls'], data['sales'])\n",
    "\n",
    "# Print the results\n",
    "print(\"Pearson correlation coefficient:\", pearson_corr)"
   ]
  },
  {
   "cell_type": "markdown",
   "id": "e29d8a37-cc9c-449d-922d-385be010b5ea",
   "metadata": {},
   "source": [
    "A positive Pearson correlation coefficient indicate a positive correlation between the number of sales calls made per day and the number of sales made per week"
   ]
  }
 ],
 "metadata": {
  "kernelspec": {
   "display_name": "Python 3 (ipykernel)",
   "language": "python",
   "name": "python3"
  },
  "language_info": {
   "codemirror_mode": {
    "name": "ipython",
    "version": 3
   },
   "file_extension": ".py",
   "mimetype": "text/x-python",
   "name": "python",
   "nbconvert_exporter": "python",
   "pygments_lexer": "ipython3",
   "version": "3.10.8"
  }
 },
 "nbformat": 4,
 "nbformat_minor": 5
}
