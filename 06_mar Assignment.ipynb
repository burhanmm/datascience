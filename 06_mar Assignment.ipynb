{
 "cells": [
  {
   "cell_type": "markdown",
   "id": "f64fd46f-5cc9-4bd4-a735-dc48bc07d8b7",
   "metadata": {},
   "source": [
    "# Q1. What is Statistics?\n",
    "\n",
    "Statistics is science of collecting, organizaing and analyzing data, where data can be measured record and can be captured. The aim of analyzong data to help in decision making process "
   ]
  },
  {
   "cell_type": "markdown",
   "id": "b2146a3d-ab19-4807-a44c-2b5f5198a710",
   "metadata": {},
   "source": [
    "# Q2. Define the different types of statistics and give an example of when each type might be used.\n",
    "\n",
    "There are Two types of statistics:\n",
    "Descriptive Data and Inferential Data\n",
    "\n",
    "Descriptive data deals with organizing and sumerizing data\n",
    "example : Marks obtain in maths for student in 10th class.\n",
    "\n",
    "Inferential Data consist of using data,  you have measured to form conllusion\n",
    "example : exit poll of election"
   ]
  },
  {
   "cell_type": "markdown",
   "id": "5d1f25f2-a5e6-44d2-946d-3adef8925db3",
   "metadata": {},
   "source": [
    "# Q3. What are the different types of data and how do they differ from each other? Provide an example of each type of data.\n",
    "\n",
    "there are two types of data \n",
    "\n",
    "1) Quantitatuive Data :\n",
    "\n",
    "    It is a Numerical data further divided into two types\n",
    "    \n",
    "        i) Discrete\n",
    "        \n",
    "            the should be a whole number and in range\n",
    "            \n",
    "            example : whole numbers, number subject in ssc class, \n",
    "        \n",
    "        ii) Continous \n",
    "        \n",
    "            Any value\n",
    "            \n",
    "            example : temprtaure, spped, height\n",
    "\n",
    "2) Qualitattive Data : \n",
    "\n",
    "    it is a categorical data further divided into two types\n",
    "    \n",
    "        i) Nominal Data\n",
    "        \n",
    "            example : gender(M.F), Blood group, yes?no type data\n",
    "            \n",
    "        II) Ordinal Data\n",
    "        \n",
    "            these data have factor of rank\n",
    "            \n",
    "            example : good, bad ,satisfactory,\n",
    "            "
   ]
  },
  {
   "cell_type": "markdown",
   "id": "385842a2-468b-4a44-a56a-cbde77e6386e",
   "metadata": {},
   "source": [
    "# Q4. Categorise the following datasets with respect to quantitative and qualitative data types:\n",
    "\n",
    "(i) Grading in exam: A+, A, B+, B, C+, C, D, E  = Ordinal Qualitative Data\n",
    "\n",
    "\n",
    "(ii) Colour of mangoes: yellow, green, orange, red = Nominal Qualitative Data\n",
    "\n",
    "\n",
    "(iii) Height data of a class: [178.9, 179, 179.5, 176, 177.2, 178.3, 175.8,...] = Continous Quantitative Data\n",
    "\n",
    "(iv) Number of mangoes exported by a farm: [500, 600, 478, 672, ...] =  Discrete Quantitative Data\n",
    "\n"
   ]
  },
  {
   "cell_type": "markdown",
   "id": "f56d1ffa-c490-4c95-afb8-338870c9dfe5",
   "metadata": {},
   "source": [
    "# Q5. Explain the concept of levels of measurement and give an example of a variable for each level.\n",
    "\n",
    "Levels of measurement, also known as scales of measurement, refer to the different ways in which variables can be measured or classified. There are four levels of measurement: nominal, ordinal, interval, and ratio.\n",
    "\n",
    "Nominal Level of Measurement: This is the lowest level of measurement and is used for variables that can be classified into categories, but cannot be ranked or ordered. Examples of nominal level variables include gender (male, female), race (Caucasian, African American, Hispanic, etc.), and political affiliation (Republican, Democrat, Independent, etc.).\n",
    "\n",
    "Ordinal Level of Measurement: This level of measurement is used for variables that can be ranked or ordered, but the differences between the values are not meaningful. Examples of ordinal level variables include educational attainment (high school diploma, bachelor's degree, master's degree, etc.), income levels (low, medium, high), and military ranks (private, corporal, sergeant, etc.).\n",
    "\n",
    "Interval Level of Measurement: This level of measurement is used for variables that can be ranked or ordered, and the differences between the values are meaningful. However, there is no true zero point. Examples of interval level variables include temperature in Celsius or Fahrenheit, IQ scores, and dates.\n",
    "\n",
    "Ratio Level of Measurement: This is the highest level of measurement and is used for variables that can be ranked or ordered, and the differences between the values are meaningful. In addition, there is a true zero point. Examples of ratio level variables include height, weight, income, and time.\n",
    "\n",
    "\n"
   ]
  },
  {
   "cell_type": "markdown",
   "id": "3c8ae8f9-8058-4a8a-9a10-e6b10617b2d9",
   "metadata": {},
   "source": [
    "# Q6. Why is it important to understand the level of measurement when analyzing data? Provide an example to illustrate your answer.\n",
    "\n",
    "Understanding the level of measurement of a variable is crucial when analyzing data because it determines the types of statistical analysis that can be used and the appropriate measures of central tendency and variability to use when summarizing the data. Using inappropriate statistical analyses or measures can result in incorrect conclusions and interpretations.\n",
    "\n",
    "For example, if a researcher wants to investigate the relationship between gender and political affiliation, they must understand that gender is a nominal variable, and political affiliation is an ordinal variable. They cannot use measures of central tendency such as mean or median with nominal data, nor can they use tests that require a continuous variable. Instead, they could use chi-square test or contingency table to analyze the relationship between these two variables.\n",
    "\n"
   ]
  },
  {
   "cell_type": "markdown",
   "id": "5c2c50e6-8804-4edd-9656-b4a99486b00a",
   "metadata": {},
   "source": [
    "# Q7. How nominal data type is different from ordinal data type.\n",
    "\n",
    "Nominal and ordinal are two types of categorical data. The main difference between nominal and ordinal data is the level of measurement and the type of information they provide.\n",
    "\n",
    "Nominal data is used to label variables without providing any quantitative value or ranking. For example, colors, gender, or types of fruit are nominal data. Nominal data only provides information about the identity or classification of a variable, but not about its quantity or magnitude.\n",
    "\n",
    "Ordinal data, on the other hand, is used to rank variables in a specific order or sequence. This type of data has a natural ordering or ranking of the categories. Examples of ordinal data include rating scales, such as customer satisfaction ratings or movie ratings. Ordinal data provide information about the order or ranking of the variables, but not about the magnitude of the difference between them."
   ]
  },
  {
   "cell_type": "markdown",
   "id": "79cac1c7-4024-4df7-95e5-cac221eb66e5",
   "metadata": {},
   "source": [
    "# Q8. Which type of plot can be used to display data in terms of range?\n",
    "\n",
    "A box plot (also known as a box and whisker plot) is commonly used to display data in terms of range. A box plot displays the range and distribution of a set of data by showing the median, quartiles, and outliers.\n",
    "\n",
    "The box of the plot represents the interquartile range (IQR), which is the range of the middle 50% of the data. The line in the box represents the median, which is the middle value of the data. The whiskers of the plot represent the range of the data, excluding any outliers, and are often drawn at 1.5 times the IQR.\n",
    "\n",
    "Any data points that are outside of the whiskers are considered outliers and are represented as individual points on the plot. Box plots are particularly useful for comparing the range and distribution of data across different groups or categories.\n",
    "\n",
    "Overall, a box plot is a useful tool for displaying the range of data because it allows the viewer to easily see the spread and distribution of the data, as well as any outliers that may be present."
   ]
  },
  {
   "cell_type": "markdown",
   "id": "e705671c-f0da-4af1-abed-3e7ff1f09f24",
   "metadata": {},
   "source": [
    "# Q9. Describe the difference between descriptive and inferential statistics. Give an example of each type of statistics and explain how they are used.\n",
    "\n",
    "Descriptive and inferential statistics are two branches of statistics that are used to analyze and interpret data in different ways.\n",
    "\n",
    "Descriptive statistics refers to the techniques and methods used to summarize and describe the characteristics of a dataset. This includes measures of central tendency, such as mean, median, and mode, as well as measures of variability, such as standard deviation and range. Descriptive statistics are used to provide a clear and concise summary of the data, such as the average score on a test or the distribution of scores in a sample. An example of descriptive statistics is calculating the mean and standard deviation of a dataset of exam scores to describe the performance of a group of students.\n",
    "\n",
    "Inferential statistics, on the other hand, involves making generalizations and predictions about a population based on a sample of data. This includes techniques such as hypothesis testing and confidence intervals. Inferential statistics are used to draw conclusions about a population based on a sample of data, such as determining whether a new drug is effective or whether a marketing campaign is successful. An example of inferential statistics is conducting a t-test to determine whether there is a statistically significant difference in the mean scores of two groups on a test."
   ]
  },
  {
   "cell_type": "markdown",
   "id": "0ead12b7-7e14-4810-a297-0fb1e0093963",
   "metadata": {},
   "source": [
    "# Q10. What are some common measures of central tendency and variability used in statistics? Explain how each measure can be used to describe a dataset.\n",
    "\n",
    "There are several measures of central tendency and variability used in statistics to describe a dataset. These measures provide important information about the distribution of data and can be used to compare different datasets. Some common measures of central tendency and variability include:\n",
    "\n",
    "Measures of Central Tendency:\n",
    "\n",
    "Mean: The mean is the most commonly used measure of central tendency, and it represents the average value of a dataset. It is calculated by adding up all the values in the dataset and dividing by the total number of values.\n",
    "\n",
    "Median: The median is the middle value in a dataset, when the values are arranged in ascending or descending order. It is less affected by extreme values, or outliers, than the mean.\n",
    "\n",
    "Mode: The mode is the most frequently occurring value in a dataset. It is useful for datasets that have a clear peak or clustering around certain values.\n",
    "\n",
    "Measures of Variability:\n",
    "\n",
    "Range: The range is the difference between the maximum and minimum values in a dataset. It provides a simple way to describe the spread of data in a dataset.\n",
    "\n",
    "Variance: The variance measures the average distance of each data point from the mean. It is calculated by taking the sum of the squared deviations from the mean and dividing by the total number of values.\n",
    "\n",
    "Standard Deviation: The standard deviation is the square root of the variance, and it provides a measure of how spread out the data is around the mean. A smaller standard deviation indicates that the data points are closer to the mean, while a larger standard deviation indicates that the data points are more spread out.\n",
    "\n",
    "In summary, measures of central tendency and variability are important for describing the characteristics of a dataset. The mean, median, and mode provide information about the typical value of the dataset, while the range, variance, and standard deviation describe how spread out the data is. Choosing the appropriate measure depends on the nature of the data and the research question being investigated."
   ]
  },
  {
   "cell_type": "code",
   "execution_count": null,
   "id": "ceac3cac-746d-4ef9-a076-cc565a64a682",
   "metadata": {},
   "outputs": [],
   "source": []
  }
 ],
 "metadata": {
  "kernelspec": {
   "display_name": "Python 3 (ipykernel)",
   "language": "python",
   "name": "python3"
  },
  "language_info": {
   "codemirror_mode": {
    "name": "ipython",
    "version": 3
   },
   "file_extension": ".py",
   "mimetype": "text/x-python",
   "name": "python",
   "nbconvert_exporter": "python",
   "pygments_lexer": "ipython3",
   "version": "3.10.8"
  }
 },
 "nbformat": 4,
 "nbformat_minor": 5
}
