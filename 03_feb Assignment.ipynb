{
 "cells": [
  {
   "cell_type": "markdown",
   "id": "f9385fb3",
   "metadata": {},
   "source": [
    "## Q1. Which keyword is used to create a function? Create a function to return a list of odd numbers in the range of 1 to 25."
   ]
  },
  {
   "cell_type": "code",
   "execution_count": 5,
   "id": "2e0db091",
   "metadata": {},
   "outputs": [],
   "source": [
    "\"\"\" def keyword is used to creat a function in python\n",
    "    def Function_Name():\"\"\"\n",
    "        \n",
    "lst = []\n",
    "\n",
    "def list_odd():\n",
    "    for i in range(1,26):\n",
    "        if i%2 != 0 :\n",
    "            lst.append(i)\n",
    "    return lst\n",
    "\n",
    "list_odd()"
   ]
  },
  {
   "cell_type": "markdown",
   "id": "9950f011",
   "metadata": {},
   "source": [
    "## Q2. Why *args and **kwargs is used in some functions? Create a function each for *args and **kwargs to demonstrate their use.\n"
   ]
  },
  {
   "cell_type": "markdown",
   "id": "9c3e9ddc",
   "metadata": {},
   "source": [
    "*args and *kwargs are used in Python functions to allow them to accept a variable number of arguments.\n",
    "\n",
    "*args is used to send a non-keyworded variable length argument list to the function. It allows you to pass a variable number of arguments to the function, which are then gathered into a tuple.\n",
    "\n",
    "*kwargs allows you to pass keyworded variable length of arguments to a function. It allows you to pass a keyworded, variable-length argument list. The arguments are passed as a dictionary to the function, with the keys being the argument names."
   ]
  },
  {
   "cell_type": "code",
   "execution_count": 14,
   "id": "6d26f510",
   "metadata": {},
   "outputs": [
    {
     "name": "stdout",
     "output_type": "stream",
     "text": [
      "burhan\n",
      "ineuron\n",
      "6\n",
      "8\n",
      "65\n",
      "___________________\n",
      "example of *kwargs\n",
      "___________________\n",
      "name: Burhan\n",
      "age: 29\n",
      "city: Pune\n"
     ]
    }
   ],
   "source": [
    "# *args\n",
    "\n",
    "def exmp_args(*args):\n",
    "    for arg in args:\n",
    "        print(arg)\n",
    "\n",
    "exmp_args(\"burhan\", \"ineuron\", 6, 8,65)\n",
    "\n",
    "print(\"___________________\\nexample of *kwargs\\n___________________\")\n",
    "# **kwargs\n",
    "def exmp_kwargs(**kwargs):\n",
    "    for key, value in kwargs.items():\n",
    "        print(f\"{key}: {value}\")\n",
    "\n",
    "exmp_kwargs(name=\"Burhan\", age=29, city=\"Pune\")"
   ]
  },
  {
   "cell_type": "markdown",
   "id": "aa3fa06c",
   "metadata": {},
   "source": [
    "## Q3. What is an iterator in python? Name the method used to initialise the iterator object and the method used for iteration. Use these methods to print the first five elements of the given list [2, 4, 6, 8, 10, 12, 14, 16,18, 20]."
   ]
  },
  {
   "cell_type": "markdown",
   "id": "37809ae5",
   "metadata": {},
   "source": [
    "An iterator in Python is an object that implements the iterator protocol, which consists of the methods __iter__()and __next__(). \n",
    "\n",
    "The __iter__() method returns the iterator object and the __next__() method returns the next value from the iterator. When there are no more items to return, __next__() raises a Stop Iteration exception. "
   ]
  },
  {
   "cell_type": "code",
   "execution_count": 16,
   "id": "a08a51dd",
   "metadata": {},
   "outputs": [
    {
     "name": "stdout",
     "output_type": "stream",
     "text": [
      "2\n",
      "4\n",
      "6\n",
      "8\n",
      "10\n"
     ]
    }
   ],
   "source": [
    "numbers = [2, 4, 6, 8, 10, 12, 14, 16, 18, 20]\n",
    "\n",
    "# Create an iterator object from the list\n",
    "num_iter = iter(numbers)\n",
    "\n",
    "# Use the next() method to get the next value from the iterator\n",
    "for i in range(5):\n",
    "    print(next(num_iter))"
   ]
  },
  {
   "cell_type": "markdown",
   "id": "dbbbc370",
   "metadata": {},
   "source": [
    "## Q4. What is a generator function in python? Why yield keyword is used? Give an example of a generator function.\n"
   ]
  },
  {
   "cell_type": "markdown",
   "id": "345782eb",
   "metadata": {},
   "source": [
    "A generator function in Python is a special kind of function that returns a generator iterator, which is an object that yields a sequence of values. Instead of using a return statement, a generator function uses the yield keyword to return a value.\n",
    "\n",
    "The yield keyword is used because it allows the generator function to return values one at a time, rather than all at once. This makes it more memory efficient, because it only holds the current value in memory, instead of all the values at once."
   ]
  },
  {
   "cell_type": "code",
   "execution_count": 17,
   "id": "a6a07cc5",
   "metadata": {},
   "outputs": [
    {
     "name": "stdout",
     "output_type": "stream",
     "text": [
      "0\n",
      "1\n",
      "4\n",
      "9\n",
      "16\n",
      "25\n",
      "36\n",
      "49\n",
      "64\n",
      "81\n"
     ]
    }
   ],
   "source": [
    "# Generator function that yields the squares of the numbers from 0 to 9:\n",
    "\n",
    "def sqr_num():\n",
    "    for i in range(10):\n",
    "        yield i**2\n",
    "\n",
    "for num in sqr_num():\n",
    "    print(num)"
   ]
  },
  {
   "cell_type": "markdown",
   "id": "36d7128e",
   "metadata": {},
   "source": [
    "## Q5. Create a generator function for prime numbers less than 1000. Use the next() method to print the first 20 prime numbers."
   ]
  },
  {
   "cell_type": "code",
   "execution_count": 26,
   "id": "674ab7c4",
   "metadata": {},
   "outputs": [
    {
     "name": "stdout",
     "output_type": "stream",
     "text": [
      "2\n",
      "3\n",
      "5\n",
      "7\n",
      "11\n",
      "13\n",
      "17\n",
      "19\n",
      "23\n",
      "29\n",
      "31\n",
      "37\n",
      "41\n",
      "43\n",
      "47\n",
      "53\n",
      "59\n",
      "61\n",
      "67\n",
      "71\n"
     ]
    }
   ],
   "source": [
    "def prime_numbers():\n",
    "    primes = []\n",
    "    for i in range(2, 1000):\n",
    "        for j in primes:\n",
    "            if i % j == 0:\n",
    "                break\n",
    "        else:\n",
    "            primes.append(i)\n",
    "            yield i\n",
    "\n",
    "# Create a generator object\n",
    "primes = prime_numbers()\n",
    "\n",
    "# Use the next() method to get the next 20 prime numbers\n",
    "for i in range(20):\n",
    "    print(next(primes))\n"
   ]
  }
 ],
 "metadata": {
  "kernelspec": {
   "display_name": "Python 3 (ipykernel)",
   "language": "python",
   "name": "python3"
  },
  "language_info": {
   "codemirror_mode": {
    "name": "ipython",
    "version": 3
   },
   "file_extension": ".py",
   "mimetype": "text/x-python",
   "name": "python",
   "nbconvert_exporter": "python",
   "pygments_lexer": "ipython3",
   "version": "3.9.13"
  }
 },
 "nbformat": 4,
 "nbformat_minor": 5
}
