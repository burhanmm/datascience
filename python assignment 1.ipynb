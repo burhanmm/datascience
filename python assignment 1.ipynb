{
 "cells": [
  {
   "cell_type": "markdown",
   "id": "f43c5c0d",
   "metadata": {},
   "source": [
    "### Q1. What are the characteristics of the tuples? Is tuple immutable?"
   ]
  },
  {
   "cell_type": "markdown",
   "id": "09761b7d",
   "metadata": {},
   "source": [
    "Ans. The characteristics of a Python tuple are:\n",
    "\n",
    "a) Tuples are ordered, indexed collections of data.\n",
    "b) Tuples can store duplicate values.\n",
    "c) Once data is assigned to a tuple, the values cannot be changed.\n",
    "d) Tuples allow you to store several data items in one variable. You can choose to store only one kind of data in a tuple or mix it up as needed.\n",
    "\n",
    "Yes, Tuple are immutable and follows immutability concept where it is not going to allow to change any element at perticular index "
   ]
  },
  {
   "cell_type": "markdown",
   "id": "03fa6eb0",
   "metadata": {},
   "source": [
    "### Q2. What are the two tuple methods in python? Give an example of each method. Give a reason why tuples have only two in-built methods as compared to Lists."
   ]
  },
  {
   "cell_type": "markdown",
   "id": "5f58d843",
   "metadata": {},
   "source": [
    "Answer : There are two types of method in tuple index() and count(). \n",
    "         count() returns the number of times an element appears in a tuple.\n",
    "         index() returns the index of the first occurrence of an element in a tuple.\n",
    "         \n",
    "Tuples have only two in build method as compared to lists because tuples are immutable, that their elements cannot be changed after they are created. Hence the number of operation that can performed on tuples os limmited and only two most commonly used methods are inclue=ded in the tuple.\n",
    "       \n",
    "\n",
    "\n"
   ]
  },
  {
   "cell_type": "code",
   "execution_count": 17,
   "id": "d37b9b99",
   "metadata": {},
   "outputs": [
    {
     "name": "stdout",
     "output_type": "stream",
     "text": [
      "count:  2 \n",
      " index:  1\n"
     ]
    }
   ],
   "source": [
    "t = (1, 2, 3, 4, 1, 2) \n",
    "\n",
    "a = t.count(1)\n",
    "b = t.index(2)\n",
    "print(\"count: \",a,'\\n',\"index: \",b)"
   ]
  },
  {
   "cell_type": "markdown",
   "id": "8a579c7a",
   "metadata": {},
   "source": [
    "## Q3. Which collection datatypes in python do not allow duplicate items? Write a code using a set to remove\n",
    "duplicates from the given list.\n",
    "List = [1, 1, 1, 2, 1, 3, 1, 4, 2, 1, 2, 2, 2, 3, 2, 4, 3, 1, 3, 2, 3, 3, 3, 4, 4, 1, 4, 2, 4, 3, 4, 4]"
   ]
  },
  {
   "cell_type": "markdown",
   "id": "9e9f2f62",
   "metadata": {},
   "source": [
    "Answer : In Python, the two collection data types that do not allow duplicate items are sets and frozensets.\n",
    "\n",
    "Sets are unordered collections of unique elements, meaning that each element can only appear once in a set. They are defined using curly braces {} or the set() function.\n",
    "\n",
    "Frozensets are similar to sets, but they are immutable, meaning that the elements of a frozenset cannot be changed after it is created. They are defined using the frozenset() function.\n"
   ]
  },
  {
   "cell_type": "code",
   "execution_count": 25,
   "id": "da93c9eb",
   "metadata": {},
   "outputs": [
    {
     "data": {
      "text/plain": [
       "[1, 2, 3, 4]"
      ]
     },
     "execution_count": 25,
     "metadata": {},
     "output_type": "execute_result"
    }
   ],
   "source": [
    "\n",
    "List = [1, 1, 1, 2, 1, 3, 1, 4, 2, 1, 2, 2, 2, 3, 2, 4, 3, 1, 3, 2, 3, 3, 3, 4, 4, 1, 4, 2, 4, 3, 4, 4]\n",
    "\n",
    "new_list = list(set(List))\n",
    "\n",
    "new_list"
   ]
  },
  {
   "cell_type": "markdown",
   "id": "af7a8c42",
   "metadata": {},
   "source": [
    "## Q4. Explain the difference between the union() and update() methods for a set. Give an example of each method."
   ]
  },
  {
   "cell_type": "markdown",
   "id": "3bd7161d",
   "metadata": {},
   "source": [
    "Answer : The union() and update() methods are used to combine two or more sets into a single set.\n",
    "\n",
    "union() returns a new set that contains all the elements from both sets, without including any duplicates. It does not modify either of the original sets.\n",
    "\n",
    "update() adds all the elements from one set to another, modifying the set it is called on. If an element already exists in the set, it is not added again.\n"
   ]
  },
  {
   "cell_type": "code",
   "execution_count": 29,
   "id": "8e08dbe5",
   "metadata": {},
   "outputs": [
    {
     "name": "stdout",
     "output_type": "stream",
     "text": [
      "{1, 2, 3, 4, 5, 6}\n",
      "{6, 7, 8, 9}\n"
     ]
    }
   ],
   "source": [
    "# union example\n",
    "set1 = {1,2,3,4}\n",
    "set2 = {3,4,5,6}\n",
    "\n",
    "result_set = set1.union(set2)\n",
    "print(result_set)\n",
    "\n",
    "# update example\n",
    "set3 = {7,8,9}\n",
    "set4 = {6,7,8}\n",
    "\n",
    "set3.update(set4)\n",
    "print(set3)"
   ]
  },
  {
   "cell_type": "markdown",
   "id": "8a029379",
   "metadata": {},
   "source": [
    "## Q5. What is a dictionary? Give an example. Also, state whether a dictionary is ordered or unordered."
   ]
  },
  {
   "cell_type": "markdown",
   "id": "7e4dbf8a",
   "metadata": {},
   "source": [
    "A dictionary is a data structure that stores key-value pairs, where each key is associated with a value. It is used to store collections of data and defined using curly braces {}.\n",
    "\n",
    "Dictionaries in Python are unordered, meaning that the items have no index or position and their order may change when the dictionary is modified."
   ]
  },
  {
   "cell_type": "code",
   "execution_count": 45,
   "id": "2cfd9c53",
   "metadata": {},
   "outputs": [
    {
     "data": {
      "text/plain": [
       "{'name': 'burhan', 'student Id': 1234, 'year': 2023}"
      ]
     },
     "execution_count": 45,
     "metadata": {},
     "output_type": "execute_result"
    }
   ],
   "source": [
    "dicti = {\"name\" : \"burhan\", \"student Id\" : 1234, \"year\" : 2023} \n",
    "dicti"
   ]
  },
  {
   "cell_type": "markdown",
   "id": "f7d3a3c9",
   "metadata": {},
   "source": [
    "## Q6. Can we create a nested dictionary? If so, please give an example by creating a simple one-level nested dictionary."
   ]
  },
  {
   "cell_type": "code",
   "execution_count": 46,
   "id": "31555418",
   "metadata": {},
   "outputs": [
    {
     "data": {
      "text/plain": [
       "{'Name': {'first': 'burhan', 'last': 'mohammed'},\n",
       " 'batch': 2023,\n",
       " 'course': 'Data Science'}"
      ]
     },
     "execution_count": 46,
     "metadata": {},
     "output_type": "execute_result"
    }
   ],
   "source": [
    "# Yes, you can create a nested dictionary, which is a dictionary inside another dictionary.\n",
    "\n",
    "dicti2 = {\"Name\": {\"first\" : \"burhan\",\"last\" : \"mohammed\"}, \"batch\": 2023, \"course\" :\"Data Science\"}\n",
    "                  \n",
    "dicti2"
   ]
  },
  {
   "cell_type": "markdown",
   "id": "e06202e8",
   "metadata": {},
   "source": [
    "\n",
    "## Q7. Using setdefault() method, create key named topics in the given dictionary and also add the value of the key as this list ['Python', 'Machine Learning’, 'Deep Learning']\n",
    "\n",
    "dict1 = {'language' : 'Python', 'course': 'Data Science Masters'}"
   ]
  },
  {
   "cell_type": "code",
   "execution_count": 47,
   "id": "352ae31d",
   "metadata": {},
   "outputs": [
    {
     "name": "stdout",
     "output_type": "stream",
     "text": [
      "{'language': 'Python', 'course': 'Data Science Masters', 'topic': ['Python', 'Machine Learning', 'Deep Learning']}\n"
     ]
    }
   ],
   "source": [
    "listk = ['Python', 'Machine Learning','Deep Learning']\n",
    "\n",
    "dict1 = {'language' : 'Python', 'course': 'Data Science Masters'}\n",
    "\n",
    "dict1.setdefault('topic',listk)\n",
    "\n",
    "print(dict1)"
   ]
  },
  {
   "cell_type": "markdown",
   "id": "3e02ffb4",
   "metadata": {},
   "source": [
    "## Q8. What are the three view objects in dictionaries? Use the three in-built methods in python to display these three view objects for the given dictionary.\n",
    "\n",
    "dict1 = {'Sport': 'Cricket' , 'Teams': ['India', 'Australia', 'England', 'South Africa', 'Sri Lanka', 'New Zealand']}"
   ]
  },
  {
   "cell_type": "markdown",
   "id": "de3ffb18",
   "metadata": {},
   "source": [
    "There are three view objects in dictionaries key(), value() and items()\n",
    "\n",
    "keys() Returns a view object that displays a list of all the keys in the dictionary.\n",
    "values() Returns a view object that displays a list of all the values in the dictionary.\n",
    "items() Returns a view object that displays a list of all the key-value pairs in the dictionary.\n"
   ]
  },
  {
   "cell_type": "code",
   "execution_count": 48,
   "id": "3e8a6b19",
   "metadata": {},
   "outputs": [
    {
     "name": "stdout",
     "output_type": "stream",
     "text": [
      "Keys: dict_keys(['Sport', 'Teams'])\n",
      "Values: dict_values(['Cricket', ['India', 'Australia', 'England', 'South Africa', 'Sri Lanka', 'New Zealand']])\n",
      "Items: dict_items([('Sport', 'Cricket'), ('Teams', ['India', 'Australia', 'England', 'South Africa', 'Sri Lanka', 'New Zealand'])])\n"
     ]
    }
   ],
   "source": [
    "dict4 = {'Sport': 'Cricket' , 'Teams': ['India', 'Australia', 'England', 'South Africa', 'Sri Lanka', 'New Zealand']}\n",
    "\n",
    "# keys\n",
    "keys = dict4.keys()\n",
    "print(\"Keys:\", keys)\n",
    "\n",
    "# values\n",
    "values = dict4.values()\n",
    "print(\"Values:\", values)\n",
    "\n",
    "# items\n",
    "items = dict4.items()\n",
    "print(\"Items:\", items)"
   ]
  }
 ],
 "metadata": {
  "kernelspec": {
   "display_name": "Python 3 (ipykernel)",
   "language": "python",
   "name": "python3"
  },
  "language_info": {
   "codemirror_mode": {
    "name": "ipython",
    "version": 3
   },
   "file_extension": ".py",
   "mimetype": "text/x-python",
   "name": "python",
   "nbconvert_exporter": "python",
   "pygments_lexer": "ipython3",
   "version": "3.9.13"
  }
 },
 "nbformat": 4,
 "nbformat_minor": 5
}
