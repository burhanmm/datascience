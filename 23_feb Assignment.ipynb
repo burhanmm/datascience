{
 "cells": [
  {
   "cell_type": "markdown",
   "id": "e70326f1-c8fa-4d53-86e8-46e59dabc4a1",
   "metadata": {},
   "source": [
    "# Q1. Create a Pandas Series that contains the following data: 4, 8, 15, 16, 23, and 42. Then, print the series."
   ]
  },
  {
   "cell_type": "code",
   "execution_count": 12,
   "id": "09c95474-e28d-481d-9188-7c575f12c973",
   "metadata": {},
   "outputs": [
    {
     "name": "stdout",
     "output_type": "stream",
     "text": [
      "0     4\n",
      "1     8\n",
      "2    15\n",
      "3    16\n",
      "4    23\n",
      "5    42\n",
      "dtype: int64\n"
     ]
    }
   ],
   "source": [
    "import pandas as pd\n",
    "series = pd.Series([4,8,15,16,23,42])\n",
    "print(series)"
   ]
  },
  {
   "cell_type": "markdown",
   "id": "8f68d41d-abfd-47f0-b7d0-b0430de3f935",
   "metadata": {},
   "source": [
    "# Q2. Create a variable of list type containing 10 elements in it, and apply pandas.Series function on the variable print it."
   ]
  },
  {
   "cell_type": "code",
   "execution_count": 17,
   "id": "35bb584b-c1dc-4bd5-be06-43764ba98781",
   "metadata": {},
   "outputs": [
    {
     "data": {
      "text/plain": [
       "0        my\n",
       "1      name\n",
       "2        is\n",
       "3    burhan\n",
       "4         2\n",
       "5         6\n",
       "6         0\n",
       "7         9\n",
       "8         9\n",
       "9         3\n",
       "dtype: object"
      ]
     },
     "execution_count": 17,
     "metadata": {},
     "output_type": "execute_result"
    }
   ],
   "source": [
    "import pandas\n",
    "lst = ['my',\"name\",\"is\",\"burhan\",2,6,0,9,9,3]\n",
    "pandas.Series(lst)"
   ]
  },
  {
   "cell_type": "markdown",
   "id": "d956743d-a747-4a86-a411-9c723c4f0a6c",
   "metadata": {},
   "source": [
    "# Q3. Create a Pandas DataFrame that contains the following data:\n",
    "\n",
    "| Name  | Age | Gender | \n",
    "\n",
    "| Alice | 25  | Female |\n",
    "\n",
    "| Bob   | 30  | Male   |\n",
    "\n",
    "| Claire | 27  | Female |\n"
   ]
  },
  {
   "cell_type": "code",
   "execution_count": 28,
   "id": "a695fa5b-df68-441d-a2b2-f79989501ceb",
   "metadata": {},
   "outputs": [
    {
     "data": {
      "text/html": [
       "<div>\n",
       "<style scoped>\n",
       "    .dataframe tbody tr th:only-of-type {\n",
       "        vertical-align: middle;\n",
       "    }\n",
       "\n",
       "    .dataframe tbody tr th {\n",
       "        vertical-align: top;\n",
       "    }\n",
       "\n",
       "    .dataframe thead th {\n",
       "        text-align: right;\n",
       "    }\n",
       "</style>\n",
       "<table border=\"1\" class=\"dataframe\">\n",
       "  <thead>\n",
       "    <tr style=\"text-align: right;\">\n",
       "      <th></th>\n",
       "      <th>Name</th>\n",
       "      <th>Age</th>\n",
       "      <th>Gender</th>\n",
       "    </tr>\n",
       "  </thead>\n",
       "  <tbody>\n",
       "    <tr>\n",
       "      <th>0</th>\n",
       "      <td>Alice</td>\n",
       "      <td>25</td>\n",
       "      <td>Female</td>\n",
       "    </tr>\n",
       "    <tr>\n",
       "      <th>1</th>\n",
       "      <td>Bob</td>\n",
       "      <td>30</td>\n",
       "      <td>Male</td>\n",
       "    </tr>\n",
       "    <tr>\n",
       "      <th>2</th>\n",
       "      <td>Claire</td>\n",
       "      <td>27</td>\n",
       "      <td>Female</td>\n",
       "    </tr>\n",
       "  </tbody>\n",
       "</table>\n",
       "</div>"
      ],
      "text/plain": [
       "     Name  Age  Gender\n",
       "0   Alice   25  Female\n",
       "1     Bob   30    Male\n",
       "2  Claire   27  Female"
      ]
     },
     "execution_count": 28,
     "metadata": {},
     "output_type": "execute_result"
    }
   ],
   "source": [
    "data = [[\"Alice\",25,\"Female\"],[\"Bob\",30,\"Male\"],[\"Claire\",27,\"Female\"]]\n",
    "\n",
    "import pandas\n",
    "\n",
    "df = pandas.DataFrame(data,columns=(['Name','Age','Gender']))\n",
    "\n",
    "df"
   ]
  },
  {
   "cell_type": "markdown",
   "id": "c4021eaf-1706-4f28-b529-8a8a819268f3",
   "metadata": {},
   "source": [
    "# Q4. What is ‘DataFrame’ in pandas and how is it different from pandas.series? Explain with an example.\n",
    "\n",
    "In Pandas, a DataFrame is a two-dimensional, size-mutable, tabular data structure with labeled axes (rows and columns). It is similar to a spreadsheet or SQL table, and can be thought of as a collection of Series objects, each sharing the same index. A DataFrame can be created using various input types such as a list, dict, ndarray, or another DataFrame.\n",
    "\n",
    "A Series, on the other hand, is a one-dimensional labeled array capable of holding any data type. It can be created using various input types such as a list, ndarray, or a scalar value."
   ]
  },
  {
   "cell_type": "code",
   "execution_count": 13,
   "id": "1d419063-c697-4608-b8ea-cf268523d859",
   "metadata": {},
   "outputs": [
    {
     "name": "stdout",
     "output_type": "stream",
     "text": [
      "     Name  Age  Salary\n",
      "0  burhan   25   50000\n",
      "1    raza   30   60000\n",
      "2   krish   35   70000\n",
      "3    naik   40   80000\n",
      "\n",
      "Series\n",
      "\n",
      "0    50000\n",
      "1    60000\n",
      "2    70000\n",
      "3    80000\n",
      "Name: Salary, dtype: int64\n"
     ]
    }
   ],
   "source": [
    "import pandas as pd\n",
    "\n",
    "# Create a dictionary of data\n",
    "data = {'Name': ['burhan', 'raza', 'krish', 'naik'],\n",
    "        'Age': [25, 30, 35, 40],\n",
    "        'Salary': [50000, 60000, 70000, 80000]}\n",
    "\n",
    "# Create a DataFrame from the dictionary\n",
    "df = pd.DataFrame(data)\n",
    "\n",
    "# Print the DataFrame\n",
    "print(df)\n",
    "\n",
    "# Create a Series from the 'Salary' column of the DataFrame\n",
    "salary_series = df['Salary']\n",
    "\n",
    "print(\"\\nSeries\\n\")\n",
    "# Print the Series\n",
    "print(salary_series)\n"
   ]
  },
  {
   "cell_type": "markdown",
   "id": "b35971bf-22ef-4dc7-bb22-72b17c864eb6",
   "metadata": {},
   "source": [
    "# Q5. What are some common functions you can use to manipulate data in a Pandas DataFrame? Can you give an example of when you might use one of these functions?"
   ]
  },
  {
   "cell_type": "markdown",
   "id": "e9276fb6-7bea-4e7e-a28a-a472dd91d04c",
   "metadata": {},
   "source": [
    "Pandas offers a wide range of functions to manipulate and transform data in a DataFrame. Some of the commonly used functions are:\n",
    "\n",
    "drop: It is used to remove rows or columns from a DataFrame based on specified labels. For example, you might want to remove certain columns from a DataFrame that are not needed for analysis."
   ]
  },
  {
   "cell_type": "code",
   "execution_count": 15,
   "id": "d3143fda-e90d-46ad-b64d-8584010bb043",
   "metadata": {},
   "outputs": [
    {
     "data": {
      "text/html": [
       "<div>\n",
       "<style scoped>\n",
       "    .dataframe tbody tr th:only-of-type {\n",
       "        vertical-align: middle;\n",
       "    }\n",
       "\n",
       "    .dataframe tbody tr th {\n",
       "        vertical-align: top;\n",
       "    }\n",
       "\n",
       "    .dataframe thead th {\n",
       "        text-align: right;\n",
       "    }\n",
       "</style>\n",
       "<table border=\"1\" class=\"dataframe\">\n",
       "  <thead>\n",
       "    <tr style=\"text-align: right;\">\n",
       "      <th></th>\n",
       "      <th>Name</th>\n",
       "      <th>Age</th>\n",
       "    </tr>\n",
       "  </thead>\n",
       "  <tbody>\n",
       "    <tr>\n",
       "      <th>0</th>\n",
       "      <td>Burhan</td>\n",
       "      <td>25</td>\n",
       "    </tr>\n",
       "    <tr>\n",
       "      <th>1</th>\n",
       "      <td>Raza</td>\n",
       "      <td>30</td>\n",
       "    </tr>\n",
       "    <tr>\n",
       "      <th>2</th>\n",
       "      <td>Krish</td>\n",
       "      <td>35</td>\n",
       "    </tr>\n",
       "    <tr>\n",
       "      <th>3</th>\n",
       "      <td>Naik</td>\n",
       "      <td>40</td>\n",
       "    </tr>\n",
       "  </tbody>\n",
       "</table>\n",
       "</div>"
      ],
      "text/plain": [
       "     Name  Age\n",
       "0  Burhan   25\n",
       "1    Raza   30\n",
       "2   Krish   35\n",
       "3    Naik   40"
      ]
     },
     "execution_count": 15,
     "metadata": {},
     "output_type": "execute_result"
    }
   ],
   "source": [
    "import pandas as pd\n",
    "\n",
    "# Create a DataFrame\n",
    "data = {'Name': ['Burhan', 'Raza', 'Krish', 'Naik'],\n",
    "        'Age': [25, 30, 35,40],\n",
    "        'Salary': [50000, 60000, 70000, 80000]}\n",
    "df = pd.DataFrame(data)\n",
    "\n",
    "# Remove the 'Salary' column from the DataFrame\n",
    "df = df.drop('Salary', axis=1)\n",
    "df"
   ]
  },
  {
   "cell_type": "code",
   "execution_count": 11,
   "id": "7ed9fb07-d8f9-4319-a7fe-eede15272656",
   "metadata": {},
   "outputs": [
    {
     "data": {
      "text/html": [
       "<div>\n",
       "<style scoped>\n",
       "    .dataframe tbody tr th:only-of-type {\n",
       "        vertical-align: middle;\n",
       "    }\n",
       "\n",
       "    .dataframe tbody tr th {\n",
       "        vertical-align: top;\n",
       "    }\n",
       "\n",
       "    .dataframe thead th {\n",
       "        text-align: right;\n",
       "    }\n",
       "</style>\n",
       "<table border=\"1\" class=\"dataframe\">\n",
       "  <thead>\n",
       "    <tr style=\"text-align: right;\">\n",
       "      <th></th>\n",
       "      <th>Name</th>\n",
       "      <th>Age</th>\n",
       "    </tr>\n",
       "  </thead>\n",
       "  <tbody>\n",
       "    <tr>\n",
       "      <th>0</th>\n",
       "      <td>Burhan</td>\n",
       "      <td>25</td>\n",
       "    </tr>\n",
       "    <tr>\n",
       "      <th>1</th>\n",
       "      <td>Raza</td>\n",
       "      <td>30</td>\n",
       "    </tr>\n",
       "    <tr>\n",
       "      <th>2</th>\n",
       "      <td>Krish</td>\n",
       "      <td>35</td>\n",
       "    </tr>\n",
       "    <tr>\n",
       "      <th>3</th>\n",
       "      <td>Naik</td>\n",
       "      <td>40</td>\n",
       "    </tr>\n",
       "  </tbody>\n",
       "</table>\n",
       "</div>"
      ],
      "text/plain": [
       "     Name  Age\n",
       "0  Burhan   25\n",
       "1    Raza   30\n",
       "2   Krish   35\n",
       "3    Naik   40"
      ]
     },
     "execution_count": 11,
     "metadata": {},
     "output_type": "execute_result"
    }
   ],
   "source": [
    "# fillna: It is used to fill missing values in a DataFrame with a specified value or method. For example, you might want to replace missing values with the mean of the column.\n",
    "# Replace missing values with the mean of the 'Age' column\n",
    "df['Age'] = df['Age'].fillna(df['Age'].mean())\n",
    "df"
   ]
  },
  {
   "cell_type": "code",
   "execution_count": 16,
   "id": "d5e0da04-d9df-4fd3-ae4a-50274c0bacea",
   "metadata": {},
   "outputs": [
    {
     "data": {
      "text/plain": [
       "Name\n",
       "Burhan    25.0\n",
       "Krish     35.0\n",
       "Naik      40.0\n",
       "Raza      30.0\n",
       "Name: Age, dtype: float64"
      ]
     },
     "execution_count": 16,
     "metadata": {},
     "output_type": "execute_result"
    }
   ],
   "source": [
    "# groupby: It is used to group data in a DataFrame based on one or more columns and apply a function to each group. For example, you might want to group data by a categorical variable and calculate the mean of a numeric variable for each group.\n",
    "\n",
    "# Group data by 'Name' and calculate the mean of the 'Age' column for each group\n",
    "df.groupby('Name')['Age'].mean()\n"
   ]
  },
  {
   "cell_type": "code",
   "execution_count": 18,
   "id": "97cc91d9-2244-43be-be31-520e496e91b7",
   "metadata": {},
   "outputs": [
    {
     "data": {
      "text/html": [
       "<div>\n",
       "<style scoped>\n",
       "    .dataframe tbody tr th:only-of-type {\n",
       "        vertical-align: middle;\n",
       "    }\n",
       "\n",
       "    .dataframe tbody tr th {\n",
       "        vertical-align: top;\n",
       "    }\n",
       "\n",
       "    .dataframe thead th {\n",
       "        text-align: right;\n",
       "    }\n",
       "</style>\n",
       "<table border=\"1\" class=\"dataframe\">\n",
       "  <thead>\n",
       "    <tr style=\"text-align: right;\">\n",
       "      <th></th>\n",
       "      <th>Name</th>\n",
       "      <th>Age</th>\n",
       "    </tr>\n",
       "  </thead>\n",
       "  <tbody>\n",
       "    <tr>\n",
       "      <th>0</th>\n",
       "      <td>burhan</td>\n",
       "      <td>25</td>\n",
       "    </tr>\n",
       "    <tr>\n",
       "      <th>1</th>\n",
       "      <td>raza</td>\n",
       "      <td>30</td>\n",
       "    </tr>\n",
       "    <tr>\n",
       "      <th>2</th>\n",
       "      <td>krish</td>\n",
       "      <td>35</td>\n",
       "    </tr>\n",
       "    <tr>\n",
       "      <th>3</th>\n",
       "      <td>naik</td>\n",
       "      <td>40</td>\n",
       "    </tr>\n",
       "  </tbody>\n",
       "</table>\n",
       "</div>"
      ],
      "text/plain": [
       "     Name  Age\n",
       "0  burhan   25\n",
       "1    raza   30\n",
       "2   krish   35\n",
       "3    naik   40"
      ]
     },
     "execution_count": 18,
     "metadata": {},
     "output_type": "execute_result"
    }
   ],
   "source": [
    "# apply: It is used to apply a function to each element or row of a DataFrame. For example, you might want to apply a function that converts all values in a column to lowercase.\n",
    "\n",
    "# Apply the str.lower() function to all values in the 'Name' column\n",
    "df['Name'] = df['Name'].apply(str.lower)\n",
    "df\n"
   ]
  },
  {
   "cell_type": "markdown",
   "id": "f0171fa0-3283-4549-b7c4-4d3a626feafe",
   "metadata": {},
   "source": [
    "# Q6. Which of the following is mutable in nature Series, DataFrame, Panel?"
   ]
  },
  {
   "cell_type": "markdown",
   "id": "69992091-12ba-46b5-98f2-e0be4f036173",
   "metadata": {},
   "source": [
    "Series is a one-dimensional labeled array that can hold any data type, such as integers, strings, or floating point numbers. A DataFrame is a two-dimensional labeled data structure that consists of rows and columns, where each column can contain a different data type. A Panel is a three-dimensional labeled array that can hold heterogeneous data. \n",
    "\n",
    "In Pandas, both Series and DataFrame are mutable in nature. This means that their values can be changed after creation.\n",
    "\n",
    "Panel, on the other hand, is considered a less commonly used data structure in Pandas and is typically used for three-dimensional data. It is also mutable in nature, but is used less frequently than Series and DataFrame."
   ]
  },
  {
   "cell_type": "markdown",
   "id": "94a19aae-9718-4998-828d-688063358e71",
   "metadata": {},
   "source": [
    "# Q7. Create a DataFrame using multiple Series. Explain with an example."
   ]
  },
  {
   "cell_type": "code",
   "execution_count": 20,
   "id": "5fc13a2e-7fb6-4d6b-a8a9-b1263f45cc63",
   "metadata": {},
   "outputs": [
    {
     "name": "stdout",
     "output_type": "stream",
     "text": [
      "    Name  Age  Salary\n",
      "0  Krish   25   50000\n",
      "1   Naik   30   60000\n",
      "2   Sudh   35   70000\n",
      "3  kumar   40   80000\n"
     ]
    }
   ],
   "source": [
    "import pandas as pd\n",
    "\n",
    "# Create a Series for the 'Name' column\n",
    "names = pd.Series(['Krish', 'Naik', 'Sudh', 'kumar'])\n",
    "\n",
    "# Create a Series for the 'Age' column\n",
    "ages = pd.Series([25, 30, 35, 40])\n",
    "\n",
    "# Create a Series for the 'Salary' column\n",
    "salaries = pd.Series([50000, 60000, 70000, 80000])\n",
    "\n",
    "# Create a dictionary of Series\n",
    "data = {'Name': names, 'Age': ages, 'Salary': salaries}\n",
    "\n",
    "# Create a DataFrame from the dictionary of Series\n",
    "df = pd.DataFrame(data)\n",
    "\n",
    "# Print the DataFrame\n",
    "print(df)\n"
   ]
  },
  {
   "cell_type": "code",
   "execution_count": null,
   "id": "41b55750-5d67-49f3-b6c3-c6aef9cc5cd4",
   "metadata": {},
   "outputs": [],
   "source": []
  }
 ],
 "metadata": {
  "kernelspec": {
   "display_name": "Python 3 (ipykernel)",
   "language": "python",
   "name": "python3"
  },
  "language_info": {
   "codemirror_mode": {
    "name": "ipython",
    "version": 3
   },
   "file_extension": ".py",
   "mimetype": "text/x-python",
   "name": "python",
   "nbconvert_exporter": "python",
   "pygments_lexer": "ipython3",
   "version": "3.10.8"
  }
 },
 "nbformat": 4,
 "nbformat_minor": 5
}
