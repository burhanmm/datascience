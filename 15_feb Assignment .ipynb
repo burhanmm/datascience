{
 "cells": [
  {
   "cell_type": "markdown",
   "id": "1e506d4d-c1b0-454b-8492-2dff0120e920",
   "metadata": {},
   "source": [
    "# Q1. What is multiprocessing in python? Why is it useful?"
   ]
  },
  {
   "cell_type": "markdown",
   "id": "1dd64acf-1335-421d-8154-ee42cd828225",
   "metadata": {},
   "source": [
    "Multiprocessing in Python allows you to run multiple processes simultaneously on a multicore CPU, which can speed up the execution of certain tasks by using multiple CPUs or cores. It is useful for tasks that can be divided into smaller, independent subtasks, such as data processing or analysis, and provides benefits such as increased performance, reliability, fault tolerance, and resource utilization."
   ]
  },
  {
   "cell_type": "markdown",
   "id": "31bd994d-b6bf-4975-83c9-3a0551c5a8b9",
   "metadata": {},
   "source": [
    "# Q2. What are the differences between multiprocessing and multithreading?"
   ]
  },
  {
   "cell_type": "markdown",
   "id": "4bf6c6f8-36e2-446e-9bad-c8b8da2159c9",
   "metadata": {},
   "source": [
    "Multiprocessing creates multiple processes that can run in parallel and have their own memory space, while multithreading creates multiple threads within a single process that share the same memory space. Multiprocessing is better for CPU-bound tasks and allows for true parallelism, while multithreading is better for I/O-bound tasks and has lower memory requirements."
   ]
  },
  {
   "cell_type": "markdown",
   "id": "38fba559-0154-42e1-8a4c-8184af7c97f0",
   "metadata": {},
   "source": [
    "# Q3. Write a python code to create a process using the multiprocessing module."
   ]
  },
  {
   "cell_type": "code",
   "execution_count": 2,
   "id": "4eab0b57-1b53-46d8-a434-d7186d46c2a4",
   "metadata": {},
   "outputs": [
    {
     "name": "stdout",
     "output_type": "stream",
     "text": [
      "burhan process running\n",
      "Main process finished\n"
     ]
    }
   ],
   "source": [
    "import multiprocessing\n",
    "\n",
    "def burhan():\n",
    "    \"\"\"Function run in the new process\"\"\"\n",
    "    print(\"burhan process running\")\n",
    "\n",
    "if __name__ == '__main__':\n",
    "    # Create a new process\n",
    "    p = multiprocessing.Process(target=burhan)\n",
    "    \n",
    "    # Start the process\n",
    "    p.start()\n",
    "    \n",
    "    # Wait for the process to finish\n",
    "    p.join()\n",
    "\n",
    "    print(\"Main process finished\")\n"
   ]
  },
  {
   "cell_type": "markdown",
   "id": "0ee7a061-b6d4-48c9-91ac-863f00860993",
   "metadata": {},
   "source": [
    "# Q4. What is a multiprocessing pool in python? Why is it used?"
   ]
  },
  {
   "cell_type": "markdown",
   "id": "7172f0f9-18d1-46bc-90b2-f4a4ba7e340b",
   "metadata": {},
   "source": [
    "A multiprocessing pool in Python is a set of worker processes that are created and managed by the multiprocessing module. The pool allows you to perform a set of tasks concurrently by distributing them among the worker processes in the pool.\n",
    "\n",
    "The multiprocessing module provides the Pool class, which is used to create a pool of worker processes. Once the pool is created, you can submit tasks to it using the apply, apply_async, map, and map_async methods. These methods distribute the tasks among the worker processes in the pool, and return the results when the tasks are completed.\n",
    "\n",
    "The main advantage of using a multiprocessing pool is that it allows you to take advantage of multiple CPUs or cores to speed up the execution of the tasks. The pool automatically manages the worker processes, and reuses them for new tasks, which can save time and resources compared to creating a new process for each task."
   ]
  },
  {
   "cell_type": "markdown",
   "id": "86428abe-e009-42da-928b-340bda2571cc",
   "metadata": {},
   "source": [
    "# Q5. How can we create a pool of worker processes in python using the multiprocessing module?"
   ]
  },
  {
   "cell_type": "code",
   "execution_count": 3,
   "id": "7940f191-23ee-40f0-a8dc-99b34ff1f6d1",
   "metadata": {},
   "outputs": [
    {
     "name": "stdout",
     "output_type": "stream",
     "text": [
      "[0, 2, 4, 6, 8, 10, 12, 14, 16, 18]\n"
     ]
    }
   ],
   "source": [
    "import multiprocessing\n",
    "\n",
    "def burhan(number):\n",
    "    \"\"\"Function to be executed by worker processes\"\"\"\n",
    "    result = number * 2\n",
    "    return result\n",
    "\n",
    "if __name__ == '__main__':\n",
    "    # Create a Pool with 4 burhan processes\n",
    "    pool = multiprocessing.Pool(processes=4)\n",
    "    \n",
    "    # Submit tasks to the Pool\n",
    "    results = [pool.apply(burhan, args=(i,)) for i in range(10)]\n",
    "    \n",
    "    # Print the results\n",
    "    print(results)\n",
    "    \n",
    "    # Close the Pool and join the burhan processes\n",
    "    pool.close()\n",
    "    pool.join()\n"
   ]
  },
  {
   "cell_type": "markdown",
   "id": "afd87725-0b2f-4d3a-a561-3a38f69d03f7",
   "metadata": {},
   "source": [
    "# Q6. Write a python program to create 4 processes, each process should print a different number using the multiprocessing module in python."
   ]
  },
  {
   "cell_type": "code",
   "execution_count": 17,
   "id": "d725e2cc-3d34-4623-adf7-9c81a36e9ec5",
   "metadata": {},
   "outputs": [
    {
     "name": "stdout",
     "output_type": "stream",
     "text": [
      "Process-59\n",
      "Process-60\n",
      "Process-61\n",
      "Process-62\n",
      "All processes finished\n"
     ]
    }
   ],
   "source": [
    "import multiprocessing\n",
    "\n",
    "def print_number(number):\n",
    "    print(multiprocessing.current_process().name)\n",
    "\n",
    "if __name__ == '__main__':\n",
    "    # Create 4 processes\n",
    "    processes = []\n",
    "    for i in range(4):\n",
    "        p = multiprocessing.Process(target=print_number, args=(i,))\n",
    "        processes.append(p)\n",
    "        p.start()\n",
    "\n",
    "    # Wait for the processes to finish\n",
    "    for p in processes:\n",
    "        p.join()\n",
    "\n",
    "    print(\"All processes finished\")\n"
   ]
  }
 ],
 "metadata": {
  "kernelspec": {
   "display_name": "Python 3 (ipykernel)",
   "language": "python",
   "name": "python3"
  },
  "language_info": {
   "codemirror_mode": {
    "name": "ipython",
    "version": 3
   },
   "file_extension": ".py",
   "mimetype": "text/x-python",
   "name": "python",
   "nbconvert_exporter": "python",
   "pygments_lexer": "ipython3",
   "version": "3.10.8"
  }
 },
 "nbformat": 4,
 "nbformat_minor": 5
}
