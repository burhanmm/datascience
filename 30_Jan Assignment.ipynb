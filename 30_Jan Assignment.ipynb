{
 "cells": [
  {
   "cell_type": "code",
   "execution_count": null,
   "id": "d33c911d-4b01-4584-a08e-00847e3db8c5",
   "metadata": {},
   "outputs": [],
   "source": [
    "# Question 1 \n",
    "\n",
    "flag = True\n",
    "while flag:\n",
    "    percentage = int(input(\"Enter the Percentage : \"))\n",
    "    if percentage >= 0 and percentage <= 100:\n",
    "        if percentage > 90 and percentage <=100 :\n",
    "            print(\"Grade A\")\n",
    "\n",
    "        elif percentage > 80 and percentage <= 90 :\n",
    "            print(\"Grade B\")\n",
    "\n",
    "        elif percentage >= 60 and percentage <= 80 :\n",
    "            print(\"Grade C\")\n",
    "\n",
    "        else:\n",
    "            print(\"Grade D\")\n",
    "        flag = False\n",
    "    else:\n",
    "        print(\"Please Enter Valid Percentage\")\n",
    "\n"
   ]
  },
  {
   "cell_type": "code",
   "execution_count": null,
   "id": "d93c1ed8-d37d-4e57-8555-f1597d5f1f55",
   "metadata": {},
   "outputs": [],
   "source": [
    "# Question 2\n",
    "price = int(input(\"Enter the Cost of Bike : \"))\n",
    "\n",
    "if price > 100000:\n",
    "    print(price*0.15)\n",
    "\n",
    "elif price > 50000 and price <100000:\n",
    "    print(price*0.10)\n",
    "\n",
    "elif price > 0 and price <= 50000:\n",
    "    print(price*0.05)\n",
    "    \n",
    "else:\n",
    "    print(\"Enter the valid cost of bike\")"
   ]
  },
  {
   "cell_type": "code",
   "execution_count": 9,
   "id": "f00c9173-5fa3-429d-a9cd-dc5a886abc30",
   "metadata": {},
   "outputs": [
    {
     "name": "stdin",
     "output_type": "stream",
     "text": [
      "Enter the name of city DELHI\n"
     ]
    },
    {
     "name": "stdout",
     "output_type": "stream",
     "text": [
      "Delhi : Red Fort\n"
     ]
    }
   ],
   "source": [
    "# Question 3\n",
    "city = (input(\"Enter the name of city\")).capitalize()\n",
    "\n",
    "if city == \"Delhi\":\n",
    "    print(city,\": Red Fort\")\n",
    "elif city == \"Agra\":\n",
    "    print(city,\": Taj Mahal\")\n",
    "elif city == \"Jaipur\":\n",
    "    print(city,\": Jal Mahal\")\n",
    "else:\n",
    "    print(\"City not find\")    "
   ]
  },
  {
   "cell_type": "code",
   "execution_count": null,
   "id": "94183058-2981-4f31-88ad-f9817a31f30b",
   "metadata": {},
   "outputs": [],
   "source": [
    "# Question 4\n",
    "# check how many times a given number can be divided by 3 before it is less than equal to 10.\n",
    "\n",
    "num = int(input(\"Enter the Number :\"))\n",
    "count = 0\n",
    "while num > 10 :\n",
    "    num = num/3\n",
    "    count = count + 1\n",
    "print(count)"
   ]
  },
  {
   "cell_type": "markdown",
   "id": "d04ed001-2923-451f-b94d-e536ec1ca25d",
   "metadata": {},
   "source": [
    "# Question 5 Why and when to use while loop in python give a detrailed example with example"
   ]
  },
  {
   "cell_type": "code",
   "execution_count": 6,
   "id": "2594e212-3a7b-4955-81e5-09c797926389",
   "metadata": {},
   "outputs": [
    {
     "name": "stdin",
     "output_type": "stream",
     "text": [
      "Enter a number:  5\n",
      "Enter a number:  5\n",
      "Enter a number:  4\n",
      "Enter a number:  42\n",
      "Enter a number:  0\n"
     ]
    },
    {
     "name": "stdout",
     "output_type": "stream",
     "text": [
      "total = 56\n"
     ]
    }
   ],
   "source": [
    "# Python while loop is used to run a block code until a certain condition is met.\n",
    "#     1. A while loop evaluates the condition\n",
    "#     2. If the condition evaluates to True, the code inside the while loop is executed.\n",
    "#     3. condition is evaluated again.\n",
    "#     4. This process continues until the condition is False.\n",
    "#     5. When condition evaluates to False, the loop stops.\n",
    "\n",
    "# program to calculate the sum of numbers\n",
    "# until the user enters zero\n",
    "\n",
    "total = 0\n",
    "number = int(input('Enter a number: '))\n",
    "# add numbers until number is zero\n",
    "while number != 0:\n",
    "    total += number    # total = total + number\n",
    " \n",
    "    # take integer input again\n",
    "    number = int(input('Enter a number: '))\n",
    "    \n",
    "print('total =', total)\n",
    "\n",
    "# In the above example, the while iterates until the user enters zero. When the user enters zero, the test condition evaluates to False and the loop ends."
   ]
  },
  {
   "cell_type": "code",
   "execution_count": 3,
   "id": "4ed9b172-b1b7-4864-905e-d540ac9477ef",
   "metadata": {},
   "outputs": [
    {
     "name": "stdin",
     "output_type": "stream",
     "text": [
      "Enter the number of rows: 4\n"
     ]
    },
    {
     "name": "stdout",
     "output_type": "stream",
     "text": [
      "* \n",
      "* * \n",
      "* * * \n",
      "* * * * \n"
     ]
    }
   ],
   "source": [
    "# Question 6\n",
    "# Use nested while loop to print 3 different pattern\n",
    "\n",
    "rows = int(input(\"Enter the number of rows:\"))\n",
    "i = 1\n",
    "while i <= rows:\n",
    "    j = 1\n",
    "    while j <= i:\n",
    "        print((\"*\"), end=\" \")\n",
    "        j = j + 1\n",
    "    i = i + 1\n",
    "    print('')\n"
   ]
  },
  {
   "cell_type": "code",
   "execution_count": 1,
   "id": "85f68386-61d0-4994-aa22-2f66b1b2c91b",
   "metadata": {},
   "outputs": [
    {
     "name": "stdin",
     "output_type": "stream",
     "text": [
      "enter the number start 4\n"
     ]
    },
    {
     "name": "stdout",
     "output_type": "stream",
     "text": [
      "   * \n",
      "  * * \n",
      " * * * \n",
      "* * * * \n",
      " * * * \n",
      "  * * \n",
      "   * \n"
     ]
    }
   ],
   "source": [
    "diamond = int(input(\"enter the number start\"))\n",
    "i = 1\n",
    "while i<diamond:\n",
    "    print(\" \"*(diamond-i) + \"* \" * i)\n",
    "    i+=1 \n",
    "i = diamond\n",
    "while i>=1:\n",
    "    print(\" \"*(diamond-i) + \"* \" * i)\n",
    "    i-=1"
   ]
  },
  {
   "cell_type": "code",
   "execution_count": 13,
   "id": "ff30ddf2-973d-4528-86db-8edb8c8a579c",
   "metadata": {},
   "outputs": [
    {
     "name": "stdin",
     "output_type": "stream",
     "text": [
      "enter the number start 7\n"
     ]
    },
    {
     "name": "stdout",
     "output_type": "stream",
     "text": [
      "      @ \n",
      "     @ @ \n",
      "    @ @ @ \n",
      "   @ @ @ @ \n",
      "  @ @ @ @ @ \n",
      " @ @ @ @ @ @ \n"
     ]
    }
   ],
   "source": [
    "triangle = int(input(\"enter the number start\"))\n",
    "i = 1\n",
    "while i<triangle:\n",
    "    print(\" \"*(triangle-i) + \"@ \" * i)\n",
    "    i+=1 "
   ]
  },
  {
   "cell_type": "code",
   "execution_count": 7,
   "id": "1e1b5ab0-e314-4060-95b8-da039582b21d",
   "metadata": {},
   "outputs": [
    {
     "name": "stdout",
     "output_type": "stream",
     "text": [
      "1\n",
      "2\n",
      "3\n",
      "4\n",
      "5\n",
      "6\n",
      "7\n",
      "8\n",
      "9\n",
      "10\n"
     ]
    }
   ],
   "source": [
    "# Question 7 \n",
    "# Use while loop to display numbers from 1 to 10.\n",
    "\n",
    "i = 1\n",
    "while (i<=10) :\n",
    "    print(i)\n",
    "    i+=1"
   ]
  },
  {
   "cell_type": "code",
   "execution_count": 8,
   "id": "e7005498-721e-423a-900c-9dd15e78f89c",
   "metadata": {},
   "outputs": [
    {
     "name": "stdout",
     "output_type": "stream",
     "text": [
      "10\n",
      "9\n",
      "8\n",
      "7\n",
      "6\n",
      "5\n",
      "4\n",
      "3\n",
      "2\n",
      "1\n"
     ]
    }
   ],
   "source": [
    "# Question 8\n",
    "# reverse a while loop to display numbers from 1 to 10.\n",
    "i = 10\n",
    "while (i>0) :\n",
    "    print(i)\n",
    "    i-=1"
   ]
  }
 ],
 "metadata": {
  "kernelspec": {
   "display_name": "Python 3 (ipykernel)",
   "language": "python",
   "name": "python3"
  },
  "language_info": {
   "codemirror_mode": {
    "name": "ipython",
    "version": 3
   },
   "file_extension": ".py",
   "mimetype": "text/x-python",
   "name": "python",
   "nbconvert_exporter": "python",
   "pygments_lexer": "ipython3",
   "version": "3.10.8"
  }
 },
 "nbformat": 4,
 "nbformat_minor": 5
}
