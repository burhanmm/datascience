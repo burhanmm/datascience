{
 "cells": [
  {
   "cell_type": "markdown",
   "id": "d42d939d-64c5-4052-ab1b-35336d7242fc",
   "metadata": {},
   "source": [
    "# Q1, Create a vehicle class with an init method having instance variables as name_of_vehicle, max_speed and average_of_vehicle."
   ]
  },
  {
   "cell_type": "code",
   "execution_count": null,
   "id": "0989e4bd-5d0f-418e-ba6f-d9f36b5d1432",
   "metadata": {},
   "outputs": [],
   "source": [
    "class Vehicle():\n",
    "    def __init__(self,name_of_vehicle, max_speed ,average_of_vehicle):\n",
    "        self.name_of_vehicle = str(name_of_vehicle)\n",
    "        self.max_speed = int(max_speed)\n",
    "        self.average_of_vehicle = int(average_of_vehicle)\n",
    "        \n",
    "        \n",
    "data = Vehicle(\"Thar\",300,60)\n",
    "data"
   ]
  },
  {
   "cell_type": "code",
   "execution_count": null,
   "id": "9ef0c58e-1a33-4b9b-b1d9-30ee88c11689",
   "metadata": {},
   "outputs": [],
   "source": [
    "data = Vehicle(\"Thar\",300,60)\n",
    "data"
   ]
  },
  {
   "cell_type": "markdown",
   "id": "8edfc223-d23c-43b5-88f3-f870a8ba7eef",
   "metadata": {},
   "source": [
    "# Q2. Create a child class car from the vehicle class created in Que 1, which will inherit the vehicle class.\n",
    "# Create a method named seating_capacity which takes capacity as an argument and returns the name of\n",
    "# the vehicle and its seating capacity."
   ]
  },
  {
   "cell_type": "code",
   "execution_count": null,
   "id": "8cd5e4be-7a87-46f2-9412-68109e12ef68",
   "metadata": {},
   "outputs": [],
   "source": [
    "class Vehicle():\n",
    "    def __init__(self,name_of_vehicle, max_speed ,average_of_vehicle):\n",
    "        self.name_of_vehicle = str(name_of_vehicle)\n",
    "        self.max_speed = int(max_speed)\n",
    "        self.average_of_vehicle = int(average_of_vehicle)\n",
    "        \n",
    "class car(Vehicle):\n",
    "    def seating_capacity(self, capacity):\n",
    "        self.capacity = int(capacity)\n",
    "        return self.name_of_vehicle, self.capacity\n",
    "\n",
    "data = car(\"Thar\",300,60)\n",
    "name,no_of_seat = data.seating_capacity(6)\n",
    "\n",
    "print(f\"name of vehicle is {name}, it's seating capacity is {no_of_seat}\")\n"
   ]
  },
  {
   "cell_type": "markdown",
   "id": "93ad6c16-9f4a-4f9f-b9b8-43251ce30f2e",
   "metadata": {},
   "source": [
    "# Q3. What is multiple inheritance? Write a python code to demonstrate multiple inheritance."
   ]
  },
  {
   "cell_type": "code",
   "execution_count": null,
   "id": "69979eca-fb3b-411c-aa5c-9d333b5929cb",
   "metadata": {},
   "outputs": [],
   "source": [
    "# Multiple inheritance: Multiple inheritance occurs when a subclass inherits from multiple base classes. This allows you to create a new class that inherits the behavior of multiple existing classes.\n",
    "class math:\n",
    "    def math_marks(self) :\n",
    "        print(\"maths marks\")\n",
    "\n",
    "class chemistry:\n",
    "    def chemistry_marks(self) :\n",
    "        print(\"chemistry marks\")\n",
    "    \n",
    "class student(math,chemistry):\n",
    "    pass\n",
    "\n",
    "obj1 = student()\n",
    "\n",
    "obj1.math_marks()\n",
    "obj1.chemistry_marks()\n"
   ]
  },
  {
   "cell_type": "markdown",
   "id": "b12682aa-1a83-4d70-b777-a99362b4ec4a",
   "metadata": {},
   "source": [
    "# Q4. What are getter and setter in python? Create a class and create a getter and a setter method in this class."
   ]
  },
  {
   "cell_type": "code",
   "execution_count": 4,
   "id": "a4f63544-1a27-4e56-bc8c-20240beaecc2",
   "metadata": {},
   "outputs": [
    {
     "name": "stdout",
     "output_type": "stream",
     "text": [
      "old balance: 0\n",
      "after deposit:  7000\n"
     ]
    }
   ],
   "source": [
    "# Getter : A method that allows you to access an attribute in a given class.\n",
    "# Setter : A method that allows you to set or mutate the value of an attribute in a class.\n",
    "\n",
    "class Banking:\n",
    "    def __init__(self, balance = 0):\n",
    "         self._balance = balance\n",
    "      \n",
    "    # getter method\n",
    "    def get_balance(self):\n",
    "        return self._balance\n",
    "      \n",
    "    # setter method\n",
    "    def deposit(self, amount):\n",
    "        self._balance = self._balance + amount\n",
    "\n",
    "        \n",
    "transaction = Banking()\n",
    "print(\"old balance:\",transaction.get_balance())\n",
    "  \n",
    "# setting the age using setter\n",
    "transaction.deposit(7000)\n",
    "  \n",
    "# retrieving age using getter\n",
    "print(\"after deposit: \",transaction.get_balance())\n",
    "  \n",
    "\n"
   ]
  },
  {
   "cell_type": "markdown",
   "id": "7ab1551a-4d16-4408-b839-8e0cc6fef9eb",
   "metadata": {},
   "source": [
    "# Q5.What is method overriding in python? Write a python code to demonstrate method overriding."
   ]
  },
  {
   "cell_type": "markdown",
   "id": "f6f91178-855c-4a89-b107-b18b04c7ebfb",
   "metadata": {},
   "source": [
    "Method overriding is a feature of object-oriented programming languages where the subclass or child class can provide the program with specific characteristics or a specific implementation process of data provided that are already defined in the parent class or superclass.\n",
    "\n",
    "\n",
    "When a method in a subclass has the same name, same parameters or signature and same return type(or sub-type) as a method in its super-class, then the method in the subclass is said to override the method in the super-class.\n"
   ]
  },
  {
   "cell_type": "code",
   "execution_count": null,
   "id": "95c2fe8e-9637-4138-8e71-50d18ec49482",
   "metadata": {},
   "outputs": [],
   "source": [
    "\n",
    "class Parent():\n",
    "      \n",
    "    # Constructor\n",
    "    def __init__(self):\n",
    "        self.value = \"Inside Parent\"\n",
    "          \n",
    "    # Parent's show method\n",
    "    def show(self):\n",
    "        print(self.value)\n",
    "          \n",
    "# Defining child class\n",
    "class Child(Parent):\n",
    "      \n",
    "    # Constructor\n",
    "    def __init__(self):\n",
    "        self.value = \"Inside Child\"\n",
    "          \n",
    "    # Child's show method\n",
    "    def show(self):\n",
    "        print(self.value)\n",
    "\n",
    "        \n",
    "# Driver's code\n",
    "obj1 = Parent()\n",
    "obj2 = Child()\n",
    "  \n",
    "obj1.show()\n",
    "obj2.show()"
   ]
  }
 ],
 "metadata": {
  "kernelspec": {
   "display_name": "Python 3 (ipykernel)",
   "language": "python",
   "name": "python3"
  },
  "language_info": {
   "codemirror_mode": {
    "name": "ipython",
    "version": 3
   },
   "file_extension": ".py",
   "mimetype": "text/x-python",
   "name": "python",
   "nbconvert_exporter": "python",
   "pygments_lexer": "ipython3",
   "version": "3.10.8"
  }
 },
 "nbformat": 4,
 "nbformat_minor": 5
}
