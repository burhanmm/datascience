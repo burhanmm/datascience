{
 "cells": [
  {
   "cell_type": "code",
   "execution_count": 50,
   "id": "34f48355-ad98-46cb-b799-0eda82c5466e",
   "metadata": {},
   "outputs": [],
   "source": [
    "# Consider the below code to answer further questions:\n",
    "import numpy as np\n",
    "list_ = [ '1' , '2' , '3' , '4' , '5' ]\n",
    "array_list = np.array(object = list_)"
   ]
  },
  {
   "cell_type": "markdown",
   "id": "497b8c6a-155d-4116-9100-3fd4b4d26125",
   "metadata": {},
   "source": [
    "# Q1. Is there any difference in the data type of variables list_ and array_list? If there is then write a code to print the data types of both the variables."
   ]
  },
  {
   "cell_type": "code",
   "execution_count": 51,
   "id": "10a77a45-f688-47aa-b8fa-21b292d6ae15",
   "metadata": {},
   "outputs": [
    {
     "name": "stdout",
     "output_type": "stream",
     "text": [
      "Data type of variable list_: <class 'list'>\n",
      "Data type of variable array_list: <class 'numpy.ndarray'>\n"
     ]
    }
   ],
   "source": [
    "# The variable list_ is a Python list, whereas array_list is a NumPy array.\n",
    "\n",
    "print(\"Data type of variable list_:\", type(list_))\n",
    "print(\"Data type of variable array_list:\", type(array_list))\n"
   ]
  },
  {
   "cell_type": "markdown",
   "id": "4c1b3234-c632-431a-91f7-02573859d37b",
   "metadata": {},
   "source": [
    "# Q2. Write a code to print the data type of each and every element of both the variables list_ and arra_list."
   ]
  },
  {
   "cell_type": "code",
   "execution_count": 52,
   "id": "0573b31b-5313-4e0b-bdf3-56b7c6284bc6",
   "metadata": {},
   "outputs": [
    {
     "name": "stdout",
     "output_type": "stream",
     "text": [
      "Data type of each element in list_:\n",
      "<class 'str'>\n",
      "<class 'str'>\n",
      "<class 'str'>\n",
      "<class 'str'>\n",
      "<class 'str'>\n",
      "\n",
      "Data type of each element in array_list:\n",
      "<class 'numpy.str_'>\n",
      "<class 'numpy.str_'>\n",
      "<class 'numpy.str_'>\n",
      "<class 'numpy.str_'>\n",
      "<class 'numpy.str_'>\n"
     ]
    }
   ],
   "source": [
    "import numpy as np\n",
    "\n",
    "list_ = [ '1' , '2' , '3' , '4' , '5' ]\n",
    "array_list = np.array(object = list_)\n",
    "\n",
    "print(\"Data type of each element in list_:\")\n",
    "for element in list_:\n",
    "    print(type(element))\n",
    "\n",
    "print(\"\\nData type of each element in array_list:\")\n",
    "for element in array_list:\n",
    "    print(type(element))\n"
   ]
  },
  {
   "cell_type": "markdown",
   "id": "6f29436a-107f-4b5d-86c0-b1265288c1b3",
   "metadata": {},
   "source": [
    "# Q3. Considering the following changes in the variable, array_list:"
   ]
  },
  {
   "cell_type": "code",
   "execution_count": 53,
   "id": "00fcda50-3cb6-4b8b-ba45-35b50f4e808c",
   "metadata": {},
   "outputs": [],
   "source": [
    "array_list = np.array(object = list_, dtype = int)"
   ]
  },
  {
   "cell_type": "code",
   "execution_count": 54,
   "id": "8a40f0a3-73d6-4637-b33c-a743cddb3f23",
   "metadata": {},
   "outputs": [
    {
     "name": "stdout",
     "output_type": "stream",
     "text": [
      "Data type of each element in list_:\n",
      "<class 'str'>\n",
      "<class 'str'>\n",
      "<class 'str'>\n",
      "<class 'str'>\n",
      "<class 'str'>\n",
      "\n",
      "Data type of each element in array_list:\n",
      "<class 'numpy.int64'>\n",
      "<class 'numpy.int64'>\n",
      "<class 'numpy.int64'>\n",
      "<class 'numpy.int64'>\n",
      "<class 'numpy.int64'>\n"
     ]
    }
   ],
   "source": [
    "import numpy as np\n",
    "\n",
    "list_3 = [ '1' , '2' , '3' , '4' , '5' ]\n",
    "array_list3 = np.array(object = list_3, dtype = int)\n",
    "\n",
    "print(\"Data type of each element in list_:\")\n",
    "for element in list_3:\n",
    "    print(type(element))\n",
    "\n",
    "print(\"\\nData type of each element in array_list:\")\n",
    "for element in array_list3:\n",
    "    print(type(element))\n"
   ]
  },
  {
   "cell_type": "markdown",
   "id": "10d51229-242a-4679-92ea-7a986d3663f8",
   "metadata": {},
   "source": [
    "Yes, there will be a difference in the data type of the elements present in both the variables list_ and array_list.\n",
    "\n",
    "When we create the array_list variable with the dtype parameter set to int, NumPy will attempt to convert each element in list_ to an integer type.\n",
    "\n",
    "Here's the code to print the data types of each and every element present in both list_ and array_list:"
   ]
  },
  {
   "cell_type": "code",
   "execution_count": 55,
   "id": "656926be-33cf-4d9a-8df6-53cecd5ff1d6",
   "metadata": {},
   "outputs": [],
   "source": [
    "# Consider the below code to answer further questions:\n",
    "import numpy as np\n",
    "num_list = [ [ 1 , 2 , 3 ] , [ 4 , 5 , 6 ] ]\n",
    "num_array = np.array(object = num_list)"
   ]
  },
  {
   "cell_type": "markdown",
   "id": "c2bf0a19-33c8-426c-9d43-04adf5a14860",
   "metadata": {},
   "source": [
    "# Q4. Write a code to find the following characteristics of variable, num_array:\n",
    "(i) shape\n",
    "(ii) size"
   ]
  },
  {
   "cell_type": "code",
   "execution_count": 56,
   "id": "14f332fc-a453-463d-98df-dac0df82593f",
   "metadata": {},
   "outputs": [
    {
     "name": "stdout",
     "output_type": "stream",
     "text": [
      "(i) shape :  (2, 3)\n",
      "(i) size :  6\n"
     ]
    }
   ],
   "source": [
    "print(\"(i) shape : \",num_array.shape)\n",
    "print(\"(i) size : \",num_array.size)\n"
   ]
  },
  {
   "cell_type": "markdown",
   "id": "906bc50c-c782-4cff-9a8f-df6d28209984",
   "metadata": {},
   "source": [
    "# Q5. Write a code to create numpy array of 3*3 matrix containing zeros only, using a numpy array creation function.\n",
    "[Hint: The size of the array will be 9 and the shape will be (3,3).]"
   ]
  },
  {
   "cell_type": "code",
   "execution_count": 57,
   "id": "8fe17557-80ef-4ebb-8671-c1cad353252b",
   "metadata": {},
   "outputs": [
    {
     "data": {
      "text/plain": [
       "matrix([[0., 0., 0.],\n",
       "        [0., 0., 0.],\n",
       "        [0., 0., 0.]])"
      ]
     },
     "execution_count": 57,
     "metadata": {},
     "output_type": "execute_result"
    }
   ],
   "source": [
    "import numpy.matlib as nm\n",
    "\n",
    "nm.zeros((3,3))"
   ]
  },
  {
   "cell_type": "markdown",
   "id": "0f085095-afe1-41ef-8fad-cfeb95d78ce7",
   "metadata": {},
   "source": [
    "# Q6. Create an identity matrix of shape (5,5) using numpy functions?\n",
    "[Hint: An identity matrix is a matrix containing 1 diagonally and other elements will be 0.]"
   ]
  },
  {
   "cell_type": "code",
   "execution_count": 58,
   "id": "08cb8268-8a37-4cca-b71a-0b03f7cba196",
   "metadata": {},
   "outputs": [
    {
     "data": {
      "text/plain": [
       "array([[1., 0., 0., 0., 0.],\n",
       "       [0., 1., 0., 0., 0.],\n",
       "       [0., 0., 1., 0., 0.],\n",
       "       [0., 0., 0., 1., 0.],\n",
       "       [0., 0., 0., 0., 1.]])"
      ]
     },
     "execution_count": 58,
     "metadata": {},
     "output_type": "execute_result"
    }
   ],
   "source": [
    "np.eye(5,5)"
   ]
  }
 ],
 "metadata": {
  "kernelspec": {
   "display_name": "Python 3 (ipykernel)",
   "language": "python",
   "name": "python3"
  },
  "language_info": {
   "codemirror_mode": {
    "name": "ipython",
    "version": 3
   },
   "file_extension": ".py",
   "mimetype": "text/x-python",
   "name": "python",
   "nbconvert_exporter": "python",
   "pygments_lexer": "ipython3",
   "version": "3.10.8"
  }
 },
 "nbformat": 4,
 "nbformat_minor": 5
}
