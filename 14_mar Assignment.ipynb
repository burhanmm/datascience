{
 "cells": [
  {
   "cell_type": "markdown",
   "id": "66007eba-a158-4e29-bb0e-458ccac60279",
   "metadata": {},
   "source": [
    "# Q1. Write a Python function that takes in two arrays of data and calculates the F-value for a variance ratio test. The function should return the F-value and the corresponding p-value for the test."
   ]
  },
  {
   "cell_type": "code",
   "execution_count": 5,
   "id": "c2cdda50-7aff-4748-a21a-afd90d30f8a1",
   "metadata": {},
   "outputs": [
    {
     "ename": "SyntaxError",
     "evalue": "invalid syntax (4014164138.py, line 12)",
     "output_type": "error",
     "traceback": [
      "\u001b[0;36m  Cell \u001b[0;32mIn[5], line 12\u001b[0;36m\u001b[0m\n\u001b[0;31m    p_value = stat.\u001b[0m\n\u001b[0m                   ^\u001b[0m\n\u001b[0;31mSyntaxError\u001b[0m\u001b[0;31m:\u001b[0m invalid syntax\n"
     ]
    }
   ],
   "source": [
    "import numpy as np\n",
    "import scipy.stats as stat\n",
    "\n",
    "data1 = [2,3,4,5,3,4,5,2,7]\n",
    "data2 = [2,5,7,3,2,7,2,5,3]\n",
    "\n",
    "def variance_ratio_test(data1, data2):\n",
    "    n1, n2 = len(data1), len(data2)\n",
    "    s1, s2 = np.var(data1, ddof=1), np.var(data2, ddof=1)\n",
    "    \n",
    "    f_value = s1/s2\n",
    "    p_value = stat.\n",
    "    (f_value, n1-1, n2-1)\n",
    "    \n",
    "    return f_value, p_value\n",
    "\n",
    "f_value, p_value = variance_ratio_test(data1, data2)\n",
    "print(f\"F-value: {f_value:.2f}, p-value: {p_value:.4f}\")"
   ]
  },
  {
   "cell_type": "markdown",
   "id": "9fdc4714-9d96-41ae-9d20-6ffb9dc06481",
   "metadata": {},
   "source": [
    "# Q2. Given a significance level of 0.05 and the degrees of freedom for the numerator and denominator of an F-distribution, write a Python function that returns the critical F-value for a two-tailed test."
   ]
  },
  {
   "cell_type": "code",
   "execution_count": 6,
   "id": "d030e522-9828-49c1-9c21-c63e617b573c",
   "metadata": {},
   "outputs": [],
   "source": [
    "def f_value(dfn,dfd):\n",
    "    import scipy.stats\n",
    "    signi = 0.05\n",
    "    ci = 1-signi/2\n",
    "    critical_value = scipy.stats.f.ppf(ci, dfn, dfd)\n",
    "    return \"Critical value is : \",critical_value"
   ]
  },
  {
   "cell_type": "code",
   "execution_count": 7,
   "id": "72ea78cb-d9a5-4664-8020-ecf314f7f166",
   "metadata": {},
   "outputs": [
    {
     "data": {
      "text/plain": [
       "('Critical value is : ', 4.242094126533731)"
      ]
     },
     "execution_count": 7,
     "metadata": {},
     "output_type": "execute_result"
    }
   ],
   "source": [
    "f_value(2,27)"
   ]
  },
  {
   "cell_type": "markdown",
   "id": "b546e5a1-3866-4052-8a32-1a2886eeff3e",
   "metadata": {},
   "source": [
    "# Q3. Write a Python program that generates random samples from two normal distributions with known variances and uses an F-test to determine if the variances are equal. The program should output the F- value, degrees of freedom, and p-value for the test."
   ]
  },
  {
   "cell_type": "code",
   "execution_count": 8,
   "id": "ff94c5cc-af9e-4666-8d51-d2d5a36429d0",
   "metadata": {},
   "outputs": [],
   "source": [
    "def  gen_ran(n1,n2):\n",
    "    \n",
    "    import numpy as np\n",
    "    from scipy.stats import f as stat\n",
    "\n",
    "    samples1 = np.random.normal(0, 1, n1)\n",
    "    samples2 = np.random.normal(0, 1, n2)\n",
    "\n",
    "    var1 = np.var(samples1, ddof=1)\n",
    "    var2 = np.var(samples2, ddof=1)\n",
    "\n",
    "    f_value = var1 / var2 if var1 > var2 else var2 / var1\n",
    "    dfn = len(samples1) - 1 if var1 > var2 else len(samples2) - 1\n",
    "    dfd = len(samples2) - 1 if var1 > var2 else len(samples1) - 1\n",
    "    p_value = stat.sf(f_value, dfn, dfd) * 2\n",
    "\n",
    "    print(\"F-value: {:.3f}\".format(f_value))\n",
    "    print(\"Degrees of freedom: ({}, {})\".format(dfn, dfd))\n",
    "    print(\"p-value: {:.3f}\".format(p_value))\n"
   ]
  },
  {
   "cell_type": "code",
   "execution_count": 9,
   "id": "2495e978-df05-4330-8e7b-94a16597ffa7",
   "metadata": {},
   "outputs": [
    {
     "name": "stdout",
     "output_type": "stream",
     "text": [
      "F-value: 1.080\n",
      "Degrees of freedom: (24, 19)\n",
      "p-value: 0.875\n"
     ]
    }
   ],
   "source": [
    "gen_ran(20,25)"
   ]
  },
  {
   "cell_type": "markdown",
   "id": "975cf9be-0d60-424b-b71c-ee9d47945f22",
   "metadata": {},
   "source": [
    "# Q4.The variances of two populations are known to be 10 and 15. A sample of 12 observations is taken from each population. Conduct an F-test at the 5% significance level to determine if the variances are significantly different."
   ]
  },
  {
   "cell_type": "code",
   "execution_count": 10,
   "id": "37104ecc-60e7-4891-b2e5-cc73d17100c7",
   "metadata": {},
   "outputs": [
    {
     "name": "stdout",
     "output_type": "stream",
     "text": [
      "We reject the null hypothesis at the 5% significance level.\n",
      "The variances of the two populations are significantly different.\n"
     ]
    }
   ],
   "source": [
    "import numpy as np\n",
    "from scipy.stats import f\n",
    "\n",
    "# Define the sample sizes and variances\n",
    "n1 = n2 = 12\n",
    "var1 = 10\n",
    "var2 = 15\n",
    "\n",
    "# Calculate the F-statistic\n",
    "f_statistic = var1 / var2\n",
    "\n",
    "# Calculate the critical F-value\n",
    "alpha = 0.05\n",
    "dfn = dfd = n1 - 1\n",
    "critical_f_value = f.ppf(alpha/2, dfn, dfd, loc=0, scale=1)\n",
    "\n",
    "# Compare the calculated F-value with the critical F-value\n",
    "if f_statistic > critical_f_value or f_statistic < 1/critical_f_value:\n",
    "    print(\"We reject the null hypothesis at the 5% significance level.\")\n",
    "    print(\"The variances of the two populations are significantly different.\")\n",
    "else:\n",
    "    print(\"We fail to reject the null hypothesis at the 5% significance level.\")\n",
    "    print(\"There is not enough evidence to suggest that the variances are significantly different.\")\n"
   ]
  },
  {
   "cell_type": "markdown",
   "id": "ff117a58-275e-4934-8596-307981da569a",
   "metadata": {},
   "source": [
    "# Q5. A manufacturer claims that the variance of the diameter of a certain product is 0.005. A sample of 25 products is taken, and the sample variance is found to be 0.006. Conduct an F-test at the 1% significance level to determine if the claim is justified."
   ]
  },
  {
   "cell_type": "code",
   "execution_count": 11,
   "id": "6fa9d212-925d-45f9-8864-f252b44dad7d",
   "metadata": {},
   "outputs": [
    {
     "name": "stdout",
     "output_type": "stream",
     "text": [
      "Fail to reject the null hypothesis. The claim is justified.\n"
     ]
    }
   ],
   "source": [
    "import numpy as np\n",
    "from scipy.stats import f\n",
    "\n",
    "import scipy.stats as stats\n",
    "\n",
    "# Set up the null and alternative hypotheses\n",
    "sigma_squared = 0.005  # claimed population variance\n",
    "n = 25  # sample size\n",
    "s_squared = 0.006  # sample variance\n",
    "\n",
    "# Calculate the F-test statistic and p-value\n",
    "F = s_squared / sigma_squared\n",
    "p_value = 1 - stats.f.cdf(F, n-1, float('inf'))\n",
    "\n",
    "# Set the significance level\n",
    "alpha = 0.01\n",
    "\n",
    "# Compare the p-value to the significance level and make a decision\n",
    "if p_value < alpha:\n",
    "    print(\"Reject the null hypothesis. The population variance is greater than the claimed variance.\")\n",
    "else:\n",
    "    print(\"Fail to reject the null hypothesis. The claim is justified.\")\n"
   ]
  },
  {
   "cell_type": "markdown",
   "id": "e5492c27-7a0b-4e20-b310-b063f5ce71c2",
   "metadata": {},
   "source": [
    "# Q6. Write a Python function that takes in the degrees of freedom for the numerator and denominator of an F-distribution and calculates the mean and variance of the distribution. The function should return the mean and variance as a tuple."
   ]
  },
  {
   "cell_type": "code",
   "execution_count": 12,
   "id": "8c32d2aa-3e78-4162-b5c1-351b21ee6607",
   "metadata": {},
   "outputs": [],
   "source": [
    "def fun_dof(df1,df2):\n",
    "    mean = df1 / (df2 - 2)\n",
    "    variance = (2 * df1**2 * (df1 + df2 - 2)) / (df1 * (df2 - 2)**2 * (df2 - 4))\n",
    "    return mean, variance\n",
    "\n",
    "    "
   ]
  },
  {
   "cell_type": "code",
   "execution_count": 13,
   "id": "80e7a5b9-5344-4399-ba82-37134c2e38ea",
   "metadata": {},
   "outputs": [
    {
     "data": {
      "text/plain": [
       "(0.9565217391304348, 0.1782338644342425)"
      ]
     },
     "execution_count": 13,
     "metadata": {},
     "output_type": "execute_result"
    }
   ],
   "source": [
    "fun_dof(22,25)"
   ]
  },
  {
   "cell_type": "markdown",
   "id": "6e0ee1b0-e435-4a54-9813-be8288293c8e",
   "metadata": {},
   "source": [
    "# Q7. A random sample of 10 measurements is taken from a normal population with unknown variance. The sample variance is found to be 25. Another random sample of 15 measurements is taken from another normal population with unknown variance, and the sample variance is found to be 20. Conduct an F-test at the 10% significance level to determine if the variances are significantly different."
   ]
  },
  {
   "cell_type": "code",
   "execution_count": 14,
   "id": "22c23d38-8e28-4b4c-aa8f-3d9b14088941",
   "metadata": {},
   "outputs": [
    {
     "name": "stdout",
     "output_type": "stream",
     "text": [
      "F-statistic:  1.25\n",
      "p-value:  0.6583902808707023\n",
      "Critical lower value:  0.3305268601412525\n",
      "Critical upper value:  2.6457907352338195\n",
      "Fail to reject null hypothesis: variances are not significantly different\n"
     ]
    }
   ],
   "source": [
    "import scipy.stats as stats\n",
    "\n",
    "# Sample variances and sample sizes\n",
    "s1_squared = 25\n",
    "n1 = 10\n",
    "s2_squared = 20\n",
    "n2 = 15\n",
    "\n",
    "# Calculate the F-statistic\n",
    "F = s1_squared / s2_squared\n",
    "\n",
    "# Calculate the p-value\n",
    "df1 = n1 - 1\n",
    "df2 = n2 - 1\n",
    "p_value = stats.f.cdf(F, df1, df2)\n",
    "\n",
    "# Calculate the critical values\n",
    "alpha = 0.1\n",
    "crit_lower = stats.f.ppf(alpha/2, df1, df2)\n",
    "crit_upper = stats.f.ppf(1-alpha/2, df1, df2)\n",
    "\n",
    "# Print the results\n",
    "print(\"F-statistic: \", F)\n",
    "print(\"p-value: \", p_value)\n",
    "print(\"Critical lower value: \", crit_lower)\n",
    "print(\"Critical upper value: \", crit_upper)\n",
    "\n",
    "if F < crit_lower or F > crit_upper:\n",
    "    print(\"Reject null hypothesis: variances are significantly different\")\n",
    "else:\n",
    "    print(\"Fail to reject null hypothesis: variances are not significantly different\")\n",
    "\n"
   ]
  },
  {
   "cell_type": "markdown",
   "id": "c9bdcf68-e444-4a7e-9bae-8aff45d307d7",
   "metadata": {},
   "source": [
    "# Q8. The following data represent the waiting times in minutes at two different restaurants on a Saturday night: Restaurant A: 24, 25, 28, 23, 22, 20, 27; Restaurant B: 31, 33, 35, 30, 32, 36. Conduct an F-test at the 5% significance level to determine if the variances are significantly different."
   ]
  },
  {
   "cell_type": "code",
   "execution_count": 15,
   "id": "d5e923b7-4c1b-4d2e-9fa5-417169820363",
   "metadata": {},
   "outputs": [
    {
     "name": "stdout",
     "output_type": "stream",
     "text": [
      "F-statistic:  1.496767651159843\n",
      "p-value:  0.6625866430359175\n",
      "Critical value:  4.950288068694318\n",
      "Fail to reject null hypothesis: variances are not significantly different\n"
     ]
    }
   ],
   "source": [
    "import scipy.stats as stats\n",
    "import numpy as np\n",
    "Restaurant_A = [24, 25, 28, 23, 22, 20, 27]\n",
    "Restaurant_B = [31, 33, 35, 30, 32, 36]\n",
    "\n",
    "significance = 0.05\n",
    "df1 = len(Restaurant_A)-1\n",
    "df2 = len(Restaurant_B)-1\n",
    "\n",
    "var_A = np.var(Restaurant_A)\n",
    "var_B = np.var(Restaurant_B)\n",
    "\n",
    "F = var_A / var_B\n",
    "\n",
    "p_value = stats.f.cdf(F, df1, df2)\n",
    "\n",
    "alpha = 0.05\n",
    "crit_value = stats.f.ppf(1-alpha, df1, df2)\n",
    "\n",
    "print(\"F-statistic: \", F)\n",
    "print(\"p-value: \", p_value)\n",
    "print(\"Critical value: \", crit_value)\n",
    "\n",
    "if F > crit_value:\n",
    "    print(\"Reject null hypothesis: variances are significantly different\")\n",
    "else:\n",
    "    print(\"Fail to reject null hypothesis: variances are not significantly different\")"
   ]
  },
  {
   "cell_type": "markdown",
   "id": "2d1a5e23-b749-4b82-acb4-b4f88d7fe257",
   "metadata": {},
   "source": [
    "# Q9. The following data represent the test scores of two groups of students: Group A: 80, 85, 90, 92, 87, 83; Group B: 75, 78, 82, 79, 81, 84. Conduct an F-test at the 1% significance level to determine if the variances are significantly different."
   ]
  },
  {
   "cell_type": "code",
   "execution_count": 17,
   "id": "2abdcb25-eb51-41de-a0b3-abf22051cd33",
   "metadata": {},
   "outputs": [
    {
     "name": "stdout",
     "output_type": "stream",
     "text": [
      "F-statistic:  1.9442622950819677\n",
      "p-value:  0.7584478225464656\n",
      "Critical value:  10.967020650907992\n",
      "Fail to reject null hypothesis: variances are not significantly different\n"
     ]
    }
   ],
   "source": [
    "import scipy.stats as stats\n",
    "import numpy as np\n",
    "Group_A = [80, 85, 90, 92, 87, 83]\n",
    "Group_B = [75, 78, 82, 79, 81, 84]\n",
    "\n",
    "significance = 0.01\n",
    "df1 = len(Group_A)-1\n",
    "df2 = len(Group_A)-1\n",
    "\n",
    "var_A = np.var(Group_A)\n",
    "var_B = np.var(Group_B)\n",
    "\n",
    "F = var_A / var_B\n",
    "\n",
    "p_value = stats.f.cdf(F, df1, df2)\n",
    "\n",
    "alpha = 0.01\n",
    "crit_value = stats.f.ppf(1-alpha, df1, df2)\n",
    "\n",
    "print(\"F-statistic: \", F)\n",
    "print(\"p-value: \", p_value)\n",
    "print(\"Critical value: \", crit_value)\n",
    "\n",
    "if F > crit_value:\n",
    "    print(\"Reject null hypothesis: variances are significantly different\")\n",
    "else:\n",
    "    print(\"Fail to reject null hypothesis: variances are not significantly different\")"
   ]
  }
 ],
 "metadata": {
  "kernelspec": {
   "display_name": "Python 3 (ipykernel)",
   "language": "python",
   "name": "python3"
  },
  "language_info": {
   "codemirror_mode": {
    "name": "ipython",
    "version": 3
   },
   "file_extension": ".py",
   "mimetype": "text/x-python",
   "name": "python",
   "nbconvert_exporter": "python",
   "pygments_lexer": "ipython3",
   "version": "3.10.8"
  }
 },
 "nbformat": 4,
 "nbformat_minor": 5
}
