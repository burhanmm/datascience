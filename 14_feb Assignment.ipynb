{
 "cells": [
  {
   "cell_type": "markdown",
   "id": "884b66d2-9f1c-4d3a-9359-b7c0132bf798",
   "metadata": {},
   "source": [
    "# Q1. What is multithreading in python? Why is it used? Name the module used to handle threads in python"
   ]
  },
  {
   "cell_type": "markdown",
   "id": "b013b4cf-5872-4854-9487-90b4c44cd8ae",
   "metadata": {},
   "source": [
    "Multithreading in Python is a way to execute multiple threads of execution in a single process, which can improve performance by allowing tasks to run simultaneously. It is implemented using the threading module in Python, which provides tools for creating and managing threads and avoiding concurrency issues."
   ]
  },
  {
   "cell_type": "markdown",
   "id": "5442665f-e893-4ba1-a492-164617e317b5",
   "metadata": {},
   "source": [
    "# Q2. Why threading module used? Write the use of the following functions\n",
    "1. activeCount()\n",
    "2. currentThread()\n",
    "3. enumerate()"
   ]
  },
  {
   "cell_type": "markdown",
   "id": "b8069ad9-41cc-42d5-b41e-43009c11b3ac",
   "metadata": {},
   "source": [
    "\n",
    "the threading module in Python is used to allow a program to perform multiple tasks simultaneously, making it faster and more efficient. It allows a program to perform different operations at the same time, which can be useful when you have multiple tasks that need to be performed concurrently. Additionally, the threading module provides mechanisms to synchronize the execution of different threads, so that they don't interfere with each other or access shared resources in an incorrect way.\n",
    "activeCount(): The activeCount() function is used to get the number of thread objects that are currently active in the program. It returns an integer value representing the number of threads that are currently running or waiting to run. This function is useful when you want to monitor the number of active threads in a program and ensure that the program is not creating too many threads.\n",
    "\n",
    "currentThread(): The currentThread() function is used to get the thread object corresponding to the current thread of execution. It returns a thread object that represents the thread from which it was called. This function is useful when you want to perform some action on the current thread, such as setting a thread-specific variable or checking the name of the current thread.\n",
    "\n",
    "enumerate(): The enumerate() function is used to get a list of all thread objects that are currently active in the program. It returns a list of thread objects, with each thread object representing one active thread. This function is useful when you want to iterate over all active threads in a program and perform some action on each thread, such as checking its name or status. Additionally, you can pass a group argument to the enumerate() function to get a list of thread objects belonging to a specific thread group."
   ]
  },
  {
   "cell_type": "markdown",
   "id": "bfe65774-2ce5-4e9c-8d63-0d24a5ad3aae",
   "metadata": {},
   "source": [
    "# Q3. Explain the following functions \n",
    "1. run()\n",
    "2. start() \n",
    "3. join()\n",
    "4. isAlive()"
   ]
  },
  {
   "cell_type": "markdown",
   "id": "529f609a-b181-4c56-a621-f46c0fcdd562",
   "metadata": {},
   "source": [
    "1. run(): The run() method of a Thread object is used to define the code that should be executed when the thread is started. This method must be overridden by a subclass of the Thread class to provide the code that should be executed in the new thread.\n",
    "\n",
    "2. start(): The start() method of a Thread object is used to start the execution of the thread. This method will call the run() method of the thread in a new thread of execution. The thread will continue to run until the run() method returns or until the thread is terminated.\n",
    "\n",
    "3. join(): The join() method of a Thread object is used to wait for the thread to complete its execution. When this method is called, the current thread will block and wait for the specified thread to finish executing. If the specified thread is already finished, the join() method will return immediately.\n",
    "\n",
    "4. isAlive(): The isAlive() method of a Thread object is used to check whether the thread is still executing. This method returns True if the thread is still running, and False otherwise. This method can be used to check whether a thread has finished executing before calling the join() method.\n",
    "\n"
   ]
  },
  {
   "cell_type": "markdown",
   "id": "bf1e978b-6c0e-469e-8ca1-a719f7ebfd70",
   "metadata": {},
   "source": [
    "# Q4. Write a python program to create two threads. Thread one must print the list of squares and thread two must print the list of cubes"
   ]
  },
  {
   "cell_type": "code",
   "execution_count": 5,
   "id": "0190d6d9-2136-46f7-a4a2-70cc81ba3986",
   "metadata": {},
   "outputs": [
    {
     "name": "stdout",
     "output_type": "stream",
     "text": [
      "Given list :  [1, 2, 3, 4, 5, 6, 7, 8, 9, 10]\n",
      "List of Squares: [1, 4, 9, 16, 25, 36, 49, 64, 81, 100]\n",
      "List of Cubes: [1, 8, 27, 64, 125, 216, 343, 512, 729, 1000]\n",
      "Done!\n"
     ]
    }
   ],
   "source": [
    "import threading\n",
    "\n",
    "print(\"Given list : \",[i for i in range(1, 11)])\n",
    "\n",
    "def sqr():\n",
    "    square = [i**2 for i in range(1, 11)]\n",
    "    print(\"List of Squares:\",square)\n",
    "\n",
    "def cubes():\n",
    "    cube = [i**3  for i in range(1, 11)]\n",
    "    print(\"List of Cubes:\",cube)\n",
    "\n",
    "t1 = threading.Thread(target=sqr)\n",
    "t2 = threading.Thread(target=cubes)\n",
    "\n",
    "t1.start()\n",
    "t2.start()\n",
    "\n",
    "t1.join()\n",
    "t2.join()\n",
    "\n",
    "print(\"Done!\")\n"
   ]
  },
  {
   "cell_type": "markdown",
   "id": "63c445af-6d04-42ac-aee1-c49a40f1b5b2",
   "metadata": {},
   "source": [
    "# Q5. State advantages and disadvantages of multithreading"
   ]
  },
  {
   "cell_type": "markdown",
   "id": "5043c8d9-b8e7-4014-af40-bb97811b1355",
   "metadata": {},
   "source": [
    "Advantages:\n",
    "\n",
    "1. Improved Performance: Multithreading can improve the performance of a program by allowing different parts of the program to run in parallel on different threads. This can result in faster execution and better utilization of system resources.\n",
    "\n",
    "2. Increased Responsiveness: Multithreading can increase the responsiveness of a program by allowing it to perform multiple tasks simultaneously, such as responding to user input while performing background tasks.\n",
    "\n",
    "3. Simplified Design: Multithreading can simplify the design of a program by allowing it to be broken down into smaller, more manageable pieces that can be executed independently on different threads.\n",
    "\n",
    "4. Resource Sharing: Multithreading allows multiple threads to share resources like memory, files, and network connections, which can reduce the overhead and complexity of interprocess communication.\n",
    "\n",
    "Disadvantages:\n",
    "\n",
    "1. Complexity: Multithreading can make a program more complex by introducing potential race conditions and synchronization issues. It requires careful management of shared resources and coordination between threads to avoid conflicts and ensure correct program behavior.\n",
    "\n",
    "2. Increased Overhead: Multithreading can increase the overhead of a program by requiring additional memory and CPU resources to manage multiple threads.\n",
    "\n",
    "3. Debugging Difficulties: Multithreading can make debugging more difficult due to the increased complexity and potential for race conditions and other synchronization issues.\n",
    "\n",
    "4. Limited Parallelism: Multithreading can be limited by the number of available CPU cores and the nature of the tasks being performed. In some cases, the overhead of managing multiple threads can outweigh the benefits of parallelism.\n",
    "\n"
   ]
  },
  {
   "cell_type": "markdown",
   "id": "fbabf9a1-ae21-4e71-aaab-1ac46390c76d",
   "metadata": {},
   "source": [
    "# Q6. Explain deadlocks and race conditions."
   ]
  },
  {
   "cell_type": "markdown",
   "id": "084a6d1d-3107-442e-b432-bef9c337852d",
   "metadata": {},
   "source": [
    "Deadlocks and race conditions are two types of synchronization issues that can occur in multithreaded programs.\n",
    "\n",
    "Deadlocks: A deadlock occurs when two or more threads are waiting for each other to release resources that they have locked. This can result in a situation where none of the threads can proceed, causing the program to hang. Deadlocks are typically caused by improper management of shared resources or synchronization mechanisms.\n",
    "For example, consider two threads T1 and T2, both of which need access to two resources R1 and R2. If T1 locks R1 and T2 locks R2, and then both threads try to acquire the other resource, a deadlock can occur where neither thread can proceed.\n",
    "\n",
    "Race Conditions: A race condition occurs when the behavior of a program depends on the order and timing of events in a way that is not predictable or repeatable. This can occur when multiple threads are accessing shared resources or executing the same code at the same time.\n",
    "For example, consider two threads T1 and T2, both of which need to update a shared variable x. If both threads try to update x at the same time without proper synchronization, the final value of x may be unpredictable and depend on the order in which the threads execute.\n",
    "\n",
    "Race conditions can also occur when a thread reads a shared resource while another thread is updating it, leading to inconsistent or incorrect results.\n",
    "\n",
    "To avoid deadlocks and race conditions, multithreaded programs must properly manage shared resources and coordinate the access and synchronization of threads. This typically involves the use of locking mechanisms like mutexes, semaphores, or condition variables, which ensure that only one thread can access a shared resource at a time and that threads are properly synchronized to avoid conflicts. Properly designed and implemented synchronization mechanisms can help prevent deadlocks and race conditions and ensure correct program behavior.\n",
    "\n",
    "\n",
    "\n"
   ]
  }
 ],
 "metadata": {
  "kernelspec": {
   "display_name": "Python 3 (ipykernel)",
   "language": "python",
   "name": "python3"
  },
  "language_info": {
   "codemirror_mode": {
    "name": "ipython",
    "version": 3
   },
   "file_extension": ".py",
   "mimetype": "text/x-python",
   "name": "python",
   "nbconvert_exporter": "python",
   "pygments_lexer": "ipython3",
   "version": "3.10.8"
  }
 },
 "nbformat": 4,
 "nbformat_minor": 5
}
