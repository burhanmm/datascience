{
 "cells": [
  {
   "cell_type": "markdown",
   "id": "813e9e4e-7010-48f4-9669-b030e66baf8e",
   "metadata": {},
   "source": [
    "# Q1. What is the Probability density function?\n",
    "\n",
    "Probability density function (PDF) is a function that describes the relative likelihood of a random variable taking on a given value within a certain range."
   ]
  },
  {
   "cell_type": "markdown",
   "id": "3a4040ce-3f3e-4761-aa06-6b992a800536",
   "metadata": {},
   "source": [
    "# Q2. What are the types of Probability distribution?\n",
    "Types of probability distribution include:\n",
    "\n",
    "Normal distribution\n",
    "Binomial distribution\n",
    "Poisson distribution\n",
    "Exponential distribution\n",
    "Uniform distribution"
   ]
  },
  {
   "cell_type": "markdown",
   "id": "f33e9b50-8160-4b5b-8c72-f1acc04b0c75",
   "metadata": {},
   "source": [
    "# Q3. Write a Python function to calculate the probability density function of a normal distribution with given mean and standard deviation at a given point."
   ]
  },
  {
   "cell_type": "code",
   "execution_count": 8,
   "id": "c5d7847e-3c72-4d88-bad8-0d7b19ea9055",
   "metadata": {},
   "outputs": [
    {
     "data": {
      "text/plain": [
       "0.0011079621029845019"
      ]
     },
     "execution_count": 8,
     "metadata": {},
     "output_type": "execute_result"
    }
   ],
   "source": [
    "import math\n",
    "def normal_pdf(x, mu, sigma):\n",
    "    coefficient = 1 / math.sqrt(2 * math.pi * sigma**2)\n",
    "    exponent = -(x - mu)**2 / (2 * sigma**2)\n",
    "    return coefficient * math.exp(exponent)\n",
    "\n",
    "normal_pdf(3,15,4)"
   ]
  },
  {
   "cell_type": "markdown",
   "id": "520c6677-56a8-4bce-9ebf-79c6dc32fb0a",
   "metadata": {},
   "source": [
    "# Q4. What are the properties of Binomial distribution? Give two examples of events where binomial distribution can be applied.\n",
    "\n",
    "Properties of binomial distribution:\n",
    "\n",
    "It is a discrete probability distribution.\n",
    "It describes the probability of a certain number of successes in a fixed number of independent trials.\n",
    "Each trial has only two possible outcomes (success or failure).\n",
    "The trials are independent.\n",
    "Examples of events where binomial distribution can be applied include:\n",
    "Flipping a coin a fixed number of times and counting the number of heads.\n",
    "Conducting a survey where each participant answers either yes or no to a fixed number of questions."
   ]
  },
  {
   "cell_type": "markdown",
   "id": "27a482a8-7136-4e90-8324-5fda4c559d97",
   "metadata": {},
   "source": [
    "# Q5. Generate a random sample of size 1000 from a binomial distribution with probability of success 0.4 and plot a histogram of the results using matplotlib.\n",
    "\n",
    "Here is Python code to generate a random sample of size 1000 from a binomial distribution with probability of success 0.4 and plot a histogram of the results using matplotlib:"
   ]
  },
  {
   "cell_type": "code",
   "execution_count": 3,
   "id": "df3afbe9-3890-4fc6-bf77-8bf7c357bacf",
   "metadata": {},
   "outputs": [
    {
     "data": {
      "image/png": "[encoded data removed]",
      "text/plain": [
       "<Figure size 640x480 with 1 Axes>"
      ]
     },
     "metadata": {},
     "output_type": "display_data"
    }
   ],
   "source": [
    "import numpy as np\n",
    "import matplotlib.pyplot as plt\n",
    "\n",
    "n = 1000\n",
    "p = 0.4\n",
    "\n",
    "sample = np.random.binomial(n, p, size=1000)\n",
    "plt.hist(sample, bins=20)\n",
    "plt.show()\n"
   ]
  },
  {
   "cell_type": "markdown",
   "id": "17623faf-d76d-4cc2-9763-2f985c646c98",
   "metadata": {},
   "source": [
    "# Q6. Write a Python function to calculate the cumulative distribution function of a Poisson distribution with given mean at a given point."
   ]
  },
  {
   "cell_type": "code",
   "execution_count": 7,
   "id": "58071f99-f2f8-4143-ac50-d38d06a3d101",
   "metadata": {},
   "outputs": [
    {
     "data": {
      "text/plain": [
       "4.8944371280292126e-06"
      ]
     },
     "execution_count": 7,
     "metadata": {},
     "output_type": "execute_result"
    }
   ],
   "source": [
    "import math\n",
    "\n",
    "def poisson_cdf(x, mu):\n",
    "    cdf = 0\n",
    "    for i in range(x+1):\n",
    "        cdf += (mu**i / math.factorial(i)) * math.exp(-mu)\n",
    "    return cdf\n",
    "\n",
    "poisson_cdf(1,15)"
   ]
  },
  {
   "cell_type": "markdown",
   "id": "382ee650-3321-43c8-be5e-0b891b3f92f2",
   "metadata": {},
   "source": [
    "# Q7. How Binomial distribution different from Poisson distribution?\n",
    "\n",
    "The main differences between binomial and Poisson distributions are:\n",
    "\n",
    "Binomial distribution describes the probability of a certain number of successes in a fixed number of independent trials with only two possible outcomes (success or failure), while Poisson distribution describes the probability of a certain number of events occurring in a fixed interval of time or space.\n",
    "In binomial distribution, the number of trials and the probability of success are fixed, while in Poisson distribution, the rate parameter (which is equivalent to the mean and variance) is fixed.\n",
    "Binomial distribution is discrete, while Poisson distribution is often used as an approximation for discrete events with a large number of possible outcomes.\n"
   ]
  },
  {
   "cell_type": "code",
   "execution_count": 5,
   "id": "05e3e687-d84d-403a-99f8-b37247b71f2c",
   "metadata": {},
   "outputs": [
    {
     "name": "stdout",
     "output_type": "stream",
     "text": [
      "Sample mean: 5.074\n",
      "Sample variance: 5.344524\n"
     ]
    }
   ],
   "source": [
    "# Q8. Generate a random sample of size 1000 from a Poisson distribution with mean 5 and calculate the\n",
    "\n",
    "import numpy as np\n",
    "\n",
    "sample = np.random.poisson(5, size=1000)\n",
    "sample_mean = np.mean(sample)\n",
    "sample_var = np.var(sample)\n",
    "\n",
    "print(\"Sample mean:\", sample_mean)\n",
    "print(\"Sample variance:\", sample_var)\n"
   ]
  },
  {
   "cell_type": "markdown",
   "id": "1004665a-d18d-45e7-ab9b-078ad0c43d25",
   "metadata": {},
   "source": [
    "# Q9. How mean and variance are related in Binomial distribution and Poisson distribution?\n",
    "\n",
    " In binomial distribution, the mean and variance are related by the formula mean = np and variance = np*(1-p), where n is the number of trials and p is the probability of success. In Poisson distribution, the mean and variance are equal and are both equal to the rate parameter lambda."
   ]
  },
  {
   "cell_type": "markdown",
   "id": "b86b04c7-8d3d-4f2f-8df8-b1ed7bccc3a8",
   "metadata": {},
   "source": [
    "# Q10. In normal distribution with respect to mean position, where does the least frequent data appear?\n",
    "\n",
    " In a normal distribution, the least frequent data appears at the tails of the distribution, which are the values farthest away from the mean. Specifically, the least frequent data appears at the tails that are more than 2 or 3 standard deviations away from the mean."
   ]
  },
  {
   "cell_type": "code",
   "execution_count": null,
   "id": "3a44abb4-865b-4ff2-b2e6-9002d0e12e4a",
   "metadata": {},
   "outputs": [],
   "source": []
  }
 ],
 "metadata": {
  "kernelspec": {
   "display_name": "Python 3 (ipykernel)",
   "language": "python",
   "name": "python3"
  },
  "language_info": {
   "codemirror_mode": {
    "name": "ipython",
    "version": 3
   },
   "file_extension": ".py",
   "mimetype": "text/x-python",
   "name": "python",
   "nbconvert_exporter": "python",
   "pygments_lexer": "ipython3",
   "version": "3.10.8"
  }
 },
 "nbformat": 4,
 "nbformat_minor": 5
}
