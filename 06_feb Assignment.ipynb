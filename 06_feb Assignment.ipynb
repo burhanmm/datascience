{
 "cells": [
  {
   "cell_type": "markdown",
   "id": "b78de77c-6e75-400c-a951-0657998a33c4",
   "metadata": {},
   "source": [
    "Q1. Create a function which will take a list as an argument and return the product of all the numbers\n",
    "after creating a flat list.\n",
    "Use the below-given list as an argument for your function.\n",
    "list1 = [1,2,3,4, [44,55,66, True], False, (34,56,78,89,34), {1,2,3,3,2,1}, {1:34, \"key2\": [55, 67, 78, 89], 4: (45,\n",
    "22, 61, 34)}, [56, 'data science'], 'Machine Learning']\n",
    "Note: you must extract numeric keys and values of the dictionary also."
   ]
  },
  {
   "cell_type": "code",
   "execution_count": 3,
   "id": "b9d2f9c4-46f7-47a4-90a6-2b05619b7d93",
   "metadata": {},
   "outputs": [
    {
     "name": "stdout",
     "output_type": "stream",
     "text": [
      "flatList :  [1, 2, 3, 4, 44, 55, 66, 34, 56, 78, 89, 34, 1, 2, 3, 1, 34, 55, 67, 78, 89, 4, 45, 22, 61, 34, 56]\n",
      "Product of  flat list is :  4134711838987085478833841242112000\n"
     ]
    }
   ],
   "source": [
    "lis = [1,2,3,4, [44,55,66, True], False, (34,56,78,89,34), {1,2,3,3,2,1}, {1:34, \"key2\": [55, 67, 78, 89], 4: (45,22, 61, 34)}, [56, 'data science'], 'Machine Learning']\n",
    "\n",
    "def new_fun(list_input):\n",
    "    from functools import reduce\n",
    "    fl = []\n",
    "    for i in list_input:\n",
    "            if type(i) == int:\n",
    "                fl.append(i)\n",
    "\n",
    "            elif type(i) == list:\n",
    "                for j in i:\n",
    "                    if type(j) == int :\n",
    "                        fl.append(j)\n",
    "\n",
    "            elif type(i) == set:\n",
    "                for j in list(i):\n",
    "                    if type(j) == int :\n",
    "                        fl.append(j)\n",
    "\n",
    "            elif type(i) == tuple:\n",
    "                for j in list(i):\n",
    "                    if type(j) == int :\n",
    "                        fl.append(j)\n",
    "\n",
    "            elif type(i) is dict:\n",
    "                for key, value in i.items():\n",
    "                    if type(key) is int:\n",
    "                        fl.append(key)\n",
    "\n",
    "                    if type(value) is int:\n",
    "                        fl.append(value) \n",
    "                    elif type(value) is not str:\n",
    "                        for item in value:\n",
    "                            if type(item) is int:\n",
    "                                fl.append(item)\n",
    "\n",
    "    pro_num = reduce(lambda x,y:x*y, fl)\n",
    "    print(\"flatList : \", fl)\n",
    "    print(\"Product of  flat list is : \",pro_num)\n",
    "    \n",
    "\n",
    "new_fun(lis)"
   ]
  },
  {
   "cell_type": "markdown",
   "id": "2eaa7c24-4355-4429-ab68-4e9471cb186e",
   "metadata": {},
   "source": [
    "Q2. Write a python program for encrypting a message sent to you by your friend. The logic of encryption\n",
    "should be such that, for a the output should be z. For b, the output should be y. For c, the output should\n",
    "be x respectively. Also, the whitespace should be replaced with a dollar sign. Keep the punctuation\n",
    "marks unchanged.\n",
    "Input Sentence: I want to become a Data Scientist.\n",
    "Encrypt the above input sentence using the program you just created.\n",
    "Note: Convert the given input sentence into lowercase before encrypting. The final output should be\n",
    "lowercase."
   ]
  },
  {
   "cell_type": "code",
   "execution_count": 4,
   "id": "5a0fb1da-8a0b-42ee-8719-44fb865621eb",
   "metadata": {},
   "outputs": [
    {
     "name": "stdout",
     "output_type": "stream",
     "text": [
      "Received message :  I want to become a Data Scientist.\n",
      "encrypted message :  i$wznt$to$yexome$z$dztz$sxientist.\n"
     ]
    }
   ],
   "source": [
    "text = \"I want to become a Data Scientist.\"\n",
    "\n",
    "def secret(data):\n",
    "    data = data.lower()\n",
    "    string = \"\"\n",
    "    \n",
    "    for i in data:\n",
    "        if i=='a':\n",
    "            string+=\"z\"\n",
    "        elif i=='b':\n",
    "            string+=\"y\"\n",
    "        elif i=='c':\n",
    "            string+=\"x\"\n",
    "        elif i==' ':\n",
    "            string+=\"$\"\n",
    "        else:\n",
    "            string+=i\n",
    "    \n",
    "    return string\n",
    "\n",
    "obj = secret(text)\n",
    "print(\"Received message : \", text)\n",
    "print(\"encrypted message : \", obj)"
   ]
  }
 ],
 "metadata": {
  "kernelspec": {
   "display_name": "Python 3 (ipykernel)",
   "language": "python",
   "name": "python3"
  },
  "language_info": {
   "codemirror_mode": {
    "name": "ipython",
    "version": 3
   },
   "file_extension": ".py",
   "mimetype": "text/x-python",
   "name": "python",
   "nbconvert_exporter": "python",
   "pygments_lexer": "ipython3",
   "version": "3.10.8"
  }
 },
 "nbformat": 4,
 "nbformat_minor": 5
}
